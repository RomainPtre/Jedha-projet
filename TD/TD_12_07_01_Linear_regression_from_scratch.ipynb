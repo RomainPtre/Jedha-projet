{
  "nbformat": 4,
  "nbformat_minor": 0,
  "metadata": {
    "colab": {
      "provenance": [],
      "include_colab_link": true
    },
    "kernelspec": {
      "name": "python3",
      "display_name": "Python 3"
    }
  },
  "cells": [
    {
      "cell_type": "markdown",
      "metadata": {
        "id": "view-in-github",
        "colab_type": "text"
      },
      "source": [
        "<a href=\"https://colab.research.google.com/github/RomainPtre/Jedha-projet/blob/main/TD/TD_12_07_01_Linear_regression_from_scratch.ipynb\" target=\"_parent\"><img src=\"https://colab.research.google.com/assets/colab-badge.svg\" alt=\"Open In Colab\"/></a>"
      ]
    },
    {
      "cell_type": "markdown",
      "metadata": {
        "id": "OAW27oqRGbOp"
      },
      "source": [
        "# Doing a Linear regression without Scikit Learn"
      ]
    },
    {
      "cell_type": "markdown",
      "metadata": {
        "id": "dYaJBHGNGk3O"
      },
      "source": [
        "There's nothing better to understand the gradient descent algorithm than to code it from scratch. It may seem difficult at first glance but don't worry, we will guide you step by step. It is also a fantastic occasion to practice python key concepts like **Classes**!\n",
        "\n",
        "Don't hesitate to come back to your Machine Learning course on linear regression to refresh your memory.\n",
        "\n",
        "Our goal will be to code a simple linear regression such as :\n",
        "\n",
        "$f(x) = \\beta_1 \\times x + \\beta_0$"
      ]
    },
    {
      "cell_type": "markdown",
      "metadata": {
        "id": "dFAeKaG2GuI_"
      },
      "source": [
        "* Import the following libraries:\n",
        "  * Numpy"
      ]
    },
    {
      "cell_type": "code",
      "metadata": {
        "id": "9OHkKal3F3Su"
      },
      "source": [
        "import numpy as np\n",
        "import plotly.express as px\n",
        "import plotly.graph_objects as go"
      ],
      "execution_count": 1,
      "outputs": []
    },
    {
      "cell_type": "markdown",
      "metadata": {
        "id": "7_za_8SvGz_j"
      },
      "source": [
        "* Define a `Model` class that will take two methods:\n",
        "  1. `__init__(self)`, the class builder which will allow you to define an attribute $\\beta_0$ (`beta_0` in your code) and an attribute $\\beta_1$ (`beta_1` in your code). These attributes represent the coefficients/parameters of the model an we will be initialize them randomly using Numpy (cf: `np.random.randn`).\n",
        "  2. `__call__(self, x)`, a special method that will turn our class into a callable which will return $\\beta_1 \\times x + \\beta_0$ when called."
      ]
    },
    {
      "cell_type": "code",
      "source": [
        "class Model():\n",
        "  def __init__(self):   # le constructeur de la classe\n",
        "    self.beta_0 = np.random.randn(1)  # on donne 1 comme argument pour avoir des array en sortie, si on met 0 on aura des float, ca peut poser probleme avec les ope rations qui viendront plus tard\n",
        "    self.beta_1 = np.random.randn(1)\n",
        "\n",
        "  def __call__(self, x):\n",
        "    return self.beta_1* x + self.beta_0"
      ],
      "metadata": {
        "id": "CWIBXikTXgKl"
      },
      "execution_count": 2,
      "outputs": []
    },
    {
      "cell_type": "markdown",
      "metadata": {
        "id": "Uy2AancAImU6"
      },
      "source": [
        "* Create an instance of your class `Model`"
      ]
    },
    {
      "cell_type": "code",
      "metadata": {
        "id": "BD_hpDRnIhAi"
      },
      "source": [
        "model = Model()"
      ],
      "execution_count": 3,
      "outputs": []
    },
    {
      "cell_type": "code",
      "source": [
        "model.__call__(2)   # j'ai prix un x au hasard là, pas besoin d'e crire __call__ ici car model est un callable maintenant, on peut juste faire model(2)\n"
      ],
      "metadata": {
        "colab": {
          "base_uri": "https://localhost:8080/"
        },
        "id": "GG9x3_EFZoeI",
        "outputId": "c3dca1bb-64cb-4837-c871-d8a871e5e403"
      },
      "execution_count": 4,
      "outputs": [
        {
          "output_type": "execute_result",
          "data": {
            "text/plain": [
              "array([0.56245572])"
            ]
          },
          "metadata": {},
          "execution_count": 4
        }
      ]
    },
    {
      "cell_type": "markdown",
      "metadata": {
        "id": "vkltTi5mIsUz"
      },
      "source": [
        "* Try doing a first \"regression\" by running `model(3.0)`.\n",
        "NB: If you don't have the same values as this notebook in output, this is normal since you have initialized your values randomly."
      ]
    },
    {
      "cell_type": "code",
      "source": [
        "model(3.0)"
      ],
      "metadata": {
        "colab": {
          "base_uri": "https://localhost:8080/"
        },
        "id": "Jcdye2wDbID-",
        "outputId": "72fd8ce1-d38b-4a09-f25b-e22437fc7745"
      },
      "execution_count": 5,
      "outputs": [
        {
          "output_type": "execute_result",
          "data": {
            "text/plain": [
              "array([0.55081127])"
            ]
          },
          "metadata": {},
          "execution_count": 5
        }
      ]
    },
    {
      "cell_type": "code",
      "source": [
        "model.beta_1 * 3 + model.beta_0 # idem !"
      ],
      "metadata": {
        "colab": {
          "base_uri": "https://localhost:8080/"
        },
        "id": "PnqEO-4Cfwbm",
        "outputId": "a1e306f0-c358-4405-8041-80b15fef9fcc"
      },
      "execution_count": 6,
      "outputs": [
        {
          "output_type": "execute_result",
          "data": {
            "text/plain": [
              "array([0.55081127])"
            ]
          },
          "metadata": {},
          "execution_count": 6
        }
      ]
    },
    {
      "cell_type": "markdown",
      "metadata": {
        "id": "WM4sjYAMI8SU"
      },
      "source": [
        "* This value corresponds to a random prediction of your model. But we don't have any data yet. This time, let's use `sklearn` to import data.\n",
        "  * Import `sklearn.datasets`\n",
        "  * Use the `load_diabetes()` function to load the diebetes dataset in an object called `diabetes`.\n",
        "  * Print the `DESCR` attribute of the diabetes object\n",
        "  * Save the content of the `data` attribute in an object named `diabetes_data`\n",
        "  * Save the content of the `target` attribute in an object named `y`"
      ]
    },
    {
      "cell_type": "code",
      "source": [
        "import sklearn.datasets as sk"
      ],
      "metadata": {
        "id": "e4N4c5kJbicr"
      },
      "execution_count": 7,
      "outputs": []
    },
    {
      "cell_type": "code",
      "source": [
        "diabetes = sk.load_diabetes()"
      ],
      "metadata": {
        "id": "3cdDrBilbqhD"
      },
      "execution_count": 8,
      "outputs": []
    },
    {
      "cell_type": "code",
      "source": [
        "type(diabetes)"
      ],
      "metadata": {
        "colab": {
          "base_uri": "https://localhost:8080/",
          "height": 186
        },
        "id": "GzhMm_7j9qv1",
        "outputId": "e827b89c-d0a3-4c33-87e7-b2d3789489f1"
      },
      "execution_count": 9,
      "outputs": [
        {
          "output_type": "execute_result",
          "data": {
            "text/plain": [
              "sklearn.utils._bunch.Bunch"
            ],
            "text/html": [
              "<div style=\"max-width:800px; border: 1px solid var(--colab-border-color);\"><style>\n",
              "      pre.function-repr-contents {\n",
              "        overflow-x: auto;\n",
              "        padding: 8px 12px;\n",
              "        max-height: 500px;\n",
              "      }\n",
              "\n",
              "      pre.function-repr-contents.function-repr-contents-collapsed {\n",
              "        cursor: pointer;\n",
              "        max-height: 100px;\n",
              "      }\n",
              "    </style>\n",
              "    <pre style=\"white-space: initial; background:\n",
              "         var(--colab-secondary-surface-color); padding: 8px 12px;\n",
              "         border-bottom: 1px solid var(--colab-border-color);\"><b>sklearn.utils._bunch.Bunch</b><br/>def __init__(**kwargs)</pre><pre class=\"function-repr-contents function-repr-contents-collapsed\" style=\"\"><a class=\"filepath\" style=\"display:none\" href=\"#\">/usr/local/lib/python3.10/dist-packages/sklearn/utils/_bunch.py</a>Container object exposing keys as attributes.\n",
              "\n",
              "Bunch objects are sometimes used as an output for functions and methods.\n",
              "They extend dictionaries by enabling values to be accessed by key,\n",
              "`bunch[&quot;value_key&quot;]`, or by an attribute, `bunch.value_key`.\n",
              "\n",
              "Examples\n",
              "--------\n",
              "&gt;&gt;&gt; from sklearn.utils import Bunch\n",
              "&gt;&gt;&gt; b = Bunch(a=1, b=2)\n",
              "&gt;&gt;&gt; b[&#x27;b&#x27;]\n",
              "2\n",
              "&gt;&gt;&gt; b.b\n",
              "2\n",
              "&gt;&gt;&gt; b.a = 3\n",
              "&gt;&gt;&gt; b[&#x27;a&#x27;]\n",
              "3\n",
              "&gt;&gt;&gt; b.c = 6\n",
              "&gt;&gt;&gt; b[&#x27;c&#x27;]\n",
              "6</pre>\n",
              "      <script>\n",
              "      if (google.colab.kernel.accessAllowed && google.colab.files && google.colab.files.view) {\n",
              "        for (const element of document.querySelectorAll('.filepath')) {\n",
              "          element.style.display = 'block'\n",
              "          element.onclick = (event) => {\n",
              "            event.preventDefault();\n",
              "            event.stopPropagation();\n",
              "            google.colab.files.view(element.textContent, 1);\n",
              "          };\n",
              "        }\n",
              "      }\n",
              "      for (const element of document.querySelectorAll('.function-repr-contents')) {\n",
              "        element.onclick = (event) => {\n",
              "          event.preventDefault();\n",
              "          event.stopPropagation();\n",
              "          element.classList.toggle('function-repr-contents-collapsed');\n",
              "        };\n",
              "      }\n",
              "      </script>\n",
              "      </div>"
            ]
          },
          "metadata": {},
          "execution_count": 9
        }
      ]
    },
    {
      "cell_type": "code",
      "source": [
        "print(diabetes.DESCR)"
      ],
      "metadata": {
        "colab": {
          "base_uri": "https://localhost:8080/"
        },
        "id": "mcZse548b-a1",
        "outputId": "d596d848-06cd-442f-9a82-997cd5c53649"
      },
      "execution_count": 10,
      "outputs": [
        {
          "output_type": "stream",
          "name": "stdout",
          "text": [
            ".. _diabetes_dataset:\n",
            "\n",
            "Diabetes dataset\n",
            "----------------\n",
            "\n",
            "Ten baseline variables, age, sex, body mass index, average blood\n",
            "pressure, and six blood serum measurements were obtained for each of n =\n",
            "442 diabetes patients, as well as the response of interest, a\n",
            "quantitative measure of disease progression one year after baseline.\n",
            "\n",
            "**Data Set Characteristics:**\n",
            "\n",
            "  :Number of Instances: 442\n",
            "\n",
            "  :Number of Attributes: First 10 columns are numeric predictive values\n",
            "\n",
            "  :Target: Column 11 is a quantitative measure of disease progression one year after baseline\n",
            "\n",
            "  :Attribute Information:\n",
            "      - age     age in years\n",
            "      - sex\n",
            "      - bmi     body mass index\n",
            "      - bp      average blood pressure\n",
            "      - s1      tc, total serum cholesterol\n",
            "      - s2      ldl, low-density lipoproteins\n",
            "      - s3      hdl, high-density lipoproteins\n",
            "      - s4      tch, total cholesterol / HDL\n",
            "      - s5      ltg, possibly log of serum triglycerides level\n",
            "      - s6      glu, blood sugar level\n",
            "\n",
            "Note: Each of these 10 feature variables have been mean centered and scaled by the standard deviation times the square root of `n_samples` (i.e. the sum of squares of each column totals 1).\n",
            "\n",
            "Source URL:\n",
            "https://www4.stat.ncsu.edu/~boos/var.select/diabetes.html\n",
            "\n",
            "For more information see:\n",
            "Bradley Efron, Trevor Hastie, Iain Johnstone and Robert Tibshirani (2004) \"Least Angle Regression,\" Annals of Statistics (with discussion), 407-499.\n",
            "(https://web.stanford.edu/~hastie/Papers/LARS/LeastAngle_2002.pdf)\n",
            "\n"
          ]
        }
      ]
    },
    {
      "cell_type": "code",
      "source": [
        "diabetes.keys()"
      ],
      "metadata": {
        "colab": {
          "base_uri": "https://localhost:8080/"
        },
        "id": "J9Z_vFKgcGm-",
        "outputId": "3250e4a5-7550-436d-d908-969f2acf74d0"
      },
      "execution_count": 11,
      "outputs": [
        {
          "output_type": "execute_result",
          "data": {
            "text/plain": [
              "dict_keys(['data', 'target', 'frame', 'DESCR', 'feature_names', 'data_filename', 'target_filename', 'data_module'])"
            ]
          },
          "metadata": {},
          "execution_count": 11
        }
      ]
    },
    {
      "cell_type": "code",
      "source": [
        "diabetes_data = diabetes.data\n",
        "y = diabetes.target"
      ],
      "metadata": {
        "id": "zmHaM9VZcJN4"
      },
      "execution_count": 12,
      "outputs": []
    },
    {
      "cell_type": "markdown",
      "metadata": {
        "id": "LJM9AOYjJ5z3"
      },
      "source": [
        "* We have too much data in this dataset `diabetes_data`, take only the third column of the dataset and store it in a `diabetes_X` variable."
      ]
    },
    {
      "cell_type": "code",
      "source": [
        "diabetes_data.shape"
      ],
      "metadata": {
        "colab": {
          "base_uri": "https://localhost:8080/"
        },
        "id": "Kf1lyXKqcSXm",
        "outputId": "9ecf3cf4-457c-43e4-f580-9ae25095bdc9"
      },
      "execution_count": 13,
      "outputs": [
        {
          "output_type": "execute_result",
          "data": {
            "text/plain": [
              "(442, 10)"
            ]
          },
          "metadata": {},
          "execution_count": 13
        }
      ]
    },
    {
      "cell_type": "code",
      "source": [
        "diabetes_X = diabetes_data[:,2]"
      ],
      "metadata": {
        "id": "2YIdzMoYcauS"
      },
      "execution_count": 14,
      "outputs": []
    },
    {
      "cell_type": "code",
      "source": [
        "diabetes_X[:10]"
      ],
      "metadata": {
        "colab": {
          "base_uri": "https://localhost:8080/"
        },
        "id": "j-4vS4KZgdM6",
        "outputId": "5122c82d-1d91-48fe-fcc3-290e1e0619bf"
      },
      "execution_count": 15,
      "outputs": [
        {
          "output_type": "execute_result",
          "data": {
            "text/plain": [
              "array([ 0.06169621, -0.05147406,  0.04445121, -0.01159501, -0.03638469,\n",
              "       -0.04069594, -0.04716281, -0.00189471,  0.06169621,  0.03906215])"
            ]
          },
          "metadata": {},
          "execution_count": 15
        }
      ]
    },
    {
      "cell_type": "markdown",
      "metadata": {
        "id": "S4goQEJvKsS8"
      },
      "source": [
        "* Visualize your data using `plotly`."
      ]
    },
    {
      "cell_type": "code",
      "source": [
        "diabetes_Xlab = diabetes.feature_names[2] # because we extracted only the third column of data\n",
        "diabetes_Xlab"
      ],
      "metadata": {
        "colab": {
          "base_uri": "https://localhost:8080/",
          "height": 35
        },
        "id": "gATMWQxugrrX",
        "outputId": "83e985bb-a436-46b1-e0fb-015b9a807617"
      },
      "execution_count": 16,
      "outputs": [
        {
          "output_type": "execute_result",
          "data": {
            "text/plain": [
              "'bmi'"
            ],
            "application/vnd.google.colaboratory.intrinsic+json": {
              "type": "string"
            }
          },
          "metadata": {},
          "execution_count": 16
        }
      ]
    },
    {
      "cell_type": "code",
      "source": [
        "px.scatter(x=diabetes_X, y=y, labels={'x': 'BMI','y' : 'target'})"
      ],
      "metadata": {
        "colab": {
          "base_uri": "https://localhost:8080/",
          "height": 542
        },
        "id": "fafihn6pvfUd",
        "outputId": "cffab042-9653-4471-a75e-c6cf8f3b8bfb"
      },
      "execution_count": 17,
      "outputs": [
        {
          "output_type": "display_data",
          "data": {
            "text/html": [
              "<html>\n",
              "<head><meta charset=\"utf-8\" /></head>\n",
              "<body>\n",
              "    <div>            <script src=\"https://cdnjs.cloudflare.com/ajax/libs/mathjax/2.7.5/MathJax.js?config=TeX-AMS-MML_SVG\"></script><script type=\"text/javascript\">if (window.MathJax && window.MathJax.Hub && window.MathJax.Hub.Config) {window.MathJax.Hub.Config({SVG: {font: \"STIX-Web\"}});}</script>                <script type=\"text/javascript\">window.PlotlyConfig = {MathJaxConfig: 'local'};</script>\n",
              "        <script charset=\"utf-8\" src=\"https://cdn.plot.ly/plotly-2.24.1.min.js\"></script>                <div id=\"ac78feda-54df-4fe0-81ab-c05e8f14abd0\" class=\"plotly-graph-div\" style=\"height:525px; width:100%;\"></div>            <script type=\"text/javascript\">                                    window.PLOTLYENV=window.PLOTLYENV || {};                                    if (document.getElementById(\"ac78feda-54df-4fe0-81ab-c05e8f14abd0\")) {                    Plotly.newPlot(                        \"ac78feda-54df-4fe0-81ab-c05e8f14abd0\",                        [{\"hovertemplate\":\"BMI=%{x}\\u003cbr\\u003etarget=%{y}\\u003cextra\\u003e\\u003c\\u002fextra\\u003e\",\"legendgroup\":\"\",\"marker\":{\"color\":\"#636efa\",\"symbol\":\"circle\"},\"mode\":\"markers\",\"name\":\"\",\"orientation\":\"v\",\"showlegend\":false,\"x\":[0.061696206518683294,-0.051474061238800654,0.04445121333659049,-0.011595014505211082,-0.03638469220446948,-0.040695940499992665,-0.047162812943277475,-0.0018947058402839008,0.061696206518683294,0.039062152967186486,-0.08380842345522464,0.0175059114895705,-0.028840007687303888,-0.0018947058402839008,-0.02560657146566148,-0.018061886948495892,0.0422955891888289,0.012116851120166501,-0.010517202431330305,-0.018061886948495892,-0.05686312160820465,-0.022373135244019075,-0.004050329988045492,0.06061839444480248,0.03582871674554409,-0.012672826579091896,-0.07734155101193986,0.05954058237092167,-0.0212953231701383,-0.006205954135807083,0.04445121333659049,-0.06548561819925106,0.12528711887765046,-0.050396249164919873,-0.06332999405148947,-0.03099563183506548,0.022894971858974496,0.011039039046285686,0.07139651518361048,0.014272475267928093,-0.008361578283568675,-0.06764124234701265,-0.010517202431330305,-0.023450947317899894,0.0681630789619681,-0.035306880130588664,-0.011595014505211082,-0.07303030271641665,-0.041773752573873474,0.014272475267928093,-0.007283766209687899,0.016428099415689682,-0.00943939035744949,-0.015906262800734303,0.02505059600673609,-0.049318437091039065,0.04121777711494808,-0.06332999405148947,-0.06440780612537028,-0.02560657146566148,-0.004050329988045492,0.004572166603000912,-0.007283766209687899,-0.03746250427835029,-0.02560657146566148,-0.02452875939178067,-0.018061886948495892,-0.014828450726853487,-0.029917819761184662,-0.04608500086939666,-0.06979686649477428,0.03367309259778249,-0.004050329988045492,-0.020217511096257485,0.002416542455239321,-0.03099563183506548,0.028284032228378497,-0.03638469220446948,-0.05794093368208547,-0.03746250427835029,0.012116851120166501,-0.022373135244019075,-0.035306880130588664,0.009961226972404908,-0.039618128426111884,0.07139651518361048,-0.07518592686417827,-0.006205954135807083,-0.040695940499992665,-0.048240625017158284,-0.02560657146566148,0.05199589785375607,0.004572166603000912,-0.06440780612537028,-0.01698407487461508,-0.05794093368208547,0.009961226972404908,0.08864150836570328,-0.0051281420619263066,-0.06440780612537028,0.0175059114895705,-0.04500718879551588,0.028284032228378497,0.04121777711494808,0.06492964274032566,-0.0320734439089463,-0.07626373893805906,0.04984027370599448,0.045529025410471304,-0.00943939035744949,-0.0320734439089463,0.004572166603000912,0.020739347711212906,0.014272475267928093,0.11019774984331929,0.0013387303813585058,0.05846277029704089,-0.0212953231701383,-0.010517202431330305,-0.047162812943277475,0.004572166603000912,0.0175059114895705,0.08109682384853766,0.03475090467166331,0.023972783932855315,-0.008361578283568675,-0.061174369903727877,-0.0018947058402839008,-0.06225218197760866,0.016428099415689682,0.09618619288286882,-0.06979686649477428,-0.0212953231701383,-0.05362968538656229,0.04337340126270967,0.0563071461492793,-0.08165279930746305,0.04984027370599448,0.11127556191720007,0.061696206518683294,0.014272475267928093,0.04768464955823289,0.012116851120166501,0.005649978676881689,0.04660683748435208,0.12852055509929283,0.05954058237092167,0.09295275666122646,0.015350287341808908,-0.0051281420619263066,0.07031870310972965,-0.004050329988045492,-0.0008168937664030856,-0.04392937672163507,0.020739347711212906,0.06061839444480248,-0.010517202431330305,-0.033151255982827074,-0.06548561819925106,0.04337340126270967,-0.06225218197760866,0.06385183066644486,0.030439656376140087,0.0724743272574913,-0.01913969902237667,-0.06656343027313188,-0.06009655782984706,0.06924089103584885,0.05954058237092167,-0.0266843835395423,-0.020217511096257485,-0.04608500086939666,0.07139651518361048,-0.07949717515970146,0.009961226972404908,-0.03854031635223107,0.01966153563733209,0.027206220154497678,-0.008361578283568675,-0.015906262800734303,0.004572166603000912,-0.04285156464775429,0.005649978676881689,-0.035306880130588664,0.023972783932855315,-0.018061886948495892,0.0422955891888289,-0.05470749746044306,-0.002972517914164677,-0.06656343027313188,-0.012672826579091896,-0.041773752573873474,-0.03099563183506548,-0.0051281420619263066,-0.05901874575596628,0.02505059600673609,-0.04608500086939666,0.0034943545291200974,0.05415152200151766,-0.04500718879551588,-0.05794093368208547,-0.05578530953432388,0.0013387303813585058,0.030439656376140087,0.006727790750762504,0.04660683748435208,0.026128408080616904,0.045529025410471304,0.04013996504106731,-0.018061886948495892,0.014272475267928093,0.0369065288194249,0.0034943545291200974,-0.07087467856865506,-0.033151255982827074,0.09403056873510728,0.03582871674554409,0.031517468450020895,-0.06548561819925106,-0.041773752573873474,-0.039618128426111884,-0.03854031635223107,-0.02560657146566148,-0.023450947317899894,-0.06656343027313188,0.032595280523901676,-0.04608500086939666,-0.029917819761184662,-0.012672826579091896,-0.015906262800734303,0.07139651518361048,-0.03099563183506548,0.00026091830747769084,0.0369065288194249,0.039062152967186486,-0.014828450726853487,0.006727790750762504,-0.06871905442089347,-0.00943939035744949,0.01966153563733209,0.07462995140525285,-0.008361578283568675,-0.023450947317899894,-0.04608500086939666,0.05415152200151766,-0.035306880130588664,-0.0320734439089463,-0.08165279930746305,0.04768464955823289,0.06061839444480248,0.0563071461492793,0.09834181703063047,0.05954058237092167,0.03367309259778249,0.0563071461492793,-0.06548561819925106,0.16085491731571683,-0.05578530953432388,-0.02452875939178067,-0.03638469220446948,-0.008361578283568675,-0.041773752573873474,0.1274427430254121,-0.07734155101193986,0.028284032228378497,-0.02560657146566148,-0.06225218197760866,-0.0008168937664030856,0.08864150836570328,-0.0320734439089463,0.030439656376140087,0.008883414898524095,0.006727790750762504,-0.020217511096257485,-0.02452875939178067,-0.011595014505211082,0.026128408080616904,-0.05901874575596628,-0.03638469220446948,-0.02452875939178067,0.018583723563451313,-0.09027529589850945,-0.0051281420619263066,-0.05255187331268147,-0.022373135244019075,-0.020217511096257485,-0.05470749746044306,-0.006205954135807083,-0.01698407487461508,0.055229334075398484,0.07678557555301448,0.018583723563451313,-0.022373135244019075,0.09295275666122646,-0.03099563183506548,0.039062152967186486,-0.061174369903727877,-0.008361578283568675,-0.03746250427835029,-0.013750638652972673,0.0735521393313721,-0.02452875939178067,0.03367309259778249,0.03475090467166331,-0.03854031635223107,-0.039618128426111884,-0.0018947058402839008,-0.03099563183506548,-0.04608500086939666,0.0013387303813585058,0.06492964274032566,0.04013996504106731,-0.023450947317899894,0.053073709927636895,0.04013996504106731,-0.020217511096257485,0.014272475267928093,-0.03422906805670789,0.006727790750762504,0.004572166603000912,0.030439656376140087,0.05199589785375607,0.061696206518683294,-0.007283766209687899,0.005649978676881689,0.05415152200151766,-0.008361578283568675,0.11450899813884247,0.0670852668880873,-0.05578530953432388,0.030439656376140087,-0.02560657146566148,0.10480868947391528,-0.006205954135807083,-0.047162812943277475,-0.048240625017158284,0.08540807214406083,-0.012672826579091896,-0.033151255982827074,-0.007283766209687899,-0.013750638652972673,0.05954058237092167,0.021817159785093684,0.018583723563451313,-0.011595014505211082,-0.002972517914164677,0.0175059114895705,-0.029917819761184662,-0.020217511096257485,-0.05794093368208547,0.06061839444480248,-0.040695940499992665,-0.07195249064253588,-0.05578530953432388,0.045529025410471304,-0.00943939035744949,-0.033151255982827074,0.04984027370599448,-0.08488623552910546,0.005649978676881689,0.020739347711212906,-0.007283766209687899,0.10480868947391528,-0.02452875939178067,-0.006205954135807083,-0.03854031635223107,0.13714305169033927,0.17055522598064407,0.002416542455239321,0.03798434089330568,-0.05794093368208547,-0.00943939035744949,-0.023450947317899894,-0.010517202431330305,-0.03422906805670789,-0.002972517914164677,0.0681630789619681,0.009961226972404908,0.002416542455239321,-0.03854031635223107,0.026128408080616904,-0.08919748382462865,0.06061839444480248,-0.028840007687303888,-0.029917819761184662,-0.01913969902237667,-0.040695940499992665,0.015350287341808908,-0.02452875939178067,0.0013387303813585058,0.06924089103584885,-0.06979686649477428,-0.029917819761184662,-0.04608500086939666,0.018583723563451313,0.0013387303813585058,-0.03099563183506548,-0.004050329988045492,0.015350287341808908,0.022894971858974496,0.045529025410471304,-0.04500718879551588,-0.033151255982827074,0.09726400495674965,0.05415152200151766,0.12313149472988882,-0.08057498723358228,0.09295275666122646,-0.050396249164919873,-0.011595014505211082,-0.027762195613423073,0.05846277029704089,0.08540807214406083,-0.0008168937664030856,0.006727790750762504,0.008883414898524095,0.08001901177465684,0.07139651518361048,-0.02452875939178067,-0.05470749746044306,-0.03638469220446948,0.016428099415689682,0.07786338762689529,-0.039618128426111884,0.011039039046285686,-0.040695940499992665,-0.03422906805670789,0.005649978676881689,0.08864150836570328,-0.033151255982827074,-0.05686312160820465,-0.03099563183506548,0.055229334075398484,-0.06009655782984706,0.0013387303813585058,-0.023450947317899894,-0.07410811479029747,0.01966153563733209,-0.015906262800734303,-0.015906262800734303,0.039062152967186486,-0.07303030271641665],\"xaxis\":\"x\",\"y\":[151.0,75.0,141.0,206.0,135.0,97.0,138.0,63.0,110.0,310.0,101.0,69.0,179.0,185.0,118.0,171.0,166.0,144.0,97.0,168.0,68.0,49.0,68.0,245.0,184.0,202.0,137.0,85.0,131.0,283.0,129.0,59.0,341.0,87.0,65.0,102.0,265.0,276.0,252.0,90.0,100.0,55.0,61.0,92.0,259.0,53.0,190.0,142.0,75.0,142.0,155.0,225.0,59.0,104.0,182.0,128.0,52.0,37.0,170.0,170.0,61.0,144.0,52.0,128.0,71.0,163.0,150.0,97.0,160.0,178.0,48.0,270.0,202.0,111.0,85.0,42.0,170.0,200.0,252.0,113.0,143.0,51.0,52.0,210.0,65.0,141.0,55.0,134.0,42.0,111.0,98.0,164.0,48.0,96.0,90.0,162.0,150.0,279.0,92.0,83.0,128.0,102.0,302.0,198.0,95.0,53.0,134.0,144.0,232.0,81.0,104.0,59.0,246.0,297.0,258.0,229.0,275.0,281.0,179.0,200.0,200.0,173.0,180.0,84.0,121.0,161.0,99.0,109.0,115.0,268.0,274.0,158.0,107.0,83.0,103.0,272.0,85.0,280.0,336.0,281.0,118.0,317.0,235.0,60.0,174.0,259.0,178.0,128.0,96.0,126.0,288.0,88.0,292.0,71.0,197.0,186.0,25.0,84.0,96.0,195.0,53.0,217.0,172.0,131.0,214.0,59.0,70.0,220.0,268.0,152.0,47.0,74.0,295.0,101.0,151.0,127.0,237.0,225.0,81.0,151.0,107.0,64.0,138.0,185.0,265.0,101.0,137.0,143.0,141.0,79.0,292.0,178.0,91.0,116.0,86.0,122.0,72.0,129.0,142.0,90.0,158.0,39.0,196.0,222.0,277.0,99.0,196.0,202.0,155.0,77.0,191.0,70.0,73.0,49.0,65.0,263.0,248.0,296.0,214.0,185.0,78.0,93.0,252.0,150.0,77.0,208.0,77.0,108.0,160.0,53.0,220.0,154.0,259.0,90.0,246.0,124.0,67.0,72.0,257.0,262.0,275.0,177.0,71.0,47.0,187.0,125.0,78.0,51.0,258.0,215.0,303.0,243.0,91.0,150.0,310.0,153.0,346.0,63.0,89.0,50.0,39.0,103.0,308.0,116.0,145.0,74.0,45.0,115.0,264.0,87.0,202.0,127.0,182.0,241.0,66.0,94.0,283.0,64.0,102.0,200.0,265.0,94.0,230.0,181.0,156.0,233.0,60.0,219.0,80.0,68.0,332.0,248.0,84.0,200.0,55.0,85.0,89.0,31.0,129.0,83.0,275.0,65.0,198.0,236.0,253.0,124.0,44.0,172.0,114.0,142.0,109.0,180.0,144.0,163.0,147.0,97.0,220.0,190.0,109.0,191.0,122.0,230.0,242.0,248.0,249.0,192.0,131.0,237.0,78.0,135.0,244.0,199.0,270.0,164.0,72.0,96.0,306.0,91.0,214.0,95.0,216.0,263.0,178.0,113.0,200.0,139.0,139.0,88.0,148.0,88.0,243.0,71.0,77.0,109.0,272.0,60.0,54.0,221.0,90.0,311.0,281.0,182.0,321.0,58.0,262.0,206.0,233.0,242.0,123.0,167.0,63.0,197.0,71.0,168.0,140.0,217.0,121.0,235.0,245.0,40.0,52.0,104.0,132.0,88.0,69.0,219.0,72.0,201.0,110.0,51.0,277.0,63.0,118.0,69.0,273.0,258.0,43.0,198.0,242.0,232.0,175.0,93.0,168.0,275.0,293.0,281.0,72.0,140.0,189.0,181.0,209.0,136.0,261.0,113.0,131.0,174.0,257.0,55.0,84.0,42.0,146.0,212.0,233.0,91.0,111.0,152.0,120.0,67.0,310.0,94.0,183.0,66.0,173.0,72.0,49.0,64.0,48.0,178.0,104.0,132.0,220.0,57.0],\"yaxis\":\"y\",\"type\":\"scatter\"}],                        {\"template\":{\"data\":{\"histogram2dcontour\":[{\"type\":\"histogram2dcontour\",\"colorbar\":{\"outlinewidth\":0,\"ticks\":\"\"},\"colorscale\":[[0.0,\"#0d0887\"],[0.1111111111111111,\"#46039f\"],[0.2222222222222222,\"#7201a8\"],[0.3333333333333333,\"#9c179e\"],[0.4444444444444444,\"#bd3786\"],[0.5555555555555556,\"#d8576b\"],[0.6666666666666666,\"#ed7953\"],[0.7777777777777778,\"#fb9f3a\"],[0.8888888888888888,\"#fdca26\"],[1.0,\"#f0f921\"]]}],\"choropleth\":[{\"type\":\"choropleth\",\"colorbar\":{\"outlinewidth\":0,\"ticks\":\"\"}}],\"histogram2d\":[{\"type\":\"histogram2d\",\"colorbar\":{\"outlinewidth\":0,\"ticks\":\"\"},\"colorscale\":[[0.0,\"#0d0887\"],[0.1111111111111111,\"#46039f\"],[0.2222222222222222,\"#7201a8\"],[0.3333333333333333,\"#9c179e\"],[0.4444444444444444,\"#bd3786\"],[0.5555555555555556,\"#d8576b\"],[0.6666666666666666,\"#ed7953\"],[0.7777777777777778,\"#fb9f3a\"],[0.8888888888888888,\"#fdca26\"],[1.0,\"#f0f921\"]]}],\"heatmap\":[{\"type\":\"heatmap\",\"colorbar\":{\"outlinewidth\":0,\"ticks\":\"\"},\"colorscale\":[[0.0,\"#0d0887\"],[0.1111111111111111,\"#46039f\"],[0.2222222222222222,\"#7201a8\"],[0.3333333333333333,\"#9c179e\"],[0.4444444444444444,\"#bd3786\"],[0.5555555555555556,\"#d8576b\"],[0.6666666666666666,\"#ed7953\"],[0.7777777777777778,\"#fb9f3a\"],[0.8888888888888888,\"#fdca26\"],[1.0,\"#f0f921\"]]}],\"heatmapgl\":[{\"type\":\"heatmapgl\",\"colorbar\":{\"outlinewidth\":0,\"ticks\":\"\"},\"colorscale\":[[0.0,\"#0d0887\"],[0.1111111111111111,\"#46039f\"],[0.2222222222222222,\"#7201a8\"],[0.3333333333333333,\"#9c179e\"],[0.4444444444444444,\"#bd3786\"],[0.5555555555555556,\"#d8576b\"],[0.6666666666666666,\"#ed7953\"],[0.7777777777777778,\"#fb9f3a\"],[0.8888888888888888,\"#fdca26\"],[1.0,\"#f0f921\"]]}],\"contourcarpet\":[{\"type\":\"contourcarpet\",\"colorbar\":{\"outlinewidth\":0,\"ticks\":\"\"}}],\"contour\":[{\"type\":\"contour\",\"colorbar\":{\"outlinewidth\":0,\"ticks\":\"\"},\"colorscale\":[[0.0,\"#0d0887\"],[0.1111111111111111,\"#46039f\"],[0.2222222222222222,\"#7201a8\"],[0.3333333333333333,\"#9c179e\"],[0.4444444444444444,\"#bd3786\"],[0.5555555555555556,\"#d8576b\"],[0.6666666666666666,\"#ed7953\"],[0.7777777777777778,\"#fb9f3a\"],[0.8888888888888888,\"#fdca26\"],[1.0,\"#f0f921\"]]}],\"surface\":[{\"type\":\"surface\",\"colorbar\":{\"outlinewidth\":0,\"ticks\":\"\"},\"colorscale\":[[0.0,\"#0d0887\"],[0.1111111111111111,\"#46039f\"],[0.2222222222222222,\"#7201a8\"],[0.3333333333333333,\"#9c179e\"],[0.4444444444444444,\"#bd3786\"],[0.5555555555555556,\"#d8576b\"],[0.6666666666666666,\"#ed7953\"],[0.7777777777777778,\"#fb9f3a\"],[0.8888888888888888,\"#fdca26\"],[1.0,\"#f0f921\"]]}],\"mesh3d\":[{\"type\":\"mesh3d\",\"colorbar\":{\"outlinewidth\":0,\"ticks\":\"\"}}],\"scatter\":[{\"fillpattern\":{\"fillmode\":\"overlay\",\"size\":10,\"solidity\":0.2},\"type\":\"scatter\"}],\"parcoords\":[{\"type\":\"parcoords\",\"line\":{\"colorbar\":{\"outlinewidth\":0,\"ticks\":\"\"}}}],\"scatterpolargl\":[{\"type\":\"scatterpolargl\",\"marker\":{\"colorbar\":{\"outlinewidth\":0,\"ticks\":\"\"}}}],\"bar\":[{\"error_x\":{\"color\":\"#2a3f5f\"},\"error_y\":{\"color\":\"#2a3f5f\"},\"marker\":{\"line\":{\"color\":\"#E5ECF6\",\"width\":0.5},\"pattern\":{\"fillmode\":\"overlay\",\"size\":10,\"solidity\":0.2}},\"type\":\"bar\"}],\"scattergeo\":[{\"type\":\"scattergeo\",\"marker\":{\"colorbar\":{\"outlinewidth\":0,\"ticks\":\"\"}}}],\"scatterpolar\":[{\"type\":\"scatterpolar\",\"marker\":{\"colorbar\":{\"outlinewidth\":0,\"ticks\":\"\"}}}],\"histogram\":[{\"marker\":{\"pattern\":{\"fillmode\":\"overlay\",\"size\":10,\"solidity\":0.2}},\"type\":\"histogram\"}],\"scattergl\":[{\"type\":\"scattergl\",\"marker\":{\"colorbar\":{\"outlinewidth\":0,\"ticks\":\"\"}}}],\"scatter3d\":[{\"type\":\"scatter3d\",\"line\":{\"colorbar\":{\"outlinewidth\":0,\"ticks\":\"\"}},\"marker\":{\"colorbar\":{\"outlinewidth\":0,\"ticks\":\"\"}}}],\"scattermapbox\":[{\"type\":\"scattermapbox\",\"marker\":{\"colorbar\":{\"outlinewidth\":0,\"ticks\":\"\"}}}],\"scatterternary\":[{\"type\":\"scatterternary\",\"marker\":{\"colorbar\":{\"outlinewidth\":0,\"ticks\":\"\"}}}],\"scattercarpet\":[{\"type\":\"scattercarpet\",\"marker\":{\"colorbar\":{\"outlinewidth\":0,\"ticks\":\"\"}}}],\"carpet\":[{\"aaxis\":{\"endlinecolor\":\"#2a3f5f\",\"gridcolor\":\"white\",\"linecolor\":\"white\",\"minorgridcolor\":\"white\",\"startlinecolor\":\"#2a3f5f\"},\"baxis\":{\"endlinecolor\":\"#2a3f5f\",\"gridcolor\":\"white\",\"linecolor\":\"white\",\"minorgridcolor\":\"white\",\"startlinecolor\":\"#2a3f5f\"},\"type\":\"carpet\"}],\"table\":[{\"cells\":{\"fill\":{\"color\":\"#EBF0F8\"},\"line\":{\"color\":\"white\"}},\"header\":{\"fill\":{\"color\":\"#C8D4E3\"},\"line\":{\"color\":\"white\"}},\"type\":\"table\"}],\"barpolar\":[{\"marker\":{\"line\":{\"color\":\"#E5ECF6\",\"width\":0.5},\"pattern\":{\"fillmode\":\"overlay\",\"size\":10,\"solidity\":0.2}},\"type\":\"barpolar\"}],\"pie\":[{\"automargin\":true,\"type\":\"pie\"}]},\"layout\":{\"autotypenumbers\":\"strict\",\"colorway\":[\"#636efa\",\"#EF553B\",\"#00cc96\",\"#ab63fa\",\"#FFA15A\",\"#19d3f3\",\"#FF6692\",\"#B6E880\",\"#FF97FF\",\"#FECB52\"],\"font\":{\"color\":\"#2a3f5f\"},\"hovermode\":\"closest\",\"hoverlabel\":{\"align\":\"left\"},\"paper_bgcolor\":\"white\",\"plot_bgcolor\":\"#E5ECF6\",\"polar\":{\"bgcolor\":\"#E5ECF6\",\"angularaxis\":{\"gridcolor\":\"white\",\"linecolor\":\"white\",\"ticks\":\"\"},\"radialaxis\":{\"gridcolor\":\"white\",\"linecolor\":\"white\",\"ticks\":\"\"}},\"ternary\":{\"bgcolor\":\"#E5ECF6\",\"aaxis\":{\"gridcolor\":\"white\",\"linecolor\":\"white\",\"ticks\":\"\"},\"baxis\":{\"gridcolor\":\"white\",\"linecolor\":\"white\",\"ticks\":\"\"},\"caxis\":{\"gridcolor\":\"white\",\"linecolor\":\"white\",\"ticks\":\"\"}},\"coloraxis\":{\"colorbar\":{\"outlinewidth\":0,\"ticks\":\"\"}},\"colorscale\":{\"sequential\":[[0.0,\"#0d0887\"],[0.1111111111111111,\"#46039f\"],[0.2222222222222222,\"#7201a8\"],[0.3333333333333333,\"#9c179e\"],[0.4444444444444444,\"#bd3786\"],[0.5555555555555556,\"#d8576b\"],[0.6666666666666666,\"#ed7953\"],[0.7777777777777778,\"#fb9f3a\"],[0.8888888888888888,\"#fdca26\"],[1.0,\"#f0f921\"]],\"sequentialminus\":[[0.0,\"#0d0887\"],[0.1111111111111111,\"#46039f\"],[0.2222222222222222,\"#7201a8\"],[0.3333333333333333,\"#9c179e\"],[0.4444444444444444,\"#bd3786\"],[0.5555555555555556,\"#d8576b\"],[0.6666666666666666,\"#ed7953\"],[0.7777777777777778,\"#fb9f3a\"],[0.8888888888888888,\"#fdca26\"],[1.0,\"#f0f921\"]],\"diverging\":[[0,\"#8e0152\"],[0.1,\"#c51b7d\"],[0.2,\"#de77ae\"],[0.3,\"#f1b6da\"],[0.4,\"#fde0ef\"],[0.5,\"#f7f7f7\"],[0.6,\"#e6f5d0\"],[0.7,\"#b8e186\"],[0.8,\"#7fbc41\"],[0.9,\"#4d9221\"],[1,\"#276419\"]]},\"xaxis\":{\"gridcolor\":\"white\",\"linecolor\":\"white\",\"ticks\":\"\",\"title\":{\"standoff\":15},\"zerolinecolor\":\"white\",\"automargin\":true,\"zerolinewidth\":2},\"yaxis\":{\"gridcolor\":\"white\",\"linecolor\":\"white\",\"ticks\":\"\",\"title\":{\"standoff\":15},\"zerolinecolor\":\"white\",\"automargin\":true,\"zerolinewidth\":2},\"scene\":{\"xaxis\":{\"backgroundcolor\":\"#E5ECF6\",\"gridcolor\":\"white\",\"linecolor\":\"white\",\"showbackground\":true,\"ticks\":\"\",\"zerolinecolor\":\"white\",\"gridwidth\":2},\"yaxis\":{\"backgroundcolor\":\"#E5ECF6\",\"gridcolor\":\"white\",\"linecolor\":\"white\",\"showbackground\":true,\"ticks\":\"\",\"zerolinecolor\":\"white\",\"gridwidth\":2},\"zaxis\":{\"backgroundcolor\":\"#E5ECF6\",\"gridcolor\":\"white\",\"linecolor\":\"white\",\"showbackground\":true,\"ticks\":\"\",\"zerolinecolor\":\"white\",\"gridwidth\":2}},\"shapedefaults\":{\"line\":{\"color\":\"#2a3f5f\"}},\"annotationdefaults\":{\"arrowcolor\":\"#2a3f5f\",\"arrowhead\":0,\"arrowwidth\":1},\"geo\":{\"bgcolor\":\"white\",\"landcolor\":\"#E5ECF6\",\"subunitcolor\":\"white\",\"showland\":true,\"showlakes\":true,\"lakecolor\":\"white\"},\"title\":{\"x\":0.05},\"mapbox\":{\"style\":\"light\"}}},\"xaxis\":{\"anchor\":\"y\",\"domain\":[0.0,1.0],\"title\":{\"text\":\"BMI\"}},\"yaxis\":{\"anchor\":\"x\",\"domain\":[0.0,1.0],\"title\":{\"text\":\"target\"}},\"legend\":{\"tracegroupgap\":0},\"margin\":{\"t\":60}},                        {\"responsive\": true}                    ).then(function(){\n",
              "                            \n",
              "var gd = document.getElementById('ac78feda-54df-4fe0-81ab-c05e8f14abd0');\n",
              "var x = new MutationObserver(function (mutations, observer) {{\n",
              "        var display = window.getComputedStyle(gd).display;\n",
              "        if (!display || display === 'none') {{\n",
              "            console.log([gd, 'removed!']);\n",
              "            Plotly.purge(gd);\n",
              "            observer.disconnect();\n",
              "        }}\n",
              "}});\n",
              "\n",
              "// Listen for the removal of the full notebook cells\n",
              "var notebookContainer = gd.closest('#notebook-container');\n",
              "if (notebookContainer) {{\n",
              "    x.observe(notebookContainer, {childList: true});\n",
              "}}\n",
              "\n",
              "// Listen for the clearing of the current output cell\n",
              "var outputEl = gd.closest('.output');\n",
              "if (outputEl) {{\n",
              "    x.observe(outputEl, {childList: true});\n",
              "}}\n",
              "\n",
              "                        })                };                            </script>        </div>\n",
              "</body>\n",
              "</html>"
            ]
          },
          "metadata": {}
        }
      ]
    },
    {
      "cell_type": "markdown",
      "metadata": {
        "id": "DPi5j2qlLXPn"
      },
      "source": [
        "* Now we need to define a cost function. For a linear regression, we could use MSE :\n",
        "\n",
        "`np.mean((model(input) - y)**2)`\n",
        "\n",
        "  * Create this function which we'll call `mse` (for mean square error). This function will take two arguments `y_pred` & `y_true`."
      ]
    },
    {
      "cell_type": "code",
      "metadata": {
        "id": "wqWx5tEHK9ur"
      },
      "source": [
        "def mse(y_pred, y_true):\n",
        "  return np.mean((y_pred- y_true)**2)"
      ],
      "execution_count": 18,
      "outputs": []
    },
    {
      "cell_type": "markdown",
      "metadata": {
        "id": "69LJkKbCM-H6"
      },
      "source": [
        "* Test your function by inserting `model(diabetes_X)` & `y` as arguments.\n",
        "* Calculate the rmse as well"
      ]
    },
    {
      "cell_type": "code",
      "source": [
        "mse(model(diabetes_X), y)"
      ],
      "metadata": {
        "colab": {
          "base_uri": "https://localhost:8080/"
        },
        "id": "z9Ttl9C1zl93",
        "outputId": "0ad20282-e9fe-461a-b9aa-d6b61611e868"
      },
      "execution_count": 19,
      "outputs": [
        {
          "output_type": "execute_result",
          "data": {
            "text/plain": [
              "28896.652283035422"
            ]
          },
          "metadata": {},
          "execution_count": 19
        }
      ]
    },
    {
      "cell_type": "markdown",
      "metadata": {
        "id": "zKSq1LcSNF2k"
      },
      "source": [
        "* Visualize your regression in relation to your points"
      ]
    },
    {
      "cell_type": "code",
      "source": [
        "reg_line = px.line(x=diabetes_X, y=model(diabetes_X))\n",
        "\n",
        "plot = px.scatter(x=diabetes_X, y=y, labels={'x': 'BMI','y' : 'target'})\n",
        "reg_line.update_traces(line=dict(color='red'))\n",
        "plot.add_trace(reg_line.data[0])\n",
        "plot.show()"
      ],
      "metadata": {
        "colab": {
          "base_uri": "https://localhost:8080/",
          "height": 542
        },
        "id": "3joQzX6Bz5L2",
        "outputId": "9abfc1d3-a27b-4323-88db-f9c581875d1e"
      },
      "execution_count": 20,
      "outputs": [
        {
          "output_type": "display_data",
          "data": {
            "text/html": [
              "<html>\n",
              "<head><meta charset=\"utf-8\" /></head>\n",
              "<body>\n",
              "    <div>            <script src=\"https://cdnjs.cloudflare.com/ajax/libs/mathjax/2.7.5/MathJax.js?config=TeX-AMS-MML_SVG\"></script><script type=\"text/javascript\">if (window.MathJax && window.MathJax.Hub && window.MathJax.Hub.Config) {window.MathJax.Hub.Config({SVG: {font: \"STIX-Web\"}});}</script>                <script type=\"text/javascript\">window.PlotlyConfig = {MathJaxConfig: 'local'};</script>\n",
              "        <script charset=\"utf-8\" src=\"https://cdn.plot.ly/plotly-2.24.1.min.js\"></script>                <div id=\"f576a7ac-30f4-479e-b682-6668a6011da9\" class=\"plotly-graph-div\" style=\"height:525px; width:100%;\"></div>            <script type=\"text/javascript\">                                    window.PLOTLYENV=window.PLOTLYENV || {};                                    if (document.getElementById(\"f576a7ac-30f4-479e-b682-6668a6011da9\")) {                    Plotly.newPlot(                        \"f576a7ac-30f4-479e-b682-6668a6011da9\",                        [{\"hovertemplate\":\"BMI=%{x}\\u003cbr\\u003etarget=%{y}\\u003cextra\\u003e\\u003c\\u002fextra\\u003e\",\"legendgroup\":\"\",\"marker\":{\"color\":\"#636efa\",\"symbol\":\"circle\"},\"mode\":\"markers\",\"name\":\"\",\"orientation\":\"v\",\"showlegend\":false,\"x\":[0.061696206518683294,-0.051474061238800654,0.04445121333659049,-0.011595014505211082,-0.03638469220446948,-0.040695940499992665,-0.047162812943277475,-0.0018947058402839008,0.061696206518683294,0.039062152967186486,-0.08380842345522464,0.0175059114895705,-0.028840007687303888,-0.0018947058402839008,-0.02560657146566148,-0.018061886948495892,0.0422955891888289,0.012116851120166501,-0.010517202431330305,-0.018061886948495892,-0.05686312160820465,-0.022373135244019075,-0.004050329988045492,0.06061839444480248,0.03582871674554409,-0.012672826579091896,-0.07734155101193986,0.05954058237092167,-0.0212953231701383,-0.006205954135807083,0.04445121333659049,-0.06548561819925106,0.12528711887765046,-0.050396249164919873,-0.06332999405148947,-0.03099563183506548,0.022894971858974496,0.011039039046285686,0.07139651518361048,0.014272475267928093,-0.008361578283568675,-0.06764124234701265,-0.010517202431330305,-0.023450947317899894,0.0681630789619681,-0.035306880130588664,-0.011595014505211082,-0.07303030271641665,-0.041773752573873474,0.014272475267928093,-0.007283766209687899,0.016428099415689682,-0.00943939035744949,-0.015906262800734303,0.02505059600673609,-0.049318437091039065,0.04121777711494808,-0.06332999405148947,-0.06440780612537028,-0.02560657146566148,-0.004050329988045492,0.004572166603000912,-0.007283766209687899,-0.03746250427835029,-0.02560657146566148,-0.02452875939178067,-0.018061886948495892,-0.014828450726853487,-0.029917819761184662,-0.04608500086939666,-0.06979686649477428,0.03367309259778249,-0.004050329988045492,-0.020217511096257485,0.002416542455239321,-0.03099563183506548,0.028284032228378497,-0.03638469220446948,-0.05794093368208547,-0.03746250427835029,0.012116851120166501,-0.022373135244019075,-0.035306880130588664,0.009961226972404908,-0.039618128426111884,0.07139651518361048,-0.07518592686417827,-0.006205954135807083,-0.040695940499992665,-0.048240625017158284,-0.02560657146566148,0.05199589785375607,0.004572166603000912,-0.06440780612537028,-0.01698407487461508,-0.05794093368208547,0.009961226972404908,0.08864150836570328,-0.0051281420619263066,-0.06440780612537028,0.0175059114895705,-0.04500718879551588,0.028284032228378497,0.04121777711494808,0.06492964274032566,-0.0320734439089463,-0.07626373893805906,0.04984027370599448,0.045529025410471304,-0.00943939035744949,-0.0320734439089463,0.004572166603000912,0.020739347711212906,0.014272475267928093,0.11019774984331929,0.0013387303813585058,0.05846277029704089,-0.0212953231701383,-0.010517202431330305,-0.047162812943277475,0.004572166603000912,0.0175059114895705,0.08109682384853766,0.03475090467166331,0.023972783932855315,-0.008361578283568675,-0.061174369903727877,-0.0018947058402839008,-0.06225218197760866,0.016428099415689682,0.09618619288286882,-0.06979686649477428,-0.0212953231701383,-0.05362968538656229,0.04337340126270967,0.0563071461492793,-0.08165279930746305,0.04984027370599448,0.11127556191720007,0.061696206518683294,0.014272475267928093,0.04768464955823289,0.012116851120166501,0.005649978676881689,0.04660683748435208,0.12852055509929283,0.05954058237092167,0.09295275666122646,0.015350287341808908,-0.0051281420619263066,0.07031870310972965,-0.004050329988045492,-0.0008168937664030856,-0.04392937672163507,0.020739347711212906,0.06061839444480248,-0.010517202431330305,-0.033151255982827074,-0.06548561819925106,0.04337340126270967,-0.06225218197760866,0.06385183066644486,0.030439656376140087,0.0724743272574913,-0.01913969902237667,-0.06656343027313188,-0.06009655782984706,0.06924089103584885,0.05954058237092167,-0.0266843835395423,-0.020217511096257485,-0.04608500086939666,0.07139651518361048,-0.07949717515970146,0.009961226972404908,-0.03854031635223107,0.01966153563733209,0.027206220154497678,-0.008361578283568675,-0.015906262800734303,0.004572166603000912,-0.04285156464775429,0.005649978676881689,-0.035306880130588664,0.023972783932855315,-0.018061886948495892,0.0422955891888289,-0.05470749746044306,-0.002972517914164677,-0.06656343027313188,-0.012672826579091896,-0.041773752573873474,-0.03099563183506548,-0.0051281420619263066,-0.05901874575596628,0.02505059600673609,-0.04608500086939666,0.0034943545291200974,0.05415152200151766,-0.04500718879551588,-0.05794093368208547,-0.05578530953432388,0.0013387303813585058,0.030439656376140087,0.006727790750762504,0.04660683748435208,0.026128408080616904,0.045529025410471304,0.04013996504106731,-0.018061886948495892,0.014272475267928093,0.0369065288194249,0.0034943545291200974,-0.07087467856865506,-0.033151255982827074,0.09403056873510728,0.03582871674554409,0.031517468450020895,-0.06548561819925106,-0.041773752573873474,-0.039618128426111884,-0.03854031635223107,-0.02560657146566148,-0.023450947317899894,-0.06656343027313188,0.032595280523901676,-0.04608500086939666,-0.029917819761184662,-0.012672826579091896,-0.015906262800734303,0.07139651518361048,-0.03099563183506548,0.00026091830747769084,0.0369065288194249,0.039062152967186486,-0.014828450726853487,0.006727790750762504,-0.06871905442089347,-0.00943939035744949,0.01966153563733209,0.07462995140525285,-0.008361578283568675,-0.023450947317899894,-0.04608500086939666,0.05415152200151766,-0.035306880130588664,-0.0320734439089463,-0.08165279930746305,0.04768464955823289,0.06061839444480248,0.0563071461492793,0.09834181703063047,0.05954058237092167,0.03367309259778249,0.0563071461492793,-0.06548561819925106,0.16085491731571683,-0.05578530953432388,-0.02452875939178067,-0.03638469220446948,-0.008361578283568675,-0.041773752573873474,0.1274427430254121,-0.07734155101193986,0.028284032228378497,-0.02560657146566148,-0.06225218197760866,-0.0008168937664030856,0.08864150836570328,-0.0320734439089463,0.030439656376140087,0.008883414898524095,0.006727790750762504,-0.020217511096257485,-0.02452875939178067,-0.011595014505211082,0.026128408080616904,-0.05901874575596628,-0.03638469220446948,-0.02452875939178067,0.018583723563451313,-0.09027529589850945,-0.0051281420619263066,-0.05255187331268147,-0.022373135244019075,-0.020217511096257485,-0.05470749746044306,-0.006205954135807083,-0.01698407487461508,0.055229334075398484,0.07678557555301448,0.018583723563451313,-0.022373135244019075,0.09295275666122646,-0.03099563183506548,0.039062152967186486,-0.061174369903727877,-0.008361578283568675,-0.03746250427835029,-0.013750638652972673,0.0735521393313721,-0.02452875939178067,0.03367309259778249,0.03475090467166331,-0.03854031635223107,-0.039618128426111884,-0.0018947058402839008,-0.03099563183506548,-0.04608500086939666,0.0013387303813585058,0.06492964274032566,0.04013996504106731,-0.023450947317899894,0.053073709927636895,0.04013996504106731,-0.020217511096257485,0.014272475267928093,-0.03422906805670789,0.006727790750762504,0.004572166603000912,0.030439656376140087,0.05199589785375607,0.061696206518683294,-0.007283766209687899,0.005649978676881689,0.05415152200151766,-0.008361578283568675,0.11450899813884247,0.0670852668880873,-0.05578530953432388,0.030439656376140087,-0.02560657146566148,0.10480868947391528,-0.006205954135807083,-0.047162812943277475,-0.048240625017158284,0.08540807214406083,-0.012672826579091896,-0.033151255982827074,-0.007283766209687899,-0.013750638652972673,0.05954058237092167,0.021817159785093684,0.018583723563451313,-0.011595014505211082,-0.002972517914164677,0.0175059114895705,-0.029917819761184662,-0.020217511096257485,-0.05794093368208547,0.06061839444480248,-0.040695940499992665,-0.07195249064253588,-0.05578530953432388,0.045529025410471304,-0.00943939035744949,-0.033151255982827074,0.04984027370599448,-0.08488623552910546,0.005649978676881689,0.020739347711212906,-0.007283766209687899,0.10480868947391528,-0.02452875939178067,-0.006205954135807083,-0.03854031635223107,0.13714305169033927,0.17055522598064407,0.002416542455239321,0.03798434089330568,-0.05794093368208547,-0.00943939035744949,-0.023450947317899894,-0.010517202431330305,-0.03422906805670789,-0.002972517914164677,0.0681630789619681,0.009961226972404908,0.002416542455239321,-0.03854031635223107,0.026128408080616904,-0.08919748382462865,0.06061839444480248,-0.028840007687303888,-0.029917819761184662,-0.01913969902237667,-0.040695940499992665,0.015350287341808908,-0.02452875939178067,0.0013387303813585058,0.06924089103584885,-0.06979686649477428,-0.029917819761184662,-0.04608500086939666,0.018583723563451313,0.0013387303813585058,-0.03099563183506548,-0.004050329988045492,0.015350287341808908,0.022894971858974496,0.045529025410471304,-0.04500718879551588,-0.033151255982827074,0.09726400495674965,0.05415152200151766,0.12313149472988882,-0.08057498723358228,0.09295275666122646,-0.050396249164919873,-0.011595014505211082,-0.027762195613423073,0.05846277029704089,0.08540807214406083,-0.0008168937664030856,0.006727790750762504,0.008883414898524095,0.08001901177465684,0.07139651518361048,-0.02452875939178067,-0.05470749746044306,-0.03638469220446948,0.016428099415689682,0.07786338762689529,-0.039618128426111884,0.011039039046285686,-0.040695940499992665,-0.03422906805670789,0.005649978676881689,0.08864150836570328,-0.033151255982827074,-0.05686312160820465,-0.03099563183506548,0.055229334075398484,-0.06009655782984706,0.0013387303813585058,-0.023450947317899894,-0.07410811479029747,0.01966153563733209,-0.015906262800734303,-0.015906262800734303,0.039062152967186486,-0.07303030271641665],\"xaxis\":\"x\",\"y\":[151.0,75.0,141.0,206.0,135.0,97.0,138.0,63.0,110.0,310.0,101.0,69.0,179.0,185.0,118.0,171.0,166.0,144.0,97.0,168.0,68.0,49.0,68.0,245.0,184.0,202.0,137.0,85.0,131.0,283.0,129.0,59.0,341.0,87.0,65.0,102.0,265.0,276.0,252.0,90.0,100.0,55.0,61.0,92.0,259.0,53.0,190.0,142.0,75.0,142.0,155.0,225.0,59.0,104.0,182.0,128.0,52.0,37.0,170.0,170.0,61.0,144.0,52.0,128.0,71.0,163.0,150.0,97.0,160.0,178.0,48.0,270.0,202.0,111.0,85.0,42.0,170.0,200.0,252.0,113.0,143.0,51.0,52.0,210.0,65.0,141.0,55.0,134.0,42.0,111.0,98.0,164.0,48.0,96.0,90.0,162.0,150.0,279.0,92.0,83.0,128.0,102.0,302.0,198.0,95.0,53.0,134.0,144.0,232.0,81.0,104.0,59.0,246.0,297.0,258.0,229.0,275.0,281.0,179.0,200.0,200.0,173.0,180.0,84.0,121.0,161.0,99.0,109.0,115.0,268.0,274.0,158.0,107.0,83.0,103.0,272.0,85.0,280.0,336.0,281.0,118.0,317.0,235.0,60.0,174.0,259.0,178.0,128.0,96.0,126.0,288.0,88.0,292.0,71.0,197.0,186.0,25.0,84.0,96.0,195.0,53.0,217.0,172.0,131.0,214.0,59.0,70.0,220.0,268.0,152.0,47.0,74.0,295.0,101.0,151.0,127.0,237.0,225.0,81.0,151.0,107.0,64.0,138.0,185.0,265.0,101.0,137.0,143.0,141.0,79.0,292.0,178.0,91.0,116.0,86.0,122.0,72.0,129.0,142.0,90.0,158.0,39.0,196.0,222.0,277.0,99.0,196.0,202.0,155.0,77.0,191.0,70.0,73.0,49.0,65.0,263.0,248.0,296.0,214.0,185.0,78.0,93.0,252.0,150.0,77.0,208.0,77.0,108.0,160.0,53.0,220.0,154.0,259.0,90.0,246.0,124.0,67.0,72.0,257.0,262.0,275.0,177.0,71.0,47.0,187.0,125.0,78.0,51.0,258.0,215.0,303.0,243.0,91.0,150.0,310.0,153.0,346.0,63.0,89.0,50.0,39.0,103.0,308.0,116.0,145.0,74.0,45.0,115.0,264.0,87.0,202.0,127.0,182.0,241.0,66.0,94.0,283.0,64.0,102.0,200.0,265.0,94.0,230.0,181.0,156.0,233.0,60.0,219.0,80.0,68.0,332.0,248.0,84.0,200.0,55.0,85.0,89.0,31.0,129.0,83.0,275.0,65.0,198.0,236.0,253.0,124.0,44.0,172.0,114.0,142.0,109.0,180.0,144.0,163.0,147.0,97.0,220.0,190.0,109.0,191.0,122.0,230.0,242.0,248.0,249.0,192.0,131.0,237.0,78.0,135.0,244.0,199.0,270.0,164.0,72.0,96.0,306.0,91.0,214.0,95.0,216.0,263.0,178.0,113.0,200.0,139.0,139.0,88.0,148.0,88.0,243.0,71.0,77.0,109.0,272.0,60.0,54.0,221.0,90.0,311.0,281.0,182.0,321.0,58.0,262.0,206.0,233.0,242.0,123.0,167.0,63.0,197.0,71.0,168.0,140.0,217.0,121.0,235.0,245.0,40.0,52.0,104.0,132.0,88.0,69.0,219.0,72.0,201.0,110.0,51.0,277.0,63.0,118.0,69.0,273.0,258.0,43.0,198.0,242.0,232.0,175.0,93.0,168.0,275.0,293.0,281.0,72.0,140.0,189.0,181.0,209.0,136.0,261.0,113.0,131.0,174.0,257.0,55.0,84.0,42.0,146.0,212.0,233.0,91.0,111.0,152.0,120.0,67.0,310.0,94.0,183.0,66.0,173.0,72.0,49.0,64.0,48.0,178.0,104.0,132.0,220.0,57.0],\"yaxis\":\"y\",\"type\":\"scatter\"},{\"hovertemplate\":\"x=%{x}\\u003cbr\\u003ey=%{y}\\u003cextra\\u003e\\u003c\\u002fextra\\u003e\",\"legendgroup\":\"\",\"line\":{\"color\":\"red\",\"dash\":\"solid\"},\"marker\":{\"symbol\":\"circle\"},\"mode\":\"lines\",\"name\":\"\",\"orientation\":\"v\",\"showlegend\":false,\"x\":[0.061696206518683294,-0.051474061238800654,0.04445121333659049,-0.011595014505211082,-0.03638469220446948,-0.040695940499992665,-0.047162812943277475,-0.0018947058402839008,0.061696206518683294,0.039062152967186486,-0.08380842345522464,0.0175059114895705,-0.028840007687303888,-0.0018947058402839008,-0.02560657146566148,-0.018061886948495892,0.0422955891888289,0.012116851120166501,-0.010517202431330305,-0.018061886948495892,-0.05686312160820465,-0.022373135244019075,-0.004050329988045492,0.06061839444480248,0.03582871674554409,-0.012672826579091896,-0.07734155101193986,0.05954058237092167,-0.0212953231701383,-0.006205954135807083,0.04445121333659049,-0.06548561819925106,0.12528711887765046,-0.050396249164919873,-0.06332999405148947,-0.03099563183506548,0.022894971858974496,0.011039039046285686,0.07139651518361048,0.014272475267928093,-0.008361578283568675,-0.06764124234701265,-0.010517202431330305,-0.023450947317899894,0.0681630789619681,-0.035306880130588664,-0.011595014505211082,-0.07303030271641665,-0.041773752573873474,0.014272475267928093,-0.007283766209687899,0.016428099415689682,-0.00943939035744949,-0.015906262800734303,0.02505059600673609,-0.049318437091039065,0.04121777711494808,-0.06332999405148947,-0.06440780612537028,-0.02560657146566148,-0.004050329988045492,0.004572166603000912,-0.007283766209687899,-0.03746250427835029,-0.02560657146566148,-0.02452875939178067,-0.018061886948495892,-0.014828450726853487,-0.029917819761184662,-0.04608500086939666,-0.06979686649477428,0.03367309259778249,-0.004050329988045492,-0.020217511096257485,0.002416542455239321,-0.03099563183506548,0.028284032228378497,-0.03638469220446948,-0.05794093368208547,-0.03746250427835029,0.012116851120166501,-0.022373135244019075,-0.035306880130588664,0.009961226972404908,-0.039618128426111884,0.07139651518361048,-0.07518592686417827,-0.006205954135807083,-0.040695940499992665,-0.048240625017158284,-0.02560657146566148,0.05199589785375607,0.004572166603000912,-0.06440780612537028,-0.01698407487461508,-0.05794093368208547,0.009961226972404908,0.08864150836570328,-0.0051281420619263066,-0.06440780612537028,0.0175059114895705,-0.04500718879551588,0.028284032228378497,0.04121777711494808,0.06492964274032566,-0.0320734439089463,-0.07626373893805906,0.04984027370599448,0.045529025410471304,-0.00943939035744949,-0.0320734439089463,0.004572166603000912,0.020739347711212906,0.014272475267928093,0.11019774984331929,0.0013387303813585058,0.05846277029704089,-0.0212953231701383,-0.010517202431330305,-0.047162812943277475,0.004572166603000912,0.0175059114895705,0.08109682384853766,0.03475090467166331,0.023972783932855315,-0.008361578283568675,-0.061174369903727877,-0.0018947058402839008,-0.06225218197760866,0.016428099415689682,0.09618619288286882,-0.06979686649477428,-0.0212953231701383,-0.05362968538656229,0.04337340126270967,0.0563071461492793,-0.08165279930746305,0.04984027370599448,0.11127556191720007,0.061696206518683294,0.014272475267928093,0.04768464955823289,0.012116851120166501,0.005649978676881689,0.04660683748435208,0.12852055509929283,0.05954058237092167,0.09295275666122646,0.015350287341808908,-0.0051281420619263066,0.07031870310972965,-0.004050329988045492,-0.0008168937664030856,-0.04392937672163507,0.020739347711212906,0.06061839444480248,-0.010517202431330305,-0.033151255982827074,-0.06548561819925106,0.04337340126270967,-0.06225218197760866,0.06385183066644486,0.030439656376140087,0.0724743272574913,-0.01913969902237667,-0.06656343027313188,-0.06009655782984706,0.06924089103584885,0.05954058237092167,-0.0266843835395423,-0.020217511096257485,-0.04608500086939666,0.07139651518361048,-0.07949717515970146,0.009961226972404908,-0.03854031635223107,0.01966153563733209,0.027206220154497678,-0.008361578283568675,-0.015906262800734303,0.004572166603000912,-0.04285156464775429,0.005649978676881689,-0.035306880130588664,0.023972783932855315,-0.018061886948495892,0.0422955891888289,-0.05470749746044306,-0.002972517914164677,-0.06656343027313188,-0.012672826579091896,-0.041773752573873474,-0.03099563183506548,-0.0051281420619263066,-0.05901874575596628,0.02505059600673609,-0.04608500086939666,0.0034943545291200974,0.05415152200151766,-0.04500718879551588,-0.05794093368208547,-0.05578530953432388,0.0013387303813585058,0.030439656376140087,0.006727790750762504,0.04660683748435208,0.026128408080616904,0.045529025410471304,0.04013996504106731,-0.018061886948495892,0.014272475267928093,0.0369065288194249,0.0034943545291200974,-0.07087467856865506,-0.033151255982827074,0.09403056873510728,0.03582871674554409,0.031517468450020895,-0.06548561819925106,-0.041773752573873474,-0.039618128426111884,-0.03854031635223107,-0.02560657146566148,-0.023450947317899894,-0.06656343027313188,0.032595280523901676,-0.04608500086939666,-0.029917819761184662,-0.012672826579091896,-0.015906262800734303,0.07139651518361048,-0.03099563183506548,0.00026091830747769084,0.0369065288194249,0.039062152967186486,-0.014828450726853487,0.006727790750762504,-0.06871905442089347,-0.00943939035744949,0.01966153563733209,0.07462995140525285,-0.008361578283568675,-0.023450947317899894,-0.04608500086939666,0.05415152200151766,-0.035306880130588664,-0.0320734439089463,-0.08165279930746305,0.04768464955823289,0.06061839444480248,0.0563071461492793,0.09834181703063047,0.05954058237092167,0.03367309259778249,0.0563071461492793,-0.06548561819925106,0.16085491731571683,-0.05578530953432388,-0.02452875939178067,-0.03638469220446948,-0.008361578283568675,-0.041773752573873474,0.1274427430254121,-0.07734155101193986,0.028284032228378497,-0.02560657146566148,-0.06225218197760866,-0.0008168937664030856,0.08864150836570328,-0.0320734439089463,0.030439656376140087,0.008883414898524095,0.006727790750762504,-0.020217511096257485,-0.02452875939178067,-0.011595014505211082,0.026128408080616904,-0.05901874575596628,-0.03638469220446948,-0.02452875939178067,0.018583723563451313,-0.09027529589850945,-0.0051281420619263066,-0.05255187331268147,-0.022373135244019075,-0.020217511096257485,-0.05470749746044306,-0.006205954135807083,-0.01698407487461508,0.055229334075398484,0.07678557555301448,0.018583723563451313,-0.022373135244019075,0.09295275666122646,-0.03099563183506548,0.039062152967186486,-0.061174369903727877,-0.008361578283568675,-0.03746250427835029,-0.013750638652972673,0.0735521393313721,-0.02452875939178067,0.03367309259778249,0.03475090467166331,-0.03854031635223107,-0.039618128426111884,-0.0018947058402839008,-0.03099563183506548,-0.04608500086939666,0.0013387303813585058,0.06492964274032566,0.04013996504106731,-0.023450947317899894,0.053073709927636895,0.04013996504106731,-0.020217511096257485,0.014272475267928093,-0.03422906805670789,0.006727790750762504,0.004572166603000912,0.030439656376140087,0.05199589785375607,0.061696206518683294,-0.007283766209687899,0.005649978676881689,0.05415152200151766,-0.008361578283568675,0.11450899813884247,0.0670852668880873,-0.05578530953432388,0.030439656376140087,-0.02560657146566148,0.10480868947391528,-0.006205954135807083,-0.047162812943277475,-0.048240625017158284,0.08540807214406083,-0.012672826579091896,-0.033151255982827074,-0.007283766209687899,-0.013750638652972673,0.05954058237092167,0.021817159785093684,0.018583723563451313,-0.011595014505211082,-0.002972517914164677,0.0175059114895705,-0.029917819761184662,-0.020217511096257485,-0.05794093368208547,0.06061839444480248,-0.040695940499992665,-0.07195249064253588,-0.05578530953432388,0.045529025410471304,-0.00943939035744949,-0.033151255982827074,0.04984027370599448,-0.08488623552910546,0.005649978676881689,0.020739347711212906,-0.007283766209687899,0.10480868947391528,-0.02452875939178067,-0.006205954135807083,-0.03854031635223107,0.13714305169033927,0.17055522598064407,0.002416542455239321,0.03798434089330568,-0.05794093368208547,-0.00943939035744949,-0.023450947317899894,-0.010517202431330305,-0.03422906805670789,-0.002972517914164677,0.0681630789619681,0.009961226972404908,0.002416542455239321,-0.03854031635223107,0.026128408080616904,-0.08919748382462865,0.06061839444480248,-0.028840007687303888,-0.029917819761184662,-0.01913969902237667,-0.040695940499992665,0.015350287341808908,-0.02452875939178067,0.0013387303813585058,0.06924089103584885,-0.06979686649477428,-0.029917819761184662,-0.04608500086939666,0.018583723563451313,0.0013387303813585058,-0.03099563183506548,-0.004050329988045492,0.015350287341808908,0.022894971858974496,0.045529025410471304,-0.04500718879551588,-0.033151255982827074,0.09726400495674965,0.05415152200151766,0.12313149472988882,-0.08057498723358228,0.09295275666122646,-0.050396249164919873,-0.011595014505211082,-0.027762195613423073,0.05846277029704089,0.08540807214406083,-0.0008168937664030856,0.006727790750762504,0.008883414898524095,0.08001901177465684,0.07139651518361048,-0.02452875939178067,-0.05470749746044306,-0.03638469220446948,0.016428099415689682,0.07786338762689529,-0.039618128426111884,0.011039039046285686,-0.040695940499992665,-0.03422906805670789,0.005649978676881689,0.08864150836570328,-0.033151255982827074,-0.05686312160820465,-0.03099563183506548,0.055229334075398484,-0.06009655782984706,0.0013387303813585058,-0.023450947317899894,-0.07410811479029747,0.01966153563733209,-0.015906262800734303,-0.015906262800734303,0.039062152967186486,-0.07303030271641665],\"xaxis\":\"x\",\"y\":[0.585026202689367,0.5863440081149532,0.5852270111351706,0.5858796385840324,0.5861683007248751,0.586218502836326,0.5862938060035023,0.5857666838332679,0.585026202689367,0.5852897637744843,0.5867205239508351,0.5855407743317388,0.586080447029836,0.5857666838332679,0.5860427954462478,0.5859549417512088,0.5852521121908961,0.5856035269710524,0.5858670880561697,0.5859549417512088,0.5864067607542669,0.5860051438626597,0.5857917848889933,0.5850387532172298,0.5853274153580724,0.5858921891118951,0.5866452207836587,0.5850513037450925,0.5859925933347969,0.5858168859447188,0.5852270111351706,0.5865071649771687,0.5842857215454662,0.5863314575870906,0.5864820639214433,0.5861055480855615,0.5854780216924251,0.5856160774989152,0.5849132479386024,0.5855784259153269,0.5858419870004442,0.5865322660328942,0.5858670880561697,0.5860176943905224,0.5849508995221907,0.5861557501970124,0.5858796385840324,0.5865950186722078,0.5862310533641888,0.5855784259153269,0.5858294364725815,0.5855533248596015,0.585854537528307,0.5859298406954833,0.5854529206366997,0.5863189070592278,0.5852646627187589,0.5864820639214433,0.586494614449306,0.5860427954462478,0.5857917848889933,0.5856913806660915,0.5858294364725815,0.5861808512527379,0.5860427954462478,0.5860302449183851,0.5859549417512088,0.5859172901676206,0.5860929975576987,0.5862812554756397,0.5865573670886196,0.5853525164137979,0.5857917848889933,0.5859800428069342,0.585716481721817,0.5861055480855615,0.5854152690531116,0.5861683007248751,0.5864193112821297,0.5861808512527379,0.5856035269710524,0.5860051438626597,0.5861557501970124,0.5856286280267778,0.5862059523084633,0.5849132479386024,0.5866201197279333,0.5858168859447188,0.586218502836326,0.5863063565313651,0.5860427954462478,0.5851391574401316,0.5856913806660915,0.586494614449306,0.585942391223346,0.5864193112821297,0.5856286280267778,0.5847124394927988,0.5858043354168561,0.586494614449306,0.5855407743317388,0.5862687049477769,0.5854152690531116,0.5852646627187589,0.5849885511057789,0.5861180986134242,0.586632670255796,0.585164258495857,0.585214460607308,0.585854537528307,0.5861180986134242,0.5856913806660915,0.5855031227481506,0.5855784259153269,0.5844614289355443,0.5857290322496796,0.5850638542729552,0.5859925933347969,0.5858670880561697,0.5862938060035023,0.5856913806660915,0.5855407743317388,0.584800293187838,0.5853399658859352,0.5854654711645625,0.5858419870004442,0.5864569628657178,0.5857666838332679,0.5864695133935806,0.5855533248596015,0.5846245857977598,0.5865573670886196,0.5859925933347969,0.5863691091706787,0.5852395616630334,0.5850889553286807,0.5866954228951096,0.585164258495857,0.5844488784076817,0.585026202689367,0.5855784259153269,0.5851893595515825,0.5856035269710524,0.5856788301382287,0.5852019100794452,0.5842480699618781,0.5850513037450925,0.5846622373813479,0.5855658753874643,0.5858043354168561,0.5849257984664652,0.5857917848889933,0.5857541333054052,0.5862561544199142,0.5855031227481506,0.5850387532172298,0.5858670880561697,0.5861306491412869,0.5865071649771687,0.5852395616630334,0.5864695133935806,0.5850011016336416,0.5853901679973861,0.5849006974107398,0.5859674922790715,0.5865197155050315,0.586444412337855,0.584938348994328,0.5850513037450925,0.5860553459741106,0.5859800428069342,0.5862812554756397,0.5849132479386024,0.5866703218393842,0.5856286280267778,0.5861934017806005,0.5855156732760134,0.5854278195809742,0.5858419870004442,0.5859298406954833,0.5856913806660915,0.5862436038920514,0.5856788301382287,0.5861557501970124,0.5854654711645625,0.5859549417512088,0.5852521121908961,0.5863816596985415,0.5857792343611306,0.5865197155050315,0.5858921891118951,0.5862310533641888,0.5861055480855615,0.5858043354168561,0.5864318618099924,0.5854529206366997,0.5862812554756397,0.5857039311939543,0.5851140563844061,0.5862687049477769,0.5864193112821297,0.5863942102264041,0.5857290322496796,0.5853901679973861,0.5856662796103661,0.5852019100794452,0.585440370108837,0.585214460607308,0.5852772132466215,0.5859549417512088,0.5855784259153269,0.5853148648302098,0.5857039311939543,0.5865699176164824,0.5861306491412869,0.5846496868534853,0.5853274153580724,0.5853776174695233,0.5865071649771687,0.5862310533641888,0.5862059523084633,0.5861934017806005,0.5860427954462478,0.5860176943905224,0.5865197155050315,0.5853650669416607,0.5862812554756397,0.5860929975576987,0.5858921891118951,0.5859298406954833,0.5849132479386024,0.5861055480855615,0.5857415827775424,0.5853148648302098,0.5852897637744843,0.5859172901676206,0.5856662796103661,0.5865448165607569,0.585854537528307,0.5855156732760134,0.5848755963550143,0.5858419870004442,0.5860176943905224,0.5862812554756397,0.5851140563844061,0.5861557501970124,0.5861180986134242,0.5866954228951096,0.5851893595515825,0.5850387532172298,0.5850889553286807,0.5845994847420344,0.5850513037450925,0.5853525164137979,0.5850889553286807,0.5865071649771687,0.5838715541259962,0.5863942102264041,0.5860302449183851,0.5861683007248751,0.5858419870004442,0.5862310533641888,0.5842606204897407,0.5866452207836587,0.5854152690531116,0.5860427954462478,0.5864695133935806,0.5857541333054052,0.5847124394927988,0.5861180986134242,0.5853901679973861,0.5856411785546406,0.5856662796103661,0.5859800428069342,0.5860302449183851,0.5858796385840324,0.585440370108837,0.5864318618099924,0.5861683007248751,0.5860302449183851,0.585528223803876,0.5867958271180114,0.5858043354168561,0.586356558642816,0.5860051438626597,0.5859800428069342,0.5863816596985415,0.5858168859447188,0.585942391223346,0.5851015058565434,0.5848504952992889,0.585528223803876,0.5860051438626597,0.5846622373813479,0.5861055480855615,0.5852897637744843,0.5864569628657178,0.5858419870004442,0.5861808512527379,0.5859047396397579,0.584888146882877,0.5860302449183851,0.5853525164137979,0.5853399658859352,0.5861934017806005,0.5862059523084633,0.5857666838332679,0.5861055480855615,0.5862812554756397,0.5857290322496796,0.5849885511057789,0.5852772132466215,0.5860176943905224,0.5851266069122688,0.5852772132466215,0.5859800428069342,0.5855784259153269,0.5861431996691496,0.5856662796103661,0.5856913806660915,0.5853901679973861,0.5851391574401316,0.585026202689367,0.5858294364725815,0.5856788301382287,0.5851140563844061,0.5858419870004442,0.5844112268240934,0.5849634500500533,0.5863942102264041,0.5853901679973861,0.5860427954462478,0.584524181574858,0.5858168859447188,0.5862938060035023,0.5863063565313651,0.5847500910763871,0.5858921891118951,0.5861306491412869,0.5858294364725815,0.5859047396397579,0.5850513037450925,0.5854905722202879,0.585528223803876,0.5858796385840324,0.5857792343611306,0.5855407743317388,0.5860929975576987,0.5859800428069342,0.5864193112821297,0.5850387532172298,0.586218502836326,0.5865824681443451,0.5863942102264041,0.585214460607308,0.585854537528307,0.5861306491412869,0.585164258495857,0.5867330744786978,0.5856788301382287,0.5855031227481506,0.5858294364725815,0.584524181574858,0.5860302449183851,0.5858168859447188,0.5861934017806005,0.5841476657389761,0.5837585993752317,0.585716481721817,0.585302314302347,0.5864193112821297,0.585854537528307,0.5860176943905224,0.5858670880561697,0.5861431996691496,0.5857792343611306,0.5849508995221907,0.5856286280267778,0.585716481721817,0.5861934017806005,0.585440370108837,0.5867832765901487,0.5850387532172298,0.586080447029836,0.5860929975576987,0.5859674922790715,0.586218502836326,0.5855658753874643,0.5860302449183851,0.5857290322496796,0.584938348994328,0.5865573670886196,0.5860929975576987,0.5862812554756397,0.585528223803876,0.5857290322496796,0.5861055480855615,0.5857917848889933,0.5855658753874643,0.5854780216924251,0.585214460607308,0.5862687049477769,0.5861306491412869,0.584612035269897,0.5851140563844061,0.5843108226011916,0.5866828723672469,0.5846622373813479,0.5863314575870906,0.5858796385840324,0.5860678965019733,0.5850638542729552,0.5847500910763871,0.5857541333054052,0.5856662796103661,0.5856411785546406,0.5848128437157006,0.5849132479386024,0.5860302449183851,0.5863816596985415,0.5861683007248751,0.5855533248596015,0.5848379447714261,0.5862059523084633,0.5856160774989152,0.586218502836326,0.5861431996691496,0.5856788301382287,0.5847124394927988,0.5861306491412869,0.5864067607542669,0.5861055480855615,0.5851015058565434,0.586444412337855,0.5857290322496796,0.5860176943905224,0.5866075692000705,0.5855156732760134,0.5859298406954833,0.5859298406954833,0.5852897637744843,0.5865950186722078],\"yaxis\":\"y\",\"type\":\"scatter\"}],                        {\"template\":{\"data\":{\"histogram2dcontour\":[{\"type\":\"histogram2dcontour\",\"colorbar\":{\"outlinewidth\":0,\"ticks\":\"\"},\"colorscale\":[[0.0,\"#0d0887\"],[0.1111111111111111,\"#46039f\"],[0.2222222222222222,\"#7201a8\"],[0.3333333333333333,\"#9c179e\"],[0.4444444444444444,\"#bd3786\"],[0.5555555555555556,\"#d8576b\"],[0.6666666666666666,\"#ed7953\"],[0.7777777777777778,\"#fb9f3a\"],[0.8888888888888888,\"#fdca26\"],[1.0,\"#f0f921\"]]}],\"choropleth\":[{\"type\":\"choropleth\",\"colorbar\":{\"outlinewidth\":0,\"ticks\":\"\"}}],\"histogram2d\":[{\"type\":\"histogram2d\",\"colorbar\":{\"outlinewidth\":0,\"ticks\":\"\"},\"colorscale\":[[0.0,\"#0d0887\"],[0.1111111111111111,\"#46039f\"],[0.2222222222222222,\"#7201a8\"],[0.3333333333333333,\"#9c179e\"],[0.4444444444444444,\"#bd3786\"],[0.5555555555555556,\"#d8576b\"],[0.6666666666666666,\"#ed7953\"],[0.7777777777777778,\"#fb9f3a\"],[0.8888888888888888,\"#fdca26\"],[1.0,\"#f0f921\"]]}],\"heatmap\":[{\"type\":\"heatmap\",\"colorbar\":{\"outlinewidth\":0,\"ticks\":\"\"},\"colorscale\":[[0.0,\"#0d0887\"],[0.1111111111111111,\"#46039f\"],[0.2222222222222222,\"#7201a8\"],[0.3333333333333333,\"#9c179e\"],[0.4444444444444444,\"#bd3786\"],[0.5555555555555556,\"#d8576b\"],[0.6666666666666666,\"#ed7953\"],[0.7777777777777778,\"#fb9f3a\"],[0.8888888888888888,\"#fdca26\"],[1.0,\"#f0f921\"]]}],\"heatmapgl\":[{\"type\":\"heatmapgl\",\"colorbar\":{\"outlinewidth\":0,\"ticks\":\"\"},\"colorscale\":[[0.0,\"#0d0887\"],[0.1111111111111111,\"#46039f\"],[0.2222222222222222,\"#7201a8\"],[0.3333333333333333,\"#9c179e\"],[0.4444444444444444,\"#bd3786\"],[0.5555555555555556,\"#d8576b\"],[0.6666666666666666,\"#ed7953\"],[0.7777777777777778,\"#fb9f3a\"],[0.8888888888888888,\"#fdca26\"],[1.0,\"#f0f921\"]]}],\"contourcarpet\":[{\"type\":\"contourcarpet\",\"colorbar\":{\"outlinewidth\":0,\"ticks\":\"\"}}],\"contour\":[{\"type\":\"contour\",\"colorbar\":{\"outlinewidth\":0,\"ticks\":\"\"},\"colorscale\":[[0.0,\"#0d0887\"],[0.1111111111111111,\"#46039f\"],[0.2222222222222222,\"#7201a8\"],[0.3333333333333333,\"#9c179e\"],[0.4444444444444444,\"#bd3786\"],[0.5555555555555556,\"#d8576b\"],[0.6666666666666666,\"#ed7953\"],[0.7777777777777778,\"#fb9f3a\"],[0.8888888888888888,\"#fdca26\"],[1.0,\"#f0f921\"]]}],\"surface\":[{\"type\":\"surface\",\"colorbar\":{\"outlinewidth\":0,\"ticks\":\"\"},\"colorscale\":[[0.0,\"#0d0887\"],[0.1111111111111111,\"#46039f\"],[0.2222222222222222,\"#7201a8\"],[0.3333333333333333,\"#9c179e\"],[0.4444444444444444,\"#bd3786\"],[0.5555555555555556,\"#d8576b\"],[0.6666666666666666,\"#ed7953\"],[0.7777777777777778,\"#fb9f3a\"],[0.8888888888888888,\"#fdca26\"],[1.0,\"#f0f921\"]]}],\"mesh3d\":[{\"type\":\"mesh3d\",\"colorbar\":{\"outlinewidth\":0,\"ticks\":\"\"}}],\"scatter\":[{\"fillpattern\":{\"fillmode\":\"overlay\",\"size\":10,\"solidity\":0.2},\"type\":\"scatter\"}],\"parcoords\":[{\"type\":\"parcoords\",\"line\":{\"colorbar\":{\"outlinewidth\":0,\"ticks\":\"\"}}}],\"scatterpolargl\":[{\"type\":\"scatterpolargl\",\"marker\":{\"colorbar\":{\"outlinewidth\":0,\"ticks\":\"\"}}}],\"bar\":[{\"error_x\":{\"color\":\"#2a3f5f\"},\"error_y\":{\"color\":\"#2a3f5f\"},\"marker\":{\"line\":{\"color\":\"#E5ECF6\",\"width\":0.5},\"pattern\":{\"fillmode\":\"overlay\",\"size\":10,\"solidity\":0.2}},\"type\":\"bar\"}],\"scattergeo\":[{\"type\":\"scattergeo\",\"marker\":{\"colorbar\":{\"outlinewidth\":0,\"ticks\":\"\"}}}],\"scatterpolar\":[{\"type\":\"scatterpolar\",\"marker\":{\"colorbar\":{\"outlinewidth\":0,\"ticks\":\"\"}}}],\"histogram\":[{\"marker\":{\"pattern\":{\"fillmode\":\"overlay\",\"size\":10,\"solidity\":0.2}},\"type\":\"histogram\"}],\"scattergl\":[{\"type\":\"scattergl\",\"marker\":{\"colorbar\":{\"outlinewidth\":0,\"ticks\":\"\"}}}],\"scatter3d\":[{\"type\":\"scatter3d\",\"line\":{\"colorbar\":{\"outlinewidth\":0,\"ticks\":\"\"}},\"marker\":{\"colorbar\":{\"outlinewidth\":0,\"ticks\":\"\"}}}],\"scattermapbox\":[{\"type\":\"scattermapbox\",\"marker\":{\"colorbar\":{\"outlinewidth\":0,\"ticks\":\"\"}}}],\"scatterternary\":[{\"type\":\"scatterternary\",\"marker\":{\"colorbar\":{\"outlinewidth\":0,\"ticks\":\"\"}}}],\"scattercarpet\":[{\"type\":\"scattercarpet\",\"marker\":{\"colorbar\":{\"outlinewidth\":0,\"ticks\":\"\"}}}],\"carpet\":[{\"aaxis\":{\"endlinecolor\":\"#2a3f5f\",\"gridcolor\":\"white\",\"linecolor\":\"white\",\"minorgridcolor\":\"white\",\"startlinecolor\":\"#2a3f5f\"},\"baxis\":{\"endlinecolor\":\"#2a3f5f\",\"gridcolor\":\"white\",\"linecolor\":\"white\",\"minorgridcolor\":\"white\",\"startlinecolor\":\"#2a3f5f\"},\"type\":\"carpet\"}],\"table\":[{\"cells\":{\"fill\":{\"color\":\"#EBF0F8\"},\"line\":{\"color\":\"white\"}},\"header\":{\"fill\":{\"color\":\"#C8D4E3\"},\"line\":{\"color\":\"white\"}},\"type\":\"table\"}],\"barpolar\":[{\"marker\":{\"line\":{\"color\":\"#E5ECF6\",\"width\":0.5},\"pattern\":{\"fillmode\":\"overlay\",\"size\":10,\"solidity\":0.2}},\"type\":\"barpolar\"}],\"pie\":[{\"automargin\":true,\"type\":\"pie\"}]},\"layout\":{\"autotypenumbers\":\"strict\",\"colorway\":[\"#636efa\",\"#EF553B\",\"#00cc96\",\"#ab63fa\",\"#FFA15A\",\"#19d3f3\",\"#FF6692\",\"#B6E880\",\"#FF97FF\",\"#FECB52\"],\"font\":{\"color\":\"#2a3f5f\"},\"hovermode\":\"closest\",\"hoverlabel\":{\"align\":\"left\"},\"paper_bgcolor\":\"white\",\"plot_bgcolor\":\"#E5ECF6\",\"polar\":{\"bgcolor\":\"#E5ECF6\",\"angularaxis\":{\"gridcolor\":\"white\",\"linecolor\":\"white\",\"ticks\":\"\"},\"radialaxis\":{\"gridcolor\":\"white\",\"linecolor\":\"white\",\"ticks\":\"\"}},\"ternary\":{\"bgcolor\":\"#E5ECF6\",\"aaxis\":{\"gridcolor\":\"white\",\"linecolor\":\"white\",\"ticks\":\"\"},\"baxis\":{\"gridcolor\":\"white\",\"linecolor\":\"white\",\"ticks\":\"\"},\"caxis\":{\"gridcolor\":\"white\",\"linecolor\":\"white\",\"ticks\":\"\"}},\"coloraxis\":{\"colorbar\":{\"outlinewidth\":0,\"ticks\":\"\"}},\"colorscale\":{\"sequential\":[[0.0,\"#0d0887\"],[0.1111111111111111,\"#46039f\"],[0.2222222222222222,\"#7201a8\"],[0.3333333333333333,\"#9c179e\"],[0.4444444444444444,\"#bd3786\"],[0.5555555555555556,\"#d8576b\"],[0.6666666666666666,\"#ed7953\"],[0.7777777777777778,\"#fb9f3a\"],[0.8888888888888888,\"#fdca26\"],[1.0,\"#f0f921\"]],\"sequentialminus\":[[0.0,\"#0d0887\"],[0.1111111111111111,\"#46039f\"],[0.2222222222222222,\"#7201a8\"],[0.3333333333333333,\"#9c179e\"],[0.4444444444444444,\"#bd3786\"],[0.5555555555555556,\"#d8576b\"],[0.6666666666666666,\"#ed7953\"],[0.7777777777777778,\"#fb9f3a\"],[0.8888888888888888,\"#fdca26\"],[1.0,\"#f0f921\"]],\"diverging\":[[0,\"#8e0152\"],[0.1,\"#c51b7d\"],[0.2,\"#de77ae\"],[0.3,\"#f1b6da\"],[0.4,\"#fde0ef\"],[0.5,\"#f7f7f7\"],[0.6,\"#e6f5d0\"],[0.7,\"#b8e186\"],[0.8,\"#7fbc41\"],[0.9,\"#4d9221\"],[1,\"#276419\"]]},\"xaxis\":{\"gridcolor\":\"white\",\"linecolor\":\"white\",\"ticks\":\"\",\"title\":{\"standoff\":15},\"zerolinecolor\":\"white\",\"automargin\":true,\"zerolinewidth\":2},\"yaxis\":{\"gridcolor\":\"white\",\"linecolor\":\"white\",\"ticks\":\"\",\"title\":{\"standoff\":15},\"zerolinecolor\":\"white\",\"automargin\":true,\"zerolinewidth\":2},\"scene\":{\"xaxis\":{\"backgroundcolor\":\"#E5ECF6\",\"gridcolor\":\"white\",\"linecolor\":\"white\",\"showbackground\":true,\"ticks\":\"\",\"zerolinecolor\":\"white\",\"gridwidth\":2},\"yaxis\":{\"backgroundcolor\":\"#E5ECF6\",\"gridcolor\":\"white\",\"linecolor\":\"white\",\"showbackground\":true,\"ticks\":\"\",\"zerolinecolor\":\"white\",\"gridwidth\":2},\"zaxis\":{\"backgroundcolor\":\"#E5ECF6\",\"gridcolor\":\"white\",\"linecolor\":\"white\",\"showbackground\":true,\"ticks\":\"\",\"zerolinecolor\":\"white\",\"gridwidth\":2}},\"shapedefaults\":{\"line\":{\"color\":\"#2a3f5f\"}},\"annotationdefaults\":{\"arrowcolor\":\"#2a3f5f\",\"arrowhead\":0,\"arrowwidth\":1},\"geo\":{\"bgcolor\":\"white\",\"landcolor\":\"#E5ECF6\",\"subunitcolor\":\"white\",\"showland\":true,\"showlakes\":true,\"lakecolor\":\"white\"},\"title\":{\"x\":0.05},\"mapbox\":{\"style\":\"light\"}}},\"xaxis\":{\"anchor\":\"y\",\"domain\":[0.0,1.0],\"title\":{\"text\":\"BMI\"}},\"yaxis\":{\"anchor\":\"x\",\"domain\":[0.0,1.0],\"title\":{\"text\":\"target\"}},\"legend\":{\"tracegroupgap\":0},\"margin\":{\"t\":60}},                        {\"responsive\": true}                    ).then(function(){\n",
              "                            \n",
              "var gd = document.getElementById('f576a7ac-30f4-479e-b682-6668a6011da9');\n",
              "var x = new MutationObserver(function (mutations, observer) {{\n",
              "        var display = window.getComputedStyle(gd).display;\n",
              "        if (!display || display === 'none') {{\n",
              "            console.log([gd, 'removed!']);\n",
              "            Plotly.purge(gd);\n",
              "            observer.disconnect();\n",
              "        }}\n",
              "}});\n",
              "\n",
              "// Listen for the removal of the full notebook cells\n",
              "var notebookContainer = gd.closest('#notebook-container');\n",
              "if (notebookContainer) {{\n",
              "    x.observe(notebookContainer, {childList: true});\n",
              "}}\n",
              "\n",
              "// Listen for the clearing of the current output cell\n",
              "var outputEl = gd.closest('.output');\n",
              "if (outputEl) {{\n",
              "    x.observe(outputEl, {childList: true});\n",
              "}}\n",
              "\n",
              "                        })                };                            </script>        </div>\n",
              "</body>\n",
              "</html>"
            ]
          },
          "metadata": {}
        }
      ]
    },
    {
      "cell_type": "markdown",
      "metadata": {
        "id": "b4t0xlPMwwuf"
      },
      "source": [
        "* We're going to need to compute the gradients for our variable `model.beta_1` and our constant `model.beta_0`. To do this, we're going to need to review our derivative formulas. Since we're not here to do math, we're going to give you these formulas.\n",
        "  * `derive_model_beta_1 = 2/len(y_pred)*np.sum((x @ (y_pred - y_true)))`\n",
        "  * `derive_model_beta_0 = 2/len(y_pred)*(np.sum(y_pred - y_true))`\n",
        "\n",
        "  * Feel free to read this article if you want to know more about the calculation of the derivative: [Gradient Descent Derivation](https://mccormickml.com/2014/03/04/gradient-descent-derivation/)\n",
        "\n",
        "\n",
        "  * So using the above formulas, code the first function `derivative_mse_beta_1` that will take the arguments:\n",
        "    * `x` --> the values for your variable / `y_pred` --> the values predicted by your model / `y_true` --> the values of the target variable\n"
      ]
    },
    {
      "cell_type": "code",
      "metadata": {
        "id": "JrVNZeiFnoDE"
      },
      "source": [
        "def derivative_mse_beta_1(x, y_pred, y_true):\n",
        "  return 2/len(y_pred)*np.sum((x @ (y_pred - y_true)))  # @ is a matrix multiplication\n"
      ],
      "execution_count": 21,
      "outputs": []
    },
    {
      "cell_type": "markdown",
      "metadata": {
        "id": "wtno1PCmzGSy"
      },
      "source": [
        "* Test you function"
      ]
    },
    {
      "cell_type": "code",
      "metadata": {
        "id": "n5Fgfu5En1Cl",
        "colab": {
          "base_uri": "https://localhost:8080/"
        },
        "outputId": "90d8510a-8f26-43a3-db1d-af15d947ed73"
      },
      "source": [
        "derivative_mse_beta_1(diabetes_X, model(diabetes_X), y)"
      ],
      "execution_count": 22,
      "outputs": [
        {
          "output_type": "execute_result",
          "data": {
            "text/plain": [
              "-4.296139840873984"
            ]
          },
          "metadata": {},
          "execution_count": 22
        }
      ]
    },
    {
      "cell_type": "markdown",
      "metadata": {
        "id": "t7uluSUoy6x4"
      },
      "source": [
        "* So using the above formulas, now code the `derivative_mse_beta_0` function which will take the arguments :\n",
        "    * `y_pred` --> the values predicted by your model / `y_true` --> the actual values to predict"
      ]
    },
    {
      "cell_type": "code",
      "source": [
        "def derivative_mse_beta_0(y_pred, y_true):\n",
        "  return 2/len(y_pred)*(np.sum(y_pred - y_true))"
      ],
      "metadata": {
        "id": "4IhmkMHJ3gH-"
      },
      "execution_count": 23,
      "outputs": []
    },
    {
      "cell_type": "markdown",
      "metadata": {
        "id": "4R9sfYPdzNYc"
      },
      "source": [
        "* Test you function"
      ]
    },
    {
      "cell_type": "code",
      "source": [
        "derivative_mse_beta_0(model(diabetes_X), y)"
      ],
      "metadata": {
        "colab": {
          "base_uri": "https://localhost:8080/"
        },
        "id": "65jvVMBc4bPH",
        "outputId": "d5275408-ae68-4ec6-dbb5-f6875ed927ea"
      },
      "execution_count": 24,
      "outputs": [
        {
          "output_type": "execute_result",
          "data": {
            "text/plain": [
              "-303.09547908373685"
            ]
          },
          "metadata": {},
          "execution_count": 24
        }
      ]
    },
    {
      "cell_type": "markdown",
      "metadata": {
        "id": "tmtfiOnszUqi"
      },
      "source": [
        "* We will try to see if we can minimize our cost function using the two gradients above. To update our variables, we need to subtract their respective gradients. Ex:\n",
        "  * `param = param - learning_rate * gradient`\n",
        "\n",
        "  * Set a `learning_rate` to 0.1\n",
        "  * Try to apply your formula on `model.beta_1` and `model.beta_0`."
      ]
    },
    {
      "cell_type": "code",
      "source": [
        "learning_rate = 0.1"
      ],
      "metadata": {
        "id": "99Z2_wo45QA9"
      },
      "execution_count": 25,
      "outputs": []
    },
    {
      "cell_type": "code",
      "source": [
        "print('old model beta 1 : {}'.format(model.beta_1))\n",
        "print('old model beta 0: {}'.format(model.beta_0))"
      ],
      "metadata": {
        "colab": {
          "base_uri": "https://localhost:8080/"
        },
        "id": "l5QuLMxB59t4",
        "outputId": "2252b8af-8b2b-432d-ef10-7a43b7776409"
      },
      "execution_count": 26,
      "outputs": [
        {
          "output_type": "stream",
          "name": "stdout",
          "text": [
            "old model beta 1 : [-0.01164445]\n",
            "old model beta 0: [0.58574462]\n"
          ]
        }
      ]
    },
    {
      "cell_type": "code",
      "source": [
        "model.beta_1 -= learning_rate * derivative_mse_beta_1(diabetes_X, model(diabetes_X), y)\n",
        "model.beta_0 -= learning_rate * derivative_mse_beta_0(model(diabetes_X), y)"
      ],
      "metadata": {
        "id": "UQCQLqBc42fG"
      },
      "execution_count": 27,
      "outputs": []
    },
    {
      "cell_type": "code",
      "source": [
        "print('new model beta 1 : {}'.format(model.beta_1))\n",
        "print('new model beta 0: {}'.format(model.beta_0))"
      ],
      "metadata": {
        "colab": {
          "base_uri": "https://localhost:8080/"
        },
        "id": "V89ZdjxP6Ynd",
        "outputId": "9e2609c4-2beb-4771-c09d-b13706e91079"
      },
      "execution_count": 28,
      "outputs": [
        {
          "output_type": "stream",
          "name": "stdout",
          "text": [
            "new model beta 1 : [0.41796953]\n",
            "new model beta 0: [30.89529253]\n"
          ]
        }
      ]
    },
    {
      "cell_type": "code",
      "source": [
        "reg_line = px.line(x=diabetes_X, y=model(diabetes_X))\n",
        "\n",
        "plot = px.scatter(x=diabetes_X, y=y, labels={'x': 'BMI','y' : 'target'})\n",
        "reg_line.update_traces(line=dict(color='red'))\n",
        "plot.add_trace(reg_line.data[0])\n",
        "plot.show()"
      ],
      "metadata": {
        "colab": {
          "base_uri": "https://localhost:8080/",
          "height": 542
        },
        "id": "Rh5uwxr460F6",
        "outputId": "afd643c4-52fa-4aeb-a3eb-fd72f21ac6de"
      },
      "execution_count": 29,
      "outputs": [
        {
          "output_type": "display_data",
          "data": {
            "text/html": [
              "<html>\n",
              "<head><meta charset=\"utf-8\" /></head>\n",
              "<body>\n",
              "    <div>            <script src=\"https://cdnjs.cloudflare.com/ajax/libs/mathjax/2.7.5/MathJax.js?config=TeX-AMS-MML_SVG\"></script><script type=\"text/javascript\">if (window.MathJax && window.MathJax.Hub && window.MathJax.Hub.Config) {window.MathJax.Hub.Config({SVG: {font: \"STIX-Web\"}});}</script>                <script type=\"text/javascript\">window.PlotlyConfig = {MathJaxConfig: 'local'};</script>\n",
              "        <script charset=\"utf-8\" src=\"https://cdn.plot.ly/plotly-2.24.1.min.js\"></script>                <div id=\"2796bfc8-0d9a-4a5b-a159-5e77f058b455\" class=\"plotly-graph-div\" style=\"height:525px; width:100%;\"></div>            <script type=\"text/javascript\">                                    window.PLOTLYENV=window.PLOTLYENV || {};                                    if (document.getElementById(\"2796bfc8-0d9a-4a5b-a159-5e77f058b455\")) {                    Plotly.newPlot(                        \"2796bfc8-0d9a-4a5b-a159-5e77f058b455\",                        [{\"hovertemplate\":\"BMI=%{x}\\u003cbr\\u003etarget=%{y}\\u003cextra\\u003e\\u003c\\u002fextra\\u003e\",\"legendgroup\":\"\",\"marker\":{\"color\":\"#636efa\",\"symbol\":\"circle\"},\"mode\":\"markers\",\"name\":\"\",\"orientation\":\"v\",\"showlegend\":false,\"x\":[0.061696206518683294,-0.051474061238800654,0.04445121333659049,-0.011595014505211082,-0.03638469220446948,-0.040695940499992665,-0.047162812943277475,-0.0018947058402839008,0.061696206518683294,0.039062152967186486,-0.08380842345522464,0.0175059114895705,-0.028840007687303888,-0.0018947058402839008,-0.02560657146566148,-0.018061886948495892,0.0422955891888289,0.012116851120166501,-0.010517202431330305,-0.018061886948495892,-0.05686312160820465,-0.022373135244019075,-0.004050329988045492,0.06061839444480248,0.03582871674554409,-0.012672826579091896,-0.07734155101193986,0.05954058237092167,-0.0212953231701383,-0.006205954135807083,0.04445121333659049,-0.06548561819925106,0.12528711887765046,-0.050396249164919873,-0.06332999405148947,-0.03099563183506548,0.022894971858974496,0.011039039046285686,0.07139651518361048,0.014272475267928093,-0.008361578283568675,-0.06764124234701265,-0.010517202431330305,-0.023450947317899894,0.0681630789619681,-0.035306880130588664,-0.011595014505211082,-0.07303030271641665,-0.041773752573873474,0.014272475267928093,-0.007283766209687899,0.016428099415689682,-0.00943939035744949,-0.015906262800734303,0.02505059600673609,-0.049318437091039065,0.04121777711494808,-0.06332999405148947,-0.06440780612537028,-0.02560657146566148,-0.004050329988045492,0.004572166603000912,-0.007283766209687899,-0.03746250427835029,-0.02560657146566148,-0.02452875939178067,-0.018061886948495892,-0.014828450726853487,-0.029917819761184662,-0.04608500086939666,-0.06979686649477428,0.03367309259778249,-0.004050329988045492,-0.020217511096257485,0.002416542455239321,-0.03099563183506548,0.028284032228378497,-0.03638469220446948,-0.05794093368208547,-0.03746250427835029,0.012116851120166501,-0.022373135244019075,-0.035306880130588664,0.009961226972404908,-0.039618128426111884,0.07139651518361048,-0.07518592686417827,-0.006205954135807083,-0.040695940499992665,-0.048240625017158284,-0.02560657146566148,0.05199589785375607,0.004572166603000912,-0.06440780612537028,-0.01698407487461508,-0.05794093368208547,0.009961226972404908,0.08864150836570328,-0.0051281420619263066,-0.06440780612537028,0.0175059114895705,-0.04500718879551588,0.028284032228378497,0.04121777711494808,0.06492964274032566,-0.0320734439089463,-0.07626373893805906,0.04984027370599448,0.045529025410471304,-0.00943939035744949,-0.0320734439089463,0.004572166603000912,0.020739347711212906,0.014272475267928093,0.11019774984331929,0.0013387303813585058,0.05846277029704089,-0.0212953231701383,-0.010517202431330305,-0.047162812943277475,0.004572166603000912,0.0175059114895705,0.08109682384853766,0.03475090467166331,0.023972783932855315,-0.008361578283568675,-0.061174369903727877,-0.0018947058402839008,-0.06225218197760866,0.016428099415689682,0.09618619288286882,-0.06979686649477428,-0.0212953231701383,-0.05362968538656229,0.04337340126270967,0.0563071461492793,-0.08165279930746305,0.04984027370599448,0.11127556191720007,0.061696206518683294,0.014272475267928093,0.04768464955823289,0.012116851120166501,0.005649978676881689,0.04660683748435208,0.12852055509929283,0.05954058237092167,0.09295275666122646,0.015350287341808908,-0.0051281420619263066,0.07031870310972965,-0.004050329988045492,-0.0008168937664030856,-0.04392937672163507,0.020739347711212906,0.06061839444480248,-0.010517202431330305,-0.033151255982827074,-0.06548561819925106,0.04337340126270967,-0.06225218197760866,0.06385183066644486,0.030439656376140087,0.0724743272574913,-0.01913969902237667,-0.06656343027313188,-0.06009655782984706,0.06924089103584885,0.05954058237092167,-0.0266843835395423,-0.020217511096257485,-0.04608500086939666,0.07139651518361048,-0.07949717515970146,0.009961226972404908,-0.03854031635223107,0.01966153563733209,0.027206220154497678,-0.008361578283568675,-0.015906262800734303,0.004572166603000912,-0.04285156464775429,0.005649978676881689,-0.035306880130588664,0.023972783932855315,-0.018061886948495892,0.0422955891888289,-0.05470749746044306,-0.002972517914164677,-0.06656343027313188,-0.012672826579091896,-0.041773752573873474,-0.03099563183506548,-0.0051281420619263066,-0.05901874575596628,0.02505059600673609,-0.04608500086939666,0.0034943545291200974,0.05415152200151766,-0.04500718879551588,-0.05794093368208547,-0.05578530953432388,0.0013387303813585058,0.030439656376140087,0.006727790750762504,0.04660683748435208,0.026128408080616904,0.045529025410471304,0.04013996504106731,-0.018061886948495892,0.014272475267928093,0.0369065288194249,0.0034943545291200974,-0.07087467856865506,-0.033151255982827074,0.09403056873510728,0.03582871674554409,0.031517468450020895,-0.06548561819925106,-0.041773752573873474,-0.039618128426111884,-0.03854031635223107,-0.02560657146566148,-0.023450947317899894,-0.06656343027313188,0.032595280523901676,-0.04608500086939666,-0.029917819761184662,-0.012672826579091896,-0.015906262800734303,0.07139651518361048,-0.03099563183506548,0.00026091830747769084,0.0369065288194249,0.039062152967186486,-0.014828450726853487,0.006727790750762504,-0.06871905442089347,-0.00943939035744949,0.01966153563733209,0.07462995140525285,-0.008361578283568675,-0.023450947317899894,-0.04608500086939666,0.05415152200151766,-0.035306880130588664,-0.0320734439089463,-0.08165279930746305,0.04768464955823289,0.06061839444480248,0.0563071461492793,0.09834181703063047,0.05954058237092167,0.03367309259778249,0.0563071461492793,-0.06548561819925106,0.16085491731571683,-0.05578530953432388,-0.02452875939178067,-0.03638469220446948,-0.008361578283568675,-0.041773752573873474,0.1274427430254121,-0.07734155101193986,0.028284032228378497,-0.02560657146566148,-0.06225218197760866,-0.0008168937664030856,0.08864150836570328,-0.0320734439089463,0.030439656376140087,0.008883414898524095,0.006727790750762504,-0.020217511096257485,-0.02452875939178067,-0.011595014505211082,0.026128408080616904,-0.05901874575596628,-0.03638469220446948,-0.02452875939178067,0.018583723563451313,-0.09027529589850945,-0.0051281420619263066,-0.05255187331268147,-0.022373135244019075,-0.020217511096257485,-0.05470749746044306,-0.006205954135807083,-0.01698407487461508,0.055229334075398484,0.07678557555301448,0.018583723563451313,-0.022373135244019075,0.09295275666122646,-0.03099563183506548,0.039062152967186486,-0.061174369903727877,-0.008361578283568675,-0.03746250427835029,-0.013750638652972673,0.0735521393313721,-0.02452875939178067,0.03367309259778249,0.03475090467166331,-0.03854031635223107,-0.039618128426111884,-0.0018947058402839008,-0.03099563183506548,-0.04608500086939666,0.0013387303813585058,0.06492964274032566,0.04013996504106731,-0.023450947317899894,0.053073709927636895,0.04013996504106731,-0.020217511096257485,0.014272475267928093,-0.03422906805670789,0.006727790750762504,0.004572166603000912,0.030439656376140087,0.05199589785375607,0.061696206518683294,-0.007283766209687899,0.005649978676881689,0.05415152200151766,-0.008361578283568675,0.11450899813884247,0.0670852668880873,-0.05578530953432388,0.030439656376140087,-0.02560657146566148,0.10480868947391528,-0.006205954135807083,-0.047162812943277475,-0.048240625017158284,0.08540807214406083,-0.012672826579091896,-0.033151255982827074,-0.007283766209687899,-0.013750638652972673,0.05954058237092167,0.021817159785093684,0.018583723563451313,-0.011595014505211082,-0.002972517914164677,0.0175059114895705,-0.029917819761184662,-0.020217511096257485,-0.05794093368208547,0.06061839444480248,-0.040695940499992665,-0.07195249064253588,-0.05578530953432388,0.045529025410471304,-0.00943939035744949,-0.033151255982827074,0.04984027370599448,-0.08488623552910546,0.005649978676881689,0.020739347711212906,-0.007283766209687899,0.10480868947391528,-0.02452875939178067,-0.006205954135807083,-0.03854031635223107,0.13714305169033927,0.17055522598064407,0.002416542455239321,0.03798434089330568,-0.05794093368208547,-0.00943939035744949,-0.023450947317899894,-0.010517202431330305,-0.03422906805670789,-0.002972517914164677,0.0681630789619681,0.009961226972404908,0.002416542455239321,-0.03854031635223107,0.026128408080616904,-0.08919748382462865,0.06061839444480248,-0.028840007687303888,-0.029917819761184662,-0.01913969902237667,-0.040695940499992665,0.015350287341808908,-0.02452875939178067,0.0013387303813585058,0.06924089103584885,-0.06979686649477428,-0.029917819761184662,-0.04608500086939666,0.018583723563451313,0.0013387303813585058,-0.03099563183506548,-0.004050329988045492,0.015350287341808908,0.022894971858974496,0.045529025410471304,-0.04500718879551588,-0.033151255982827074,0.09726400495674965,0.05415152200151766,0.12313149472988882,-0.08057498723358228,0.09295275666122646,-0.050396249164919873,-0.011595014505211082,-0.027762195613423073,0.05846277029704089,0.08540807214406083,-0.0008168937664030856,0.006727790750762504,0.008883414898524095,0.08001901177465684,0.07139651518361048,-0.02452875939178067,-0.05470749746044306,-0.03638469220446948,0.016428099415689682,0.07786338762689529,-0.039618128426111884,0.011039039046285686,-0.040695940499992665,-0.03422906805670789,0.005649978676881689,0.08864150836570328,-0.033151255982827074,-0.05686312160820465,-0.03099563183506548,0.055229334075398484,-0.06009655782984706,0.0013387303813585058,-0.023450947317899894,-0.07410811479029747,0.01966153563733209,-0.015906262800734303,-0.015906262800734303,0.039062152967186486,-0.07303030271641665],\"xaxis\":\"x\",\"y\":[151.0,75.0,141.0,206.0,135.0,97.0,138.0,63.0,110.0,310.0,101.0,69.0,179.0,185.0,118.0,171.0,166.0,144.0,97.0,168.0,68.0,49.0,68.0,245.0,184.0,202.0,137.0,85.0,131.0,283.0,129.0,59.0,341.0,87.0,65.0,102.0,265.0,276.0,252.0,90.0,100.0,55.0,61.0,92.0,259.0,53.0,190.0,142.0,75.0,142.0,155.0,225.0,59.0,104.0,182.0,128.0,52.0,37.0,170.0,170.0,61.0,144.0,52.0,128.0,71.0,163.0,150.0,97.0,160.0,178.0,48.0,270.0,202.0,111.0,85.0,42.0,170.0,200.0,252.0,113.0,143.0,51.0,52.0,210.0,65.0,141.0,55.0,134.0,42.0,111.0,98.0,164.0,48.0,96.0,90.0,162.0,150.0,279.0,92.0,83.0,128.0,102.0,302.0,198.0,95.0,53.0,134.0,144.0,232.0,81.0,104.0,59.0,246.0,297.0,258.0,229.0,275.0,281.0,179.0,200.0,200.0,173.0,180.0,84.0,121.0,161.0,99.0,109.0,115.0,268.0,274.0,158.0,107.0,83.0,103.0,272.0,85.0,280.0,336.0,281.0,118.0,317.0,235.0,60.0,174.0,259.0,178.0,128.0,96.0,126.0,288.0,88.0,292.0,71.0,197.0,186.0,25.0,84.0,96.0,195.0,53.0,217.0,172.0,131.0,214.0,59.0,70.0,220.0,268.0,152.0,47.0,74.0,295.0,101.0,151.0,127.0,237.0,225.0,81.0,151.0,107.0,64.0,138.0,185.0,265.0,101.0,137.0,143.0,141.0,79.0,292.0,178.0,91.0,116.0,86.0,122.0,72.0,129.0,142.0,90.0,158.0,39.0,196.0,222.0,277.0,99.0,196.0,202.0,155.0,77.0,191.0,70.0,73.0,49.0,65.0,263.0,248.0,296.0,214.0,185.0,78.0,93.0,252.0,150.0,77.0,208.0,77.0,108.0,160.0,53.0,220.0,154.0,259.0,90.0,246.0,124.0,67.0,72.0,257.0,262.0,275.0,177.0,71.0,47.0,187.0,125.0,78.0,51.0,258.0,215.0,303.0,243.0,91.0,150.0,310.0,153.0,346.0,63.0,89.0,50.0,39.0,103.0,308.0,116.0,145.0,74.0,45.0,115.0,264.0,87.0,202.0,127.0,182.0,241.0,66.0,94.0,283.0,64.0,102.0,200.0,265.0,94.0,230.0,181.0,156.0,233.0,60.0,219.0,80.0,68.0,332.0,248.0,84.0,200.0,55.0,85.0,89.0,31.0,129.0,83.0,275.0,65.0,198.0,236.0,253.0,124.0,44.0,172.0,114.0,142.0,109.0,180.0,144.0,163.0,147.0,97.0,220.0,190.0,109.0,191.0,122.0,230.0,242.0,248.0,249.0,192.0,131.0,237.0,78.0,135.0,244.0,199.0,270.0,164.0,72.0,96.0,306.0,91.0,214.0,95.0,216.0,263.0,178.0,113.0,200.0,139.0,139.0,88.0,148.0,88.0,243.0,71.0,77.0,109.0,272.0,60.0,54.0,221.0,90.0,311.0,281.0,182.0,321.0,58.0,262.0,206.0,233.0,242.0,123.0,167.0,63.0,197.0,71.0,168.0,140.0,217.0,121.0,235.0,245.0,40.0,52.0,104.0,132.0,88.0,69.0,219.0,72.0,201.0,110.0,51.0,277.0,63.0,118.0,69.0,273.0,258.0,43.0,198.0,242.0,232.0,175.0,93.0,168.0,275.0,293.0,281.0,72.0,140.0,189.0,181.0,209.0,136.0,261.0,113.0,131.0,174.0,257.0,55.0,84.0,42.0,146.0,212.0,233.0,91.0,111.0,152.0,120.0,67.0,310.0,94.0,183.0,66.0,173.0,72.0,49.0,64.0,48.0,178.0,104.0,132.0,220.0,57.0],\"yaxis\":\"y\",\"type\":\"scatter\"},{\"hovertemplate\":\"x=%{x}\\u003cbr\\u003ey=%{y}\\u003cextra\\u003e\\u003c\\u002fextra\\u003e\",\"legendgroup\":\"\",\"line\":{\"color\":\"red\",\"dash\":\"solid\"},\"marker\":{\"symbol\":\"circle\"},\"mode\":\"lines\",\"name\":\"\",\"orientation\":\"v\",\"showlegend\":false,\"x\":[0.061696206518683294,-0.051474061238800654,0.04445121333659049,-0.011595014505211082,-0.03638469220446948,-0.040695940499992665,-0.047162812943277475,-0.0018947058402839008,0.061696206518683294,0.039062152967186486,-0.08380842345522464,0.0175059114895705,-0.028840007687303888,-0.0018947058402839008,-0.02560657146566148,-0.018061886948495892,0.0422955891888289,0.012116851120166501,-0.010517202431330305,-0.018061886948495892,-0.05686312160820465,-0.022373135244019075,-0.004050329988045492,0.06061839444480248,0.03582871674554409,-0.012672826579091896,-0.07734155101193986,0.05954058237092167,-0.0212953231701383,-0.006205954135807083,0.04445121333659049,-0.06548561819925106,0.12528711887765046,-0.050396249164919873,-0.06332999405148947,-0.03099563183506548,0.022894971858974496,0.011039039046285686,0.07139651518361048,0.014272475267928093,-0.008361578283568675,-0.06764124234701265,-0.010517202431330305,-0.023450947317899894,0.0681630789619681,-0.035306880130588664,-0.011595014505211082,-0.07303030271641665,-0.041773752573873474,0.014272475267928093,-0.007283766209687899,0.016428099415689682,-0.00943939035744949,-0.015906262800734303,0.02505059600673609,-0.049318437091039065,0.04121777711494808,-0.06332999405148947,-0.06440780612537028,-0.02560657146566148,-0.004050329988045492,0.004572166603000912,-0.007283766209687899,-0.03746250427835029,-0.02560657146566148,-0.02452875939178067,-0.018061886948495892,-0.014828450726853487,-0.029917819761184662,-0.04608500086939666,-0.06979686649477428,0.03367309259778249,-0.004050329988045492,-0.020217511096257485,0.002416542455239321,-0.03099563183506548,0.028284032228378497,-0.03638469220446948,-0.05794093368208547,-0.03746250427835029,0.012116851120166501,-0.022373135244019075,-0.035306880130588664,0.009961226972404908,-0.039618128426111884,0.07139651518361048,-0.07518592686417827,-0.006205954135807083,-0.040695940499992665,-0.048240625017158284,-0.02560657146566148,0.05199589785375607,0.004572166603000912,-0.06440780612537028,-0.01698407487461508,-0.05794093368208547,0.009961226972404908,0.08864150836570328,-0.0051281420619263066,-0.06440780612537028,0.0175059114895705,-0.04500718879551588,0.028284032228378497,0.04121777711494808,0.06492964274032566,-0.0320734439089463,-0.07626373893805906,0.04984027370599448,0.045529025410471304,-0.00943939035744949,-0.0320734439089463,0.004572166603000912,0.020739347711212906,0.014272475267928093,0.11019774984331929,0.0013387303813585058,0.05846277029704089,-0.0212953231701383,-0.010517202431330305,-0.047162812943277475,0.004572166603000912,0.0175059114895705,0.08109682384853766,0.03475090467166331,0.023972783932855315,-0.008361578283568675,-0.061174369903727877,-0.0018947058402839008,-0.06225218197760866,0.016428099415689682,0.09618619288286882,-0.06979686649477428,-0.0212953231701383,-0.05362968538656229,0.04337340126270967,0.0563071461492793,-0.08165279930746305,0.04984027370599448,0.11127556191720007,0.061696206518683294,0.014272475267928093,0.04768464955823289,0.012116851120166501,0.005649978676881689,0.04660683748435208,0.12852055509929283,0.05954058237092167,0.09295275666122646,0.015350287341808908,-0.0051281420619263066,0.07031870310972965,-0.004050329988045492,-0.0008168937664030856,-0.04392937672163507,0.020739347711212906,0.06061839444480248,-0.010517202431330305,-0.033151255982827074,-0.06548561819925106,0.04337340126270967,-0.06225218197760866,0.06385183066644486,0.030439656376140087,0.0724743272574913,-0.01913969902237667,-0.06656343027313188,-0.06009655782984706,0.06924089103584885,0.05954058237092167,-0.0266843835395423,-0.020217511096257485,-0.04608500086939666,0.07139651518361048,-0.07949717515970146,0.009961226972404908,-0.03854031635223107,0.01966153563733209,0.027206220154497678,-0.008361578283568675,-0.015906262800734303,0.004572166603000912,-0.04285156464775429,0.005649978676881689,-0.035306880130588664,0.023972783932855315,-0.018061886948495892,0.0422955891888289,-0.05470749746044306,-0.002972517914164677,-0.06656343027313188,-0.012672826579091896,-0.041773752573873474,-0.03099563183506548,-0.0051281420619263066,-0.05901874575596628,0.02505059600673609,-0.04608500086939666,0.0034943545291200974,0.05415152200151766,-0.04500718879551588,-0.05794093368208547,-0.05578530953432388,0.0013387303813585058,0.030439656376140087,0.006727790750762504,0.04660683748435208,0.026128408080616904,0.045529025410471304,0.04013996504106731,-0.018061886948495892,0.014272475267928093,0.0369065288194249,0.0034943545291200974,-0.07087467856865506,-0.033151255982827074,0.09403056873510728,0.03582871674554409,0.031517468450020895,-0.06548561819925106,-0.041773752573873474,-0.039618128426111884,-0.03854031635223107,-0.02560657146566148,-0.023450947317899894,-0.06656343027313188,0.032595280523901676,-0.04608500086939666,-0.029917819761184662,-0.012672826579091896,-0.015906262800734303,0.07139651518361048,-0.03099563183506548,0.00026091830747769084,0.0369065288194249,0.039062152967186486,-0.014828450726853487,0.006727790750762504,-0.06871905442089347,-0.00943939035744949,0.01966153563733209,0.07462995140525285,-0.008361578283568675,-0.023450947317899894,-0.04608500086939666,0.05415152200151766,-0.035306880130588664,-0.0320734439089463,-0.08165279930746305,0.04768464955823289,0.06061839444480248,0.0563071461492793,0.09834181703063047,0.05954058237092167,0.03367309259778249,0.0563071461492793,-0.06548561819925106,0.16085491731571683,-0.05578530953432388,-0.02452875939178067,-0.03638469220446948,-0.008361578283568675,-0.041773752573873474,0.1274427430254121,-0.07734155101193986,0.028284032228378497,-0.02560657146566148,-0.06225218197760866,-0.0008168937664030856,0.08864150836570328,-0.0320734439089463,0.030439656376140087,0.008883414898524095,0.006727790750762504,-0.020217511096257485,-0.02452875939178067,-0.011595014505211082,0.026128408080616904,-0.05901874575596628,-0.03638469220446948,-0.02452875939178067,0.018583723563451313,-0.09027529589850945,-0.0051281420619263066,-0.05255187331268147,-0.022373135244019075,-0.020217511096257485,-0.05470749746044306,-0.006205954135807083,-0.01698407487461508,0.055229334075398484,0.07678557555301448,0.018583723563451313,-0.022373135244019075,0.09295275666122646,-0.03099563183506548,0.039062152967186486,-0.061174369903727877,-0.008361578283568675,-0.03746250427835029,-0.013750638652972673,0.0735521393313721,-0.02452875939178067,0.03367309259778249,0.03475090467166331,-0.03854031635223107,-0.039618128426111884,-0.0018947058402839008,-0.03099563183506548,-0.04608500086939666,0.0013387303813585058,0.06492964274032566,0.04013996504106731,-0.023450947317899894,0.053073709927636895,0.04013996504106731,-0.020217511096257485,0.014272475267928093,-0.03422906805670789,0.006727790750762504,0.004572166603000912,0.030439656376140087,0.05199589785375607,0.061696206518683294,-0.007283766209687899,0.005649978676881689,0.05415152200151766,-0.008361578283568675,0.11450899813884247,0.0670852668880873,-0.05578530953432388,0.030439656376140087,-0.02560657146566148,0.10480868947391528,-0.006205954135807083,-0.047162812943277475,-0.048240625017158284,0.08540807214406083,-0.012672826579091896,-0.033151255982827074,-0.007283766209687899,-0.013750638652972673,0.05954058237092167,0.021817159785093684,0.018583723563451313,-0.011595014505211082,-0.002972517914164677,0.0175059114895705,-0.029917819761184662,-0.020217511096257485,-0.05794093368208547,0.06061839444480248,-0.040695940499992665,-0.07195249064253588,-0.05578530953432388,0.045529025410471304,-0.00943939035744949,-0.033151255982827074,0.04984027370599448,-0.08488623552910546,0.005649978676881689,0.020739347711212906,-0.007283766209687899,0.10480868947391528,-0.02452875939178067,-0.006205954135807083,-0.03854031635223107,0.13714305169033927,0.17055522598064407,0.002416542455239321,0.03798434089330568,-0.05794093368208547,-0.00943939035744949,-0.023450947317899894,-0.010517202431330305,-0.03422906805670789,-0.002972517914164677,0.0681630789619681,0.009961226972404908,0.002416542455239321,-0.03854031635223107,0.026128408080616904,-0.08919748382462865,0.06061839444480248,-0.028840007687303888,-0.029917819761184662,-0.01913969902237667,-0.040695940499992665,0.015350287341808908,-0.02452875939178067,0.0013387303813585058,0.06924089103584885,-0.06979686649477428,-0.029917819761184662,-0.04608500086939666,0.018583723563451313,0.0013387303813585058,-0.03099563183506548,-0.004050329988045492,0.015350287341808908,0.022894971858974496,0.045529025410471304,-0.04500718879551588,-0.033151255982827074,0.09726400495674965,0.05415152200151766,0.12313149472988882,-0.08057498723358228,0.09295275666122646,-0.050396249164919873,-0.011595014505211082,-0.027762195613423073,0.05846277029704089,0.08540807214406083,-0.0008168937664030856,0.006727790750762504,0.008883414898524095,0.08001901177465684,0.07139651518361048,-0.02452875939178067,-0.05470749746044306,-0.03638469220446948,0.016428099415689682,0.07786338762689529,-0.039618128426111884,0.011039039046285686,-0.040695940499992665,-0.03422906805670789,0.005649978676881689,0.08864150836570328,-0.033151255982827074,-0.05686312160820465,-0.03099563183506548,0.055229334075398484,-0.06009655782984706,0.0013387303813585058,-0.023450947317899894,-0.07410811479029747,0.01966153563733209,-0.015906262800734303,-0.015906262800734303,0.039062152967186486,-0.07303030271641665],\"xaxis\":\"x\",\"y\":[30.921079664148625,30.873777939962682,30.91387178236791,30.890446166580585,30.88008483652081,30.87828286607563,30.87557991040786,30.89450060008224,30.921079664148625,30.911619319311438,30.86026316162384,30.902609467085544,30.88323828479987,30.89450060008224,30.884589762633755,30.887743210912816,30.91297079714532,30.90035700402907,30.89089665919188,30.887743210912816,30.871525476906207,30.885941240467638,30.89359961485965,30.920629171537332,30.910267841477552,30.889995673969292,30.86296611729161,30.920178678926035,30.886391733078934,30.89269862963706,30.91387178236791,30.86792153601585,30.947658728215014,30.874228432573975,30.86882252123844,30.88233729957728,30.904861930142015,30.899906511417775,30.92513409765028,30.901257989251658,30.89179764441447,30.86702055079326,30.89089665919188,30.885490747856345,30.923782619816393,30.8805353291321,30.890446166580585,30.86476808773679,30.877832373464333,30.901257989251658,30.892248137025764,30.902158974474247,30.891347151803174,30.888644196135406,30.905762915364605,30.874678925185272,30.912520304534027,30.86882252123844,30.868372028627146,30.884589762633755,30.89359961485965,30.897203555750007,30.892248137025764,30.879634343909512,30.884589762633755,30.88504025524505,30.887743210912816,30.889094688746702,30.882787792188577,30.876030403019154,30.86611956557067,30.909366856254962,30.89359961485965,30.886842225690227,30.896302570527418,30.88233729957728,30.90711439319849,30.88008483652081,30.871074984294914,30.879634343909512,30.90035700402907,30.885941240467638,30.8805353291321,30.89945601880648,30.878733358686922,30.92513409765028,30.8638671025142,30.89269862963706,30.87828286607563,30.875129417796565,30.884589762633755,30.917025230646974,30.897203555750007,30.868372028627146,30.888193703524113,30.871074984294914,30.89945601880648,30.932341979430994,30.893149122248353,30.868372028627146,30.902609467085544,30.87648089563045,30.90711439319849,30.912520304534027,30.92243114198251,30.881886806965987,30.863416609902902,30.916124245424385,30.914322274979206,30.891347151803174,30.881886806965987,30.897203555750007,30.903960944919426,30.901257989251658,30.94135183165689,30.89585207791612,30.919728186314742,30.886391733078934,30.89089665919188,30.87557991040786,30.897203555750007,30.902609467085544,30.92918853115193,30.90981734886626,30.905312422753312,30.89179764441447,30.86972350646103,30.89450060008224,30.869273013849735,30.902158974474247,30.935495427710055,30.86611956557067,30.886391733078934,30.872876954740093,30.913421289756617,30.918827201092153,30.86116414684643,30.916124245424385,30.94180232426818,30.921079664148625,30.901257989251658,30.915223260201795,30.90035700402907,30.8976540483613,30.9147727675905,30.949010206048897,30.920178678926035,30.934143949876173,30.901708481862954,30.893149122248353,30.924683605038982,30.89359961485965,30.894951092693532,30.876931388241744,30.903960944919426,30.920629171537332,30.89089665919188,30.88143631435469,30.86792153601585,30.913421289756617,30.869273013849735,30.921980649371214,30.90801537842108,30.925584590261572,30.887292718301524,30.867471043404556,30.870173999072325,30.92423311242769,30.920178678926035,30.88413927002246,30.886842225690227,30.876030403019154,30.92513409765028,30.86206513206902,30.89945601880648,30.87918385129822,30.903510452308133,30.906663900587194,30.89179764441447,30.888644196135406,30.897203555750007,30.87738188085304,30.8976540483613,30.8805353291321,30.905312422753312,30.887743210912816,30.91297079714532,30.872426462128796,30.894050107470942,30.867471043404556,30.889995673969292,30.877832373464333,30.88233729957728,30.893149122248353,30.870624491683618,30.905762915364605,30.876030403019154,30.89675306313871,30.917926215869564,30.87648089563045,30.871074984294914,30.871975969517504,30.89585207791612,30.90801537842108,30.898104540972597,30.9147727675905,30.9062134079759,30.914322274979206,30.91206981192273,30.887743210912816,30.901257989251658,30.91071833408885,30.89675306313871,30.865669072959378,30.88143631435469,30.934594442487466,30.910267841477552,30.908465871032373,30.86792153601585,30.877832373464333,30.878733358686922,30.87918385129822,30.884589762633755,30.885490747856345,30.867471043404556,30.90891636364367,30.876030403019154,30.882787792188577,30.889995673969292,30.888644196135406,30.92513409765028,30.88233729957728,30.89540158530483,30.91071833408885,30.911619319311438,30.889094688746702,30.898104540972597,30.866570058181967,30.891347151803174,30.903510452308133,30.92648557548416,30.89179764441447,30.885490747856345,30.876030403019154,30.917926215869564,30.8805353291321,30.881886806965987,30.86116414684643,30.915223260201795,30.920629171537332,30.918827201092153,30.936396412932645,30.920178678926035,30.909366856254962,30.918827201092153,30.86792153601585,30.962524984387738,30.871975969517504,30.88504025524505,30.88008483652081,30.89179764441447,30.877832373464333,30.948559713437604,30.86296611729161,30.90711439319849,30.884589762633755,30.869273013849735,30.894951092693532,30.932341979430994,30.881886806965987,30.90801537842108,30.899005526195186,30.898104540972597,30.886842225690227,30.88504025524505,30.890446166580585,30.9062134079759,30.870624491683618,30.88008483652081,30.88504025524505,30.903059959696837,30.857560205956073,30.893149122248353,30.873327447351386,30.885941240467638,30.886842225690227,30.872426462128796,30.89269862963706,30.888193703524113,30.918376708480857,30.92738656070675,30.903059959696837,30.885941240467638,30.934143949876173,30.88233729957728,30.911619319311438,30.86972350646103,30.89179764441447,30.879634343909512,30.889545181357995,30.92603508287287,30.88504025524505,30.909366856254962,30.90981734886626,30.87918385129822,30.878733358686922,30.89450060008224,30.88233729957728,30.876030403019154,30.89585207791612,30.92243114198251,30.91206981192273,30.885490747856345,30.917475723258267,30.91206981192273,30.886842225690227,30.901257989251658,30.880985821743398,30.898104540972597,30.897203555750007,30.90801537842108,30.917025230646974,30.921079664148625,30.892248137025764,30.8976540483613,30.917926215869564,30.89179764441447,30.943153802102067,30.9233321272051,30.871975969517504,30.90801537842108,30.884589762633755,30.939099368600413,30.89269862963706,30.87557991040786,30.875129417796565,30.93099050159711,30.889995673969292,30.88143631435469,30.892248137025764,30.889545181357995,30.920178678926035,30.904411437530722,30.903059959696837,30.890446166580585,30.894050107470942,30.902609467085544,30.882787792188577,30.886842225690227,30.871074984294914,30.920629171537332,30.87828286607563,30.86521858034808,30.871975969517504,30.914322274979206,30.891347151803174,30.88143631435469,30.916124245424385,30.859812669012545,30.8976540483613,30.903960944919426,30.892248137025764,30.939099368600413,30.88504025524505,30.89269862963706,30.87918385129822,30.952614146939254,30.966579417889392,30.896302570527418,30.91116882670014,30.871074984294914,30.891347151803174,30.885490747856345,30.89089665919188,30.880985821743398,30.894050107470942,30.923782619816393,30.89945601880648,30.896302570527418,30.87918385129822,30.9062134079759,30.858010698567366,30.920629171537332,30.88323828479987,30.882787792188577,30.887292718301524,30.87828286607563,30.901708481862954,30.88504025524505,30.89585207791612,30.92423311242769,30.86611956557067,30.882787792188577,30.876030403019154,30.903059959696837,30.89585207791612,30.88233729957728,30.89359961485965,30.901708481862954,30.904861930142015,30.914322274979206,30.87648089563045,30.88143631435469,30.935945920321352,30.917926215869564,30.946757742992425,30.861614639457724,30.934143949876173,30.874228432573975,30.890446166580585,30.883688777411166,30.919728186314742,30.93099050159711,30.894951092693532,30.898104540972597,30.899005526195186,30.928738038540637,30.92513409765028,30.88504025524505,30.872426462128796,30.88008483652081,30.902158974474247,30.927837053318047,30.878733358686922,30.899906511417775,30.87828286607563,30.880985821743398,30.8976540483613,30.932341979430994,30.88143631435469,30.871525476906207,30.88233729957728,30.918376708480857,30.870173999072325,30.89585207791612,30.885490747856345,30.864317595125492,30.903510452308133,30.888644196135406,30.888644196135406,30.911619319311438,30.86476808773679],\"yaxis\":\"y\",\"type\":\"scatter\"}],                        {\"template\":{\"data\":{\"histogram2dcontour\":[{\"type\":\"histogram2dcontour\",\"colorbar\":{\"outlinewidth\":0,\"ticks\":\"\"},\"colorscale\":[[0.0,\"#0d0887\"],[0.1111111111111111,\"#46039f\"],[0.2222222222222222,\"#7201a8\"],[0.3333333333333333,\"#9c179e\"],[0.4444444444444444,\"#bd3786\"],[0.5555555555555556,\"#d8576b\"],[0.6666666666666666,\"#ed7953\"],[0.7777777777777778,\"#fb9f3a\"],[0.8888888888888888,\"#fdca26\"],[1.0,\"#f0f921\"]]}],\"choropleth\":[{\"type\":\"choropleth\",\"colorbar\":{\"outlinewidth\":0,\"ticks\":\"\"}}],\"histogram2d\":[{\"type\":\"histogram2d\",\"colorbar\":{\"outlinewidth\":0,\"ticks\":\"\"},\"colorscale\":[[0.0,\"#0d0887\"],[0.1111111111111111,\"#46039f\"],[0.2222222222222222,\"#7201a8\"],[0.3333333333333333,\"#9c179e\"],[0.4444444444444444,\"#bd3786\"],[0.5555555555555556,\"#d8576b\"],[0.6666666666666666,\"#ed7953\"],[0.7777777777777778,\"#fb9f3a\"],[0.8888888888888888,\"#fdca26\"],[1.0,\"#f0f921\"]]}],\"heatmap\":[{\"type\":\"heatmap\",\"colorbar\":{\"outlinewidth\":0,\"ticks\":\"\"},\"colorscale\":[[0.0,\"#0d0887\"],[0.1111111111111111,\"#46039f\"],[0.2222222222222222,\"#7201a8\"],[0.3333333333333333,\"#9c179e\"],[0.4444444444444444,\"#bd3786\"],[0.5555555555555556,\"#d8576b\"],[0.6666666666666666,\"#ed7953\"],[0.7777777777777778,\"#fb9f3a\"],[0.8888888888888888,\"#fdca26\"],[1.0,\"#f0f921\"]]}],\"heatmapgl\":[{\"type\":\"heatmapgl\",\"colorbar\":{\"outlinewidth\":0,\"ticks\":\"\"},\"colorscale\":[[0.0,\"#0d0887\"],[0.1111111111111111,\"#46039f\"],[0.2222222222222222,\"#7201a8\"],[0.3333333333333333,\"#9c179e\"],[0.4444444444444444,\"#bd3786\"],[0.5555555555555556,\"#d8576b\"],[0.6666666666666666,\"#ed7953\"],[0.7777777777777778,\"#fb9f3a\"],[0.8888888888888888,\"#fdca26\"],[1.0,\"#f0f921\"]]}],\"contourcarpet\":[{\"type\":\"contourcarpet\",\"colorbar\":{\"outlinewidth\":0,\"ticks\":\"\"}}],\"contour\":[{\"type\":\"contour\",\"colorbar\":{\"outlinewidth\":0,\"ticks\":\"\"},\"colorscale\":[[0.0,\"#0d0887\"],[0.1111111111111111,\"#46039f\"],[0.2222222222222222,\"#7201a8\"],[0.3333333333333333,\"#9c179e\"],[0.4444444444444444,\"#bd3786\"],[0.5555555555555556,\"#d8576b\"],[0.6666666666666666,\"#ed7953\"],[0.7777777777777778,\"#fb9f3a\"],[0.8888888888888888,\"#fdca26\"],[1.0,\"#f0f921\"]]}],\"surface\":[{\"type\":\"surface\",\"colorbar\":{\"outlinewidth\":0,\"ticks\":\"\"},\"colorscale\":[[0.0,\"#0d0887\"],[0.1111111111111111,\"#46039f\"],[0.2222222222222222,\"#7201a8\"],[0.3333333333333333,\"#9c179e\"],[0.4444444444444444,\"#bd3786\"],[0.5555555555555556,\"#d8576b\"],[0.6666666666666666,\"#ed7953\"],[0.7777777777777778,\"#fb9f3a\"],[0.8888888888888888,\"#fdca26\"],[1.0,\"#f0f921\"]]}],\"mesh3d\":[{\"type\":\"mesh3d\",\"colorbar\":{\"outlinewidth\":0,\"ticks\":\"\"}}],\"scatter\":[{\"fillpattern\":{\"fillmode\":\"overlay\",\"size\":10,\"solidity\":0.2},\"type\":\"scatter\"}],\"parcoords\":[{\"type\":\"parcoords\",\"line\":{\"colorbar\":{\"outlinewidth\":0,\"ticks\":\"\"}}}],\"scatterpolargl\":[{\"type\":\"scatterpolargl\",\"marker\":{\"colorbar\":{\"outlinewidth\":0,\"ticks\":\"\"}}}],\"bar\":[{\"error_x\":{\"color\":\"#2a3f5f\"},\"error_y\":{\"color\":\"#2a3f5f\"},\"marker\":{\"line\":{\"color\":\"#E5ECF6\",\"width\":0.5},\"pattern\":{\"fillmode\":\"overlay\",\"size\":10,\"solidity\":0.2}},\"type\":\"bar\"}],\"scattergeo\":[{\"type\":\"scattergeo\",\"marker\":{\"colorbar\":{\"outlinewidth\":0,\"ticks\":\"\"}}}],\"scatterpolar\":[{\"type\":\"scatterpolar\",\"marker\":{\"colorbar\":{\"outlinewidth\":0,\"ticks\":\"\"}}}],\"histogram\":[{\"marker\":{\"pattern\":{\"fillmode\":\"overlay\",\"size\":10,\"solidity\":0.2}},\"type\":\"histogram\"}],\"scattergl\":[{\"type\":\"scattergl\",\"marker\":{\"colorbar\":{\"outlinewidth\":0,\"ticks\":\"\"}}}],\"scatter3d\":[{\"type\":\"scatter3d\",\"line\":{\"colorbar\":{\"outlinewidth\":0,\"ticks\":\"\"}},\"marker\":{\"colorbar\":{\"outlinewidth\":0,\"ticks\":\"\"}}}],\"scattermapbox\":[{\"type\":\"scattermapbox\",\"marker\":{\"colorbar\":{\"outlinewidth\":0,\"ticks\":\"\"}}}],\"scatterternary\":[{\"type\":\"scatterternary\",\"marker\":{\"colorbar\":{\"outlinewidth\":0,\"ticks\":\"\"}}}],\"scattercarpet\":[{\"type\":\"scattercarpet\",\"marker\":{\"colorbar\":{\"outlinewidth\":0,\"ticks\":\"\"}}}],\"carpet\":[{\"aaxis\":{\"endlinecolor\":\"#2a3f5f\",\"gridcolor\":\"white\",\"linecolor\":\"white\",\"minorgridcolor\":\"white\",\"startlinecolor\":\"#2a3f5f\"},\"baxis\":{\"endlinecolor\":\"#2a3f5f\",\"gridcolor\":\"white\",\"linecolor\":\"white\",\"minorgridcolor\":\"white\",\"startlinecolor\":\"#2a3f5f\"},\"type\":\"carpet\"}],\"table\":[{\"cells\":{\"fill\":{\"color\":\"#EBF0F8\"},\"line\":{\"color\":\"white\"}},\"header\":{\"fill\":{\"color\":\"#C8D4E3\"},\"line\":{\"color\":\"white\"}},\"type\":\"table\"}],\"barpolar\":[{\"marker\":{\"line\":{\"color\":\"#E5ECF6\",\"width\":0.5},\"pattern\":{\"fillmode\":\"overlay\",\"size\":10,\"solidity\":0.2}},\"type\":\"barpolar\"}],\"pie\":[{\"automargin\":true,\"type\":\"pie\"}]},\"layout\":{\"autotypenumbers\":\"strict\",\"colorway\":[\"#636efa\",\"#EF553B\",\"#00cc96\",\"#ab63fa\",\"#FFA15A\",\"#19d3f3\",\"#FF6692\",\"#B6E880\",\"#FF97FF\",\"#FECB52\"],\"font\":{\"color\":\"#2a3f5f\"},\"hovermode\":\"closest\",\"hoverlabel\":{\"align\":\"left\"},\"paper_bgcolor\":\"white\",\"plot_bgcolor\":\"#E5ECF6\",\"polar\":{\"bgcolor\":\"#E5ECF6\",\"angularaxis\":{\"gridcolor\":\"white\",\"linecolor\":\"white\",\"ticks\":\"\"},\"radialaxis\":{\"gridcolor\":\"white\",\"linecolor\":\"white\",\"ticks\":\"\"}},\"ternary\":{\"bgcolor\":\"#E5ECF6\",\"aaxis\":{\"gridcolor\":\"white\",\"linecolor\":\"white\",\"ticks\":\"\"},\"baxis\":{\"gridcolor\":\"white\",\"linecolor\":\"white\",\"ticks\":\"\"},\"caxis\":{\"gridcolor\":\"white\",\"linecolor\":\"white\",\"ticks\":\"\"}},\"coloraxis\":{\"colorbar\":{\"outlinewidth\":0,\"ticks\":\"\"}},\"colorscale\":{\"sequential\":[[0.0,\"#0d0887\"],[0.1111111111111111,\"#46039f\"],[0.2222222222222222,\"#7201a8\"],[0.3333333333333333,\"#9c179e\"],[0.4444444444444444,\"#bd3786\"],[0.5555555555555556,\"#d8576b\"],[0.6666666666666666,\"#ed7953\"],[0.7777777777777778,\"#fb9f3a\"],[0.8888888888888888,\"#fdca26\"],[1.0,\"#f0f921\"]],\"sequentialminus\":[[0.0,\"#0d0887\"],[0.1111111111111111,\"#46039f\"],[0.2222222222222222,\"#7201a8\"],[0.3333333333333333,\"#9c179e\"],[0.4444444444444444,\"#bd3786\"],[0.5555555555555556,\"#d8576b\"],[0.6666666666666666,\"#ed7953\"],[0.7777777777777778,\"#fb9f3a\"],[0.8888888888888888,\"#fdca26\"],[1.0,\"#f0f921\"]],\"diverging\":[[0,\"#8e0152\"],[0.1,\"#c51b7d\"],[0.2,\"#de77ae\"],[0.3,\"#f1b6da\"],[0.4,\"#fde0ef\"],[0.5,\"#f7f7f7\"],[0.6,\"#e6f5d0\"],[0.7,\"#b8e186\"],[0.8,\"#7fbc41\"],[0.9,\"#4d9221\"],[1,\"#276419\"]]},\"xaxis\":{\"gridcolor\":\"white\",\"linecolor\":\"white\",\"ticks\":\"\",\"title\":{\"standoff\":15},\"zerolinecolor\":\"white\",\"automargin\":true,\"zerolinewidth\":2},\"yaxis\":{\"gridcolor\":\"white\",\"linecolor\":\"white\",\"ticks\":\"\",\"title\":{\"standoff\":15},\"zerolinecolor\":\"white\",\"automargin\":true,\"zerolinewidth\":2},\"scene\":{\"xaxis\":{\"backgroundcolor\":\"#E5ECF6\",\"gridcolor\":\"white\",\"linecolor\":\"white\",\"showbackground\":true,\"ticks\":\"\",\"zerolinecolor\":\"white\",\"gridwidth\":2},\"yaxis\":{\"backgroundcolor\":\"#E5ECF6\",\"gridcolor\":\"white\",\"linecolor\":\"white\",\"showbackground\":true,\"ticks\":\"\",\"zerolinecolor\":\"white\",\"gridwidth\":2},\"zaxis\":{\"backgroundcolor\":\"#E5ECF6\",\"gridcolor\":\"white\",\"linecolor\":\"white\",\"showbackground\":true,\"ticks\":\"\",\"zerolinecolor\":\"white\",\"gridwidth\":2}},\"shapedefaults\":{\"line\":{\"color\":\"#2a3f5f\"}},\"annotationdefaults\":{\"arrowcolor\":\"#2a3f5f\",\"arrowhead\":0,\"arrowwidth\":1},\"geo\":{\"bgcolor\":\"white\",\"landcolor\":\"#E5ECF6\",\"subunitcolor\":\"white\",\"showland\":true,\"showlakes\":true,\"lakecolor\":\"white\"},\"title\":{\"x\":0.05},\"mapbox\":{\"style\":\"light\"}}},\"xaxis\":{\"anchor\":\"y\",\"domain\":[0.0,1.0],\"title\":{\"text\":\"BMI\"}},\"yaxis\":{\"anchor\":\"x\",\"domain\":[0.0,1.0],\"title\":{\"text\":\"target\"}},\"legend\":{\"tracegroupgap\":0},\"margin\":{\"t\":60}},                        {\"responsive\": true}                    ).then(function(){\n",
              "                            \n",
              "var gd = document.getElementById('2796bfc8-0d9a-4a5b-a159-5e77f058b455');\n",
              "var x = new MutationObserver(function (mutations, observer) {{\n",
              "        var display = window.getComputedStyle(gd).display;\n",
              "        if (!display || display === 'none') {{\n",
              "            console.log([gd, 'removed!']);\n",
              "            Plotly.purge(gd);\n",
              "            observer.disconnect();\n",
              "        }}\n",
              "}});\n",
              "\n",
              "// Listen for the removal of the full notebook cells\n",
              "var notebookContainer = gd.closest('#notebook-container');\n",
              "if (notebookContainer) {{\n",
              "    x.observe(notebookContainer, {childList: true});\n",
              "}}\n",
              "\n",
              "// Listen for the clearing of the current output cell\n",
              "var outputEl = gd.closest('.output');\n",
              "if (outputEl) {{\n",
              "    x.observe(outputEl, {childList: true});\n",
              "}}\n",
              "\n",
              "                        })                };                            </script>        </div>\n",
              "</body>\n",
              "</html>"
            ]
          },
          "metadata": {}
        }
      ]
    },
    {
      "cell_type": "code",
      "source": [
        "# la regression est montée le long du y"
      ],
      "metadata": {
        "id": "WYAm8S1q62-7"
      },
      "execution_count": 31,
      "outputs": []
    },
    {
      "cell_type": "markdown",
      "metadata": {
        "id": "uqqJKj8cLYXr"
      },
      "source": [
        "Wesee that the values of the two parameters have changed, let's see how it affected the predictions of the model.\n",
        "Visualize the data vs the model's predictions."
      ]
    },
    {
      "cell_type": "markdown",
      "metadata": {
        "id": "JaI_Zm-w0gxW"
      },
      "source": [
        "We notice the predictions got a little closer to our real data\n",
        "* Recalculate your MSE"
      ]
    },
    {
      "cell_type": "code",
      "source": [
        "mse(model(diabetes_X), y)\n",
        "\n",
        "# old value was 29225.594182761437"
      ],
      "metadata": {
        "colab": {
          "base_uri": "https://localhost:8080/"
        },
        "id": "-pKG_SED8hfm",
        "outputId": "b816558d-1741-40c3-8281-696cd7c67326"
      },
      "execution_count": 30,
      "outputs": [
        {
          "output_type": "execute_result",
          "data": {
            "text/plain": [
              "20626.788769167244"
            ]
          },
          "metadata": {},
          "execution_count": 30
        }
      ]
    },
    {
      "cell_type": "markdown",
      "source": [
        "So the MSE dropped"
      ],
      "metadata": {
        "id": "oOijh_us9KGa"
      }
    },
    {
      "cell_type": "markdown",
      "metadata": {
        "id": "cCOgW_6N0nvt"
      },
      "source": [
        "* Our MSE has dropped a lot! This is good news but the process of gradient descent is iterative. So you'll have to do it several times before arriving at accurate predictions.\n",
        "  * By making a loop, try to repeat the process from above 10,000 times.\n",
        "  * Display every 1000 epochs: mse, model.beta_1 & model.beta_0"
      ]
    },
    {
      "cell_type": "code",
      "metadata": {
        "id": "N_Vxa_rlpxRU",
        "colab": {
          "base_uri": "https://localhost:8080/"
        },
        "outputId": "036af8bf-2e8a-401a-9bed-0f0ce271b847"
      },
      "source": [
        "for n in range(10000):\n",
        "  model.beta_1 -= learning_rate * derivative_mse_beta_1(diabetes_X, model(diabetes_X), y)\n",
        "  model.beta_0 -= learning_rate * derivative_mse_beta_0(model(diabetes_X), y)\n",
        "  if n % 1000 == 0:\n",
        "    print('current epoch is {}'.format(n))\n",
        "    print('current beta_1 is : {}'.format(model.beta_1))\n",
        "    print('current beta_0 is : {}'.format(model.beta_0))\n",
        "    print('\\n')\n"
      ],
      "execution_count": 31,
      "outputs": [
        {
          "output_type": "stream",
          "name": "stdout",
          "text": [
            "current epoch is 0\n",
            "current beta_1 is : [0.84738912]\n",
            "current beta_0 is : [55.14293086]\n",
            "\n",
            "\n",
            "current epoch is 1000\n",
            "current beta_1 is : [346.15411304]\n",
            "current beta_0 is : [152.13348416]\n",
            "\n",
            "\n",
            "current epoch is 2000\n",
            "current beta_1 is : [565.76164008]\n",
            "current beta_0 is : [152.13348416]\n",
            "\n",
            "\n",
            "current epoch is 3000\n",
            "current beta_1 is : [705.42722604]\n",
            "current beta_0 is : [152.13348416]\n",
            "\n",
            "\n",
            "current epoch is 4000\n",
            "current beta_1 is : [794.25148524]\n",
            "current beta_0 is : [152.13348416]\n",
            "\n",
            "\n",
            "current epoch is 5000\n",
            "current beta_1 is : [850.74177214]\n",
            "current beta_0 is : [152.13348416]\n",
            "\n",
            "\n",
            "current epoch is 6000\n",
            "current beta_1 is : [886.66835958]\n",
            "current beta_0 is : [152.13348416]\n",
            "\n",
            "\n",
            "current epoch is 7000\n",
            "current beta_1 is : [909.51688373]\n",
            "current beta_0 is : [152.13348416]\n",
            "\n",
            "\n",
            "current epoch is 8000\n",
            "current beta_1 is : [924.04804556]\n",
            "current beta_0 is : [152.13348416]\n",
            "\n",
            "\n",
            "current epoch is 9000\n",
            "current beta_1 is : [933.28954679]\n",
            "current beta_0 is : [152.13348416]\n",
            "\n",
            "\n"
          ]
        }
      ]
    },
    {
      "cell_type": "markdown",
      "metadata": {
        "id": "eeXT-MEa1nGD"
      },
      "source": [
        "* Using `plotly`, view your model and actual values again"
      ]
    },
    {
      "cell_type": "code",
      "source": [
        "reg_line = px.line(x=diabetes_X, y=model(diabetes_X))\n",
        "\n",
        "plot = px.scatter(x=diabetes_X, y=y, labels={'x': 'BMI','y' : 'target'})\n",
        "reg_line.update_traces(line=dict(color='red'))\n",
        "plot.add_trace(reg_line.data[0])\n",
        "plot.show()"
      ],
      "metadata": {
        "colab": {
          "base_uri": "https://localhost:8080/",
          "height": 542
        },
        "id": "ENa6t6JN_sbL",
        "outputId": "d7ecd0e3-6574-4c8e-9cac-571a2f7119ac"
      },
      "execution_count": 32,
      "outputs": [
        {
          "output_type": "display_data",
          "data": {
            "text/html": [
              "<html>\n",
              "<head><meta charset=\"utf-8\" /></head>\n",
              "<body>\n",
              "    <div>            <script src=\"https://cdnjs.cloudflare.com/ajax/libs/mathjax/2.7.5/MathJax.js?config=TeX-AMS-MML_SVG\"></script><script type=\"text/javascript\">if (window.MathJax && window.MathJax.Hub && window.MathJax.Hub.Config) {window.MathJax.Hub.Config({SVG: {font: \"STIX-Web\"}});}</script>                <script type=\"text/javascript\">window.PlotlyConfig = {MathJaxConfig: 'local'};</script>\n",
              "        <script charset=\"utf-8\" src=\"https://cdn.plot.ly/plotly-2.24.1.min.js\"></script>                <div id=\"07c7ab5c-3d8b-4f5e-b273-f316f9058b9c\" class=\"plotly-graph-div\" style=\"height:525px; width:100%;\"></div>            <script type=\"text/javascript\">                                    window.PLOTLYENV=window.PLOTLYENV || {};                                    if (document.getElementById(\"07c7ab5c-3d8b-4f5e-b273-f316f9058b9c\")) {                    Plotly.newPlot(                        \"07c7ab5c-3d8b-4f5e-b273-f316f9058b9c\",                        [{\"hovertemplate\":\"BMI=%{x}\\u003cbr\\u003etarget=%{y}\\u003cextra\\u003e\\u003c\\u002fextra\\u003e\",\"legendgroup\":\"\",\"marker\":{\"color\":\"#636efa\",\"symbol\":\"circle\"},\"mode\":\"markers\",\"name\":\"\",\"orientation\":\"v\",\"showlegend\":false,\"x\":[0.061696206518683294,-0.051474061238800654,0.04445121333659049,-0.011595014505211082,-0.03638469220446948,-0.040695940499992665,-0.047162812943277475,-0.0018947058402839008,0.061696206518683294,0.039062152967186486,-0.08380842345522464,0.0175059114895705,-0.028840007687303888,-0.0018947058402839008,-0.02560657146566148,-0.018061886948495892,0.0422955891888289,0.012116851120166501,-0.010517202431330305,-0.018061886948495892,-0.05686312160820465,-0.022373135244019075,-0.004050329988045492,0.06061839444480248,0.03582871674554409,-0.012672826579091896,-0.07734155101193986,0.05954058237092167,-0.0212953231701383,-0.006205954135807083,0.04445121333659049,-0.06548561819925106,0.12528711887765046,-0.050396249164919873,-0.06332999405148947,-0.03099563183506548,0.022894971858974496,0.011039039046285686,0.07139651518361048,0.014272475267928093,-0.008361578283568675,-0.06764124234701265,-0.010517202431330305,-0.023450947317899894,0.0681630789619681,-0.035306880130588664,-0.011595014505211082,-0.07303030271641665,-0.041773752573873474,0.014272475267928093,-0.007283766209687899,0.016428099415689682,-0.00943939035744949,-0.015906262800734303,0.02505059600673609,-0.049318437091039065,0.04121777711494808,-0.06332999405148947,-0.06440780612537028,-0.02560657146566148,-0.004050329988045492,0.004572166603000912,-0.007283766209687899,-0.03746250427835029,-0.02560657146566148,-0.02452875939178067,-0.018061886948495892,-0.014828450726853487,-0.029917819761184662,-0.04608500086939666,-0.06979686649477428,0.03367309259778249,-0.004050329988045492,-0.020217511096257485,0.002416542455239321,-0.03099563183506548,0.028284032228378497,-0.03638469220446948,-0.05794093368208547,-0.03746250427835029,0.012116851120166501,-0.022373135244019075,-0.035306880130588664,0.009961226972404908,-0.039618128426111884,0.07139651518361048,-0.07518592686417827,-0.006205954135807083,-0.040695940499992665,-0.048240625017158284,-0.02560657146566148,0.05199589785375607,0.004572166603000912,-0.06440780612537028,-0.01698407487461508,-0.05794093368208547,0.009961226972404908,0.08864150836570328,-0.0051281420619263066,-0.06440780612537028,0.0175059114895705,-0.04500718879551588,0.028284032228378497,0.04121777711494808,0.06492964274032566,-0.0320734439089463,-0.07626373893805906,0.04984027370599448,0.045529025410471304,-0.00943939035744949,-0.0320734439089463,0.004572166603000912,0.020739347711212906,0.014272475267928093,0.11019774984331929,0.0013387303813585058,0.05846277029704089,-0.0212953231701383,-0.010517202431330305,-0.047162812943277475,0.004572166603000912,0.0175059114895705,0.08109682384853766,0.03475090467166331,0.023972783932855315,-0.008361578283568675,-0.061174369903727877,-0.0018947058402839008,-0.06225218197760866,0.016428099415689682,0.09618619288286882,-0.06979686649477428,-0.0212953231701383,-0.05362968538656229,0.04337340126270967,0.0563071461492793,-0.08165279930746305,0.04984027370599448,0.11127556191720007,0.061696206518683294,0.014272475267928093,0.04768464955823289,0.012116851120166501,0.005649978676881689,0.04660683748435208,0.12852055509929283,0.05954058237092167,0.09295275666122646,0.015350287341808908,-0.0051281420619263066,0.07031870310972965,-0.004050329988045492,-0.0008168937664030856,-0.04392937672163507,0.020739347711212906,0.06061839444480248,-0.010517202431330305,-0.033151255982827074,-0.06548561819925106,0.04337340126270967,-0.06225218197760866,0.06385183066644486,0.030439656376140087,0.0724743272574913,-0.01913969902237667,-0.06656343027313188,-0.06009655782984706,0.06924089103584885,0.05954058237092167,-0.0266843835395423,-0.020217511096257485,-0.04608500086939666,0.07139651518361048,-0.07949717515970146,0.009961226972404908,-0.03854031635223107,0.01966153563733209,0.027206220154497678,-0.008361578283568675,-0.015906262800734303,0.004572166603000912,-0.04285156464775429,0.005649978676881689,-0.035306880130588664,0.023972783932855315,-0.018061886948495892,0.0422955891888289,-0.05470749746044306,-0.002972517914164677,-0.06656343027313188,-0.012672826579091896,-0.041773752573873474,-0.03099563183506548,-0.0051281420619263066,-0.05901874575596628,0.02505059600673609,-0.04608500086939666,0.0034943545291200974,0.05415152200151766,-0.04500718879551588,-0.05794093368208547,-0.05578530953432388,0.0013387303813585058,0.030439656376140087,0.006727790750762504,0.04660683748435208,0.026128408080616904,0.045529025410471304,0.04013996504106731,-0.018061886948495892,0.014272475267928093,0.0369065288194249,0.0034943545291200974,-0.07087467856865506,-0.033151255982827074,0.09403056873510728,0.03582871674554409,0.031517468450020895,-0.06548561819925106,-0.041773752573873474,-0.039618128426111884,-0.03854031635223107,-0.02560657146566148,-0.023450947317899894,-0.06656343027313188,0.032595280523901676,-0.04608500086939666,-0.029917819761184662,-0.012672826579091896,-0.015906262800734303,0.07139651518361048,-0.03099563183506548,0.00026091830747769084,0.0369065288194249,0.039062152967186486,-0.014828450726853487,0.006727790750762504,-0.06871905442089347,-0.00943939035744949,0.01966153563733209,0.07462995140525285,-0.008361578283568675,-0.023450947317899894,-0.04608500086939666,0.05415152200151766,-0.035306880130588664,-0.0320734439089463,-0.08165279930746305,0.04768464955823289,0.06061839444480248,0.0563071461492793,0.09834181703063047,0.05954058237092167,0.03367309259778249,0.0563071461492793,-0.06548561819925106,0.16085491731571683,-0.05578530953432388,-0.02452875939178067,-0.03638469220446948,-0.008361578283568675,-0.041773752573873474,0.1274427430254121,-0.07734155101193986,0.028284032228378497,-0.02560657146566148,-0.06225218197760866,-0.0008168937664030856,0.08864150836570328,-0.0320734439089463,0.030439656376140087,0.008883414898524095,0.006727790750762504,-0.020217511096257485,-0.02452875939178067,-0.011595014505211082,0.026128408080616904,-0.05901874575596628,-0.03638469220446948,-0.02452875939178067,0.018583723563451313,-0.09027529589850945,-0.0051281420619263066,-0.05255187331268147,-0.022373135244019075,-0.020217511096257485,-0.05470749746044306,-0.006205954135807083,-0.01698407487461508,0.055229334075398484,0.07678557555301448,0.018583723563451313,-0.022373135244019075,0.09295275666122646,-0.03099563183506548,0.039062152967186486,-0.061174369903727877,-0.008361578283568675,-0.03746250427835029,-0.013750638652972673,0.0735521393313721,-0.02452875939178067,0.03367309259778249,0.03475090467166331,-0.03854031635223107,-0.039618128426111884,-0.0018947058402839008,-0.03099563183506548,-0.04608500086939666,0.0013387303813585058,0.06492964274032566,0.04013996504106731,-0.023450947317899894,0.053073709927636895,0.04013996504106731,-0.020217511096257485,0.014272475267928093,-0.03422906805670789,0.006727790750762504,0.004572166603000912,0.030439656376140087,0.05199589785375607,0.061696206518683294,-0.007283766209687899,0.005649978676881689,0.05415152200151766,-0.008361578283568675,0.11450899813884247,0.0670852668880873,-0.05578530953432388,0.030439656376140087,-0.02560657146566148,0.10480868947391528,-0.006205954135807083,-0.047162812943277475,-0.048240625017158284,0.08540807214406083,-0.012672826579091896,-0.033151255982827074,-0.007283766209687899,-0.013750638652972673,0.05954058237092167,0.021817159785093684,0.018583723563451313,-0.011595014505211082,-0.002972517914164677,0.0175059114895705,-0.029917819761184662,-0.020217511096257485,-0.05794093368208547,0.06061839444480248,-0.040695940499992665,-0.07195249064253588,-0.05578530953432388,0.045529025410471304,-0.00943939035744949,-0.033151255982827074,0.04984027370599448,-0.08488623552910546,0.005649978676881689,0.020739347711212906,-0.007283766209687899,0.10480868947391528,-0.02452875939178067,-0.006205954135807083,-0.03854031635223107,0.13714305169033927,0.17055522598064407,0.002416542455239321,0.03798434089330568,-0.05794093368208547,-0.00943939035744949,-0.023450947317899894,-0.010517202431330305,-0.03422906805670789,-0.002972517914164677,0.0681630789619681,0.009961226972404908,0.002416542455239321,-0.03854031635223107,0.026128408080616904,-0.08919748382462865,0.06061839444480248,-0.028840007687303888,-0.029917819761184662,-0.01913969902237667,-0.040695940499992665,0.015350287341808908,-0.02452875939178067,0.0013387303813585058,0.06924089103584885,-0.06979686649477428,-0.029917819761184662,-0.04608500086939666,0.018583723563451313,0.0013387303813585058,-0.03099563183506548,-0.004050329988045492,0.015350287341808908,0.022894971858974496,0.045529025410471304,-0.04500718879551588,-0.033151255982827074,0.09726400495674965,0.05415152200151766,0.12313149472988882,-0.08057498723358228,0.09295275666122646,-0.050396249164919873,-0.011595014505211082,-0.027762195613423073,0.05846277029704089,0.08540807214406083,-0.0008168937664030856,0.006727790750762504,0.008883414898524095,0.08001901177465684,0.07139651518361048,-0.02452875939178067,-0.05470749746044306,-0.03638469220446948,0.016428099415689682,0.07786338762689529,-0.039618128426111884,0.011039039046285686,-0.040695940499992665,-0.03422906805670789,0.005649978676881689,0.08864150836570328,-0.033151255982827074,-0.05686312160820465,-0.03099563183506548,0.055229334075398484,-0.06009655782984706,0.0013387303813585058,-0.023450947317899894,-0.07410811479029747,0.01966153563733209,-0.015906262800734303,-0.015906262800734303,0.039062152967186486,-0.07303030271641665],\"xaxis\":\"x\",\"y\":[151.0,75.0,141.0,206.0,135.0,97.0,138.0,63.0,110.0,310.0,101.0,69.0,179.0,185.0,118.0,171.0,166.0,144.0,97.0,168.0,68.0,49.0,68.0,245.0,184.0,202.0,137.0,85.0,131.0,283.0,129.0,59.0,341.0,87.0,65.0,102.0,265.0,276.0,252.0,90.0,100.0,55.0,61.0,92.0,259.0,53.0,190.0,142.0,75.0,142.0,155.0,225.0,59.0,104.0,182.0,128.0,52.0,37.0,170.0,170.0,61.0,144.0,52.0,128.0,71.0,163.0,150.0,97.0,160.0,178.0,48.0,270.0,202.0,111.0,85.0,42.0,170.0,200.0,252.0,113.0,143.0,51.0,52.0,210.0,65.0,141.0,55.0,134.0,42.0,111.0,98.0,164.0,48.0,96.0,90.0,162.0,150.0,279.0,92.0,83.0,128.0,102.0,302.0,198.0,95.0,53.0,134.0,144.0,232.0,81.0,104.0,59.0,246.0,297.0,258.0,229.0,275.0,281.0,179.0,200.0,200.0,173.0,180.0,84.0,121.0,161.0,99.0,109.0,115.0,268.0,274.0,158.0,107.0,83.0,103.0,272.0,85.0,280.0,336.0,281.0,118.0,317.0,235.0,60.0,174.0,259.0,178.0,128.0,96.0,126.0,288.0,88.0,292.0,71.0,197.0,186.0,25.0,84.0,96.0,195.0,53.0,217.0,172.0,131.0,214.0,59.0,70.0,220.0,268.0,152.0,47.0,74.0,295.0,101.0,151.0,127.0,237.0,225.0,81.0,151.0,107.0,64.0,138.0,185.0,265.0,101.0,137.0,143.0,141.0,79.0,292.0,178.0,91.0,116.0,86.0,122.0,72.0,129.0,142.0,90.0,158.0,39.0,196.0,222.0,277.0,99.0,196.0,202.0,155.0,77.0,191.0,70.0,73.0,49.0,65.0,263.0,248.0,296.0,214.0,185.0,78.0,93.0,252.0,150.0,77.0,208.0,77.0,108.0,160.0,53.0,220.0,154.0,259.0,90.0,246.0,124.0,67.0,72.0,257.0,262.0,275.0,177.0,71.0,47.0,187.0,125.0,78.0,51.0,258.0,215.0,303.0,243.0,91.0,150.0,310.0,153.0,346.0,63.0,89.0,50.0,39.0,103.0,308.0,116.0,145.0,74.0,45.0,115.0,264.0,87.0,202.0,127.0,182.0,241.0,66.0,94.0,283.0,64.0,102.0,200.0,265.0,94.0,230.0,181.0,156.0,233.0,60.0,219.0,80.0,68.0,332.0,248.0,84.0,200.0,55.0,85.0,89.0,31.0,129.0,83.0,275.0,65.0,198.0,236.0,253.0,124.0,44.0,172.0,114.0,142.0,109.0,180.0,144.0,163.0,147.0,97.0,220.0,190.0,109.0,191.0,122.0,230.0,242.0,248.0,249.0,192.0,131.0,237.0,78.0,135.0,244.0,199.0,270.0,164.0,72.0,96.0,306.0,91.0,214.0,95.0,216.0,263.0,178.0,113.0,200.0,139.0,139.0,88.0,148.0,88.0,243.0,71.0,77.0,109.0,272.0,60.0,54.0,221.0,90.0,311.0,281.0,182.0,321.0,58.0,262.0,206.0,233.0,242.0,123.0,167.0,63.0,197.0,71.0,168.0,140.0,217.0,121.0,235.0,245.0,40.0,52.0,104.0,132.0,88.0,69.0,219.0,72.0,201.0,110.0,51.0,277.0,63.0,118.0,69.0,273.0,258.0,43.0,198.0,242.0,232.0,175.0,93.0,168.0,275.0,293.0,281.0,72.0,140.0,189.0,181.0,209.0,136.0,261.0,113.0,131.0,174.0,257.0,55.0,84.0,42.0,146.0,212.0,233.0,91.0,111.0,152.0,120.0,67.0,310.0,94.0,183.0,66.0,173.0,72.0,49.0,64.0,48.0,178.0,104.0,132.0,220.0,57.0],\"yaxis\":\"y\",\"type\":\"scatter\"},{\"hovertemplate\":\"x=%{x}\\u003cbr\\u003ey=%{y}\\u003cextra\\u003e\\u003c\\u002fextra\\u003e\",\"legendgroup\":\"\",\"line\":{\"color\":\"red\",\"dash\":\"solid\"},\"marker\":{\"symbol\":\"circle\"},\"mode\":\"lines\",\"name\":\"\",\"orientation\":\"v\",\"showlegend\":false,\"x\":[0.061696206518683294,-0.051474061238800654,0.04445121333659049,-0.011595014505211082,-0.03638469220446948,-0.040695940499992665,-0.047162812943277475,-0.0018947058402839008,0.061696206518683294,0.039062152967186486,-0.08380842345522464,0.0175059114895705,-0.028840007687303888,-0.0018947058402839008,-0.02560657146566148,-0.018061886948495892,0.0422955891888289,0.012116851120166501,-0.010517202431330305,-0.018061886948495892,-0.05686312160820465,-0.022373135244019075,-0.004050329988045492,0.06061839444480248,0.03582871674554409,-0.012672826579091896,-0.07734155101193986,0.05954058237092167,-0.0212953231701383,-0.006205954135807083,0.04445121333659049,-0.06548561819925106,0.12528711887765046,-0.050396249164919873,-0.06332999405148947,-0.03099563183506548,0.022894971858974496,0.011039039046285686,0.07139651518361048,0.014272475267928093,-0.008361578283568675,-0.06764124234701265,-0.010517202431330305,-0.023450947317899894,0.0681630789619681,-0.035306880130588664,-0.011595014505211082,-0.07303030271641665,-0.041773752573873474,0.014272475267928093,-0.007283766209687899,0.016428099415689682,-0.00943939035744949,-0.015906262800734303,0.02505059600673609,-0.049318437091039065,0.04121777711494808,-0.06332999405148947,-0.06440780612537028,-0.02560657146566148,-0.004050329988045492,0.004572166603000912,-0.007283766209687899,-0.03746250427835029,-0.02560657146566148,-0.02452875939178067,-0.018061886948495892,-0.014828450726853487,-0.029917819761184662,-0.04608500086939666,-0.06979686649477428,0.03367309259778249,-0.004050329988045492,-0.020217511096257485,0.002416542455239321,-0.03099563183506548,0.028284032228378497,-0.03638469220446948,-0.05794093368208547,-0.03746250427835029,0.012116851120166501,-0.022373135244019075,-0.035306880130588664,0.009961226972404908,-0.039618128426111884,0.07139651518361048,-0.07518592686417827,-0.006205954135807083,-0.040695940499992665,-0.048240625017158284,-0.02560657146566148,0.05199589785375607,0.004572166603000912,-0.06440780612537028,-0.01698407487461508,-0.05794093368208547,0.009961226972404908,0.08864150836570328,-0.0051281420619263066,-0.06440780612537028,0.0175059114895705,-0.04500718879551588,0.028284032228378497,0.04121777711494808,0.06492964274032566,-0.0320734439089463,-0.07626373893805906,0.04984027370599448,0.045529025410471304,-0.00943939035744949,-0.0320734439089463,0.004572166603000912,0.020739347711212906,0.014272475267928093,0.11019774984331929,0.0013387303813585058,0.05846277029704089,-0.0212953231701383,-0.010517202431330305,-0.047162812943277475,0.004572166603000912,0.0175059114895705,0.08109682384853766,0.03475090467166331,0.023972783932855315,-0.008361578283568675,-0.061174369903727877,-0.0018947058402839008,-0.06225218197760866,0.016428099415689682,0.09618619288286882,-0.06979686649477428,-0.0212953231701383,-0.05362968538656229,0.04337340126270967,0.0563071461492793,-0.08165279930746305,0.04984027370599448,0.11127556191720007,0.061696206518683294,0.014272475267928093,0.04768464955823289,0.012116851120166501,0.005649978676881689,0.04660683748435208,0.12852055509929283,0.05954058237092167,0.09295275666122646,0.015350287341808908,-0.0051281420619263066,0.07031870310972965,-0.004050329988045492,-0.0008168937664030856,-0.04392937672163507,0.020739347711212906,0.06061839444480248,-0.010517202431330305,-0.033151255982827074,-0.06548561819925106,0.04337340126270967,-0.06225218197760866,0.06385183066644486,0.030439656376140087,0.0724743272574913,-0.01913969902237667,-0.06656343027313188,-0.06009655782984706,0.06924089103584885,0.05954058237092167,-0.0266843835395423,-0.020217511096257485,-0.04608500086939666,0.07139651518361048,-0.07949717515970146,0.009961226972404908,-0.03854031635223107,0.01966153563733209,0.027206220154497678,-0.008361578283568675,-0.015906262800734303,0.004572166603000912,-0.04285156464775429,0.005649978676881689,-0.035306880130588664,0.023972783932855315,-0.018061886948495892,0.0422955891888289,-0.05470749746044306,-0.002972517914164677,-0.06656343027313188,-0.012672826579091896,-0.041773752573873474,-0.03099563183506548,-0.0051281420619263066,-0.05901874575596628,0.02505059600673609,-0.04608500086939666,0.0034943545291200974,0.05415152200151766,-0.04500718879551588,-0.05794093368208547,-0.05578530953432388,0.0013387303813585058,0.030439656376140087,0.006727790750762504,0.04660683748435208,0.026128408080616904,0.045529025410471304,0.04013996504106731,-0.018061886948495892,0.014272475267928093,0.0369065288194249,0.0034943545291200974,-0.07087467856865506,-0.033151255982827074,0.09403056873510728,0.03582871674554409,0.031517468450020895,-0.06548561819925106,-0.041773752573873474,-0.039618128426111884,-0.03854031635223107,-0.02560657146566148,-0.023450947317899894,-0.06656343027313188,0.032595280523901676,-0.04608500086939666,-0.029917819761184662,-0.012672826579091896,-0.015906262800734303,0.07139651518361048,-0.03099563183506548,0.00026091830747769084,0.0369065288194249,0.039062152967186486,-0.014828450726853487,0.006727790750762504,-0.06871905442089347,-0.00943939035744949,0.01966153563733209,0.07462995140525285,-0.008361578283568675,-0.023450947317899894,-0.04608500086939666,0.05415152200151766,-0.035306880130588664,-0.0320734439089463,-0.08165279930746305,0.04768464955823289,0.06061839444480248,0.0563071461492793,0.09834181703063047,0.05954058237092167,0.03367309259778249,0.0563071461492793,-0.06548561819925106,0.16085491731571683,-0.05578530953432388,-0.02452875939178067,-0.03638469220446948,-0.008361578283568675,-0.041773752573873474,0.1274427430254121,-0.07734155101193986,0.028284032228378497,-0.02560657146566148,-0.06225218197760866,-0.0008168937664030856,0.08864150836570328,-0.0320734439089463,0.030439656376140087,0.008883414898524095,0.006727790750762504,-0.020217511096257485,-0.02452875939178067,-0.011595014505211082,0.026128408080616904,-0.05901874575596628,-0.03638469220446948,-0.02452875939178067,0.018583723563451313,-0.09027529589850945,-0.0051281420619263066,-0.05255187331268147,-0.022373135244019075,-0.020217511096257485,-0.05470749746044306,-0.006205954135807083,-0.01698407487461508,0.055229334075398484,0.07678557555301448,0.018583723563451313,-0.022373135244019075,0.09295275666122646,-0.03099563183506548,0.039062152967186486,-0.061174369903727877,-0.008361578283568675,-0.03746250427835029,-0.013750638652972673,0.0735521393313721,-0.02452875939178067,0.03367309259778249,0.03475090467166331,-0.03854031635223107,-0.039618128426111884,-0.0018947058402839008,-0.03099563183506548,-0.04608500086939666,0.0013387303813585058,0.06492964274032566,0.04013996504106731,-0.023450947317899894,0.053073709927636895,0.04013996504106731,-0.020217511096257485,0.014272475267928093,-0.03422906805670789,0.006727790750762504,0.004572166603000912,0.030439656376140087,0.05199589785375607,0.061696206518683294,-0.007283766209687899,0.005649978676881689,0.05415152200151766,-0.008361578283568675,0.11450899813884247,0.0670852668880873,-0.05578530953432388,0.030439656376140087,-0.02560657146566148,0.10480868947391528,-0.006205954135807083,-0.047162812943277475,-0.048240625017158284,0.08540807214406083,-0.012672826579091896,-0.033151255982827074,-0.007283766209687899,-0.013750638652972673,0.05954058237092167,0.021817159785093684,0.018583723563451313,-0.011595014505211082,-0.002972517914164677,0.0175059114895705,-0.029917819761184662,-0.020217511096257485,-0.05794093368208547,0.06061839444480248,-0.040695940499992665,-0.07195249064253588,-0.05578530953432388,0.045529025410471304,-0.00943939035744949,-0.033151255982827074,0.04984027370599448,-0.08488623552910546,0.005649978676881689,0.020739347711212906,-0.007283766209687899,0.10480868947391528,-0.02452875939178067,-0.006205954135807083,-0.03854031635223107,0.13714305169033927,0.17055522598064407,0.002416542455239321,0.03798434089330568,-0.05794093368208547,-0.00943939035744949,-0.023450947317899894,-0.010517202431330305,-0.03422906805670789,-0.002972517914164677,0.0681630789619681,0.009961226972404908,0.002416542455239321,-0.03854031635223107,0.026128408080616904,-0.08919748382462865,0.06061839444480248,-0.028840007687303888,-0.029917819761184662,-0.01913969902237667,-0.040695940499992665,0.015350287341808908,-0.02452875939178067,0.0013387303813585058,0.06924089103584885,-0.06979686649477428,-0.029917819761184662,-0.04608500086939666,0.018583723563451313,0.0013387303813585058,-0.03099563183506548,-0.004050329988045492,0.015350287341808908,0.022894971858974496,0.045529025410471304,-0.04500718879551588,-0.033151255982827074,0.09726400495674965,0.05415152200151766,0.12313149472988882,-0.08057498723358228,0.09295275666122646,-0.050396249164919873,-0.011595014505211082,-0.027762195613423073,0.05846277029704089,0.08540807214406083,-0.0008168937664030856,0.006727790750762504,0.008883414898524095,0.08001901177465684,0.07139651518361048,-0.02452875939178067,-0.05470749746044306,-0.03638469220446948,0.016428099415689682,0.07786338762689529,-0.039618128426111884,0.011039039046285686,-0.040695940499992665,-0.03422906805670789,0.005649978676881689,0.08864150836570328,-0.033151255982827074,-0.05686312160820465,-0.03099563183506548,0.055229334075398484,-0.06009655782984706,0.0013387303813585058,-0.023450947317899894,-0.07410811479029747,0.01966153563733209,-0.015906262800734303,-0.015906262800734303,0.039062152967186486,-0.07303030271641665],\"xaxis\":\"x\",\"y\":[210.0762348307816,103.79098687629062,193.88038752343058,141.24388377453982,117.96235327022274,113.913391443385,107.83994870312836,150.35404788492474,210.0762348307816,188.81918523988338,73.42377317500748,168.57437610569463,125.0480364671888,150.35404788492474,128.0847578373171,135.1704410342832,191.85590661001171,163.51317382214745,142.25612423124923,135.1704410342832,98.72978459274344,131.12147920744545,148.32956697150587,209.06399437407217,185.78246386975508,140.23164331783036,79.49721591526409,208.0517539173627,132.13371966415485,146.305086058087,193.88038752343058,90.63186093906792,269.79842177663846,104.80322733300005,92.65634185248679,123.02355555376992,173.63557838924183,162.500933365438,219.18639894116654,165.53765473556632,144.28060514466813,88.60738002564906,142.25612423124923,130.10923875073598,216.14967757103824,118.9745937269322,141.24388377453982,83.54617774210185,112.90115098667555,165.53765473556632,145.29284560137756,167.5621356489852,143.2683646879587,137.19492194770206,175.6600593026607,105.81546778970949,190.84366615330228,92.65634185248679,91.64410139577734,128.0847578373171,148.32956697150587,156.42749062518138,145.29284560137756,116.9501128135133,128.0847578373171,129.09699829402658,135.1704410342832,138.2071624044115,124.03579601047939,108.8521891598378,86.58289911223015,183.7579829563362,148.32956697150587,133.14596012086432,154.4030097117625,123.02355555376992,178.69678067278903,117.96235327022274,97.71754413603398,116.9501128135133,163.51317382214745,131.12147920744545,118.9745937269322,161.48869290872858,114.92563190009442,219.18639894116654,81.52169682868296,146.305086058087,113.913391443385,106.82770824641891,128.0847578373171,200.96607072039666,156.42749062518138,91.64410139577734,136.18268149099262,97.71754413603398,161.48869290872858,235.38224624851756,147.31732651479643,91.64410139577734,168.57437610569463,109.86442961654723,178.69678067278903,190.84366615330228,213.11295620090988,122.01131509706047,80.50945637197353,198.9415898069778,194.89262798014005,143.2683646879587,122.01131509706047,156.42749062518138,171.61109747582296,165.53765473556632,255.62705538270632,153.39076925505307,207.0395134606533,132.13371966415485,142.25612423124923,107.83994870312836,156.42749062518138,168.57437610569463,228.29656305155146,184.77022341304567,174.6478188459513,144.28060514466813,94.68082276590565,150.35404788492474,93.66858230919624,167.5621356489852,242.46792944548358,86.58289911223015,132.13371966415485,101.76650596287172,192.86814706672112,205.01503254723443,75.44825408842635,198.9415898069778,256.63929583941575,210.0762348307816,165.53765473556632,196.91710889355892,163.51317382214745,157.4397310818908,195.90486843684945,272.83514314676677,208.0517539173627,239.4312080753553,166.54989519227576,147.31732651479643,218.17415848445708,148.32956697150587,151.3662883416342,110.87667007325668,171.61109747582296,209.06399437407217,142.25612423124923,120.99907464035105,90.63186093906792,192.86814706672112,93.66858230919624,212.10071574420044,180.7212615862079,220.19863939787598,134.15820057757375,89.61962048235846,95.69306322261511,217.16191802774762,208.0517539173627,127.07251738060766,133.14596012086432,108.8521891598378,219.18639894116654,77.47273500184521,161.48869290872858,115.93787235680387,170.5988570191135,177.68454021607957,144.28060514466813,137.19492194770206,156.42749062518138,111.8889105299661,157.4397310818908,118.9745937269322,174.6478188459513,135.1704410342832,191.85590661001171,100.75426550616231,149.34180742821533,89.61962048235846,140.23164331783036,112.90115098667555,123.02355555376992,147.31732651479643,96.70530367932453,175.6600593026607,108.8521891598378,155.41525016847194,202.99055163381553,109.86442961654723,97.71754413603398,99.74202504945285,153.39076925505307,180.7212615862079,158.45197153860025,195.90486843684945,176.67229975937016,194.89262798014005,189.83142569659285,135.1704410342832,165.53765473556632,186.7947043264645,155.41525016847194,85.57065865552072,120.99907464035105,240.44344853206474,185.78246386975508,181.73350204291734,90.63186093906792,112.90115098667555,114.92563190009442,115.93787235680387,128.0847578373171,130.10923875073598,89.61962048235846,182.74574249962674,108.8521891598378,124.03579601047939,140.23164331783036,137.19492194770206,219.18639894116654,123.02355555376992,152.3785287983436,186.7947043264645,188.81918523988338,138.2071624044115,158.45197153860025,87.59513956893959,143.2683646879587,170.5988570191135,222.22312031129482,144.28060514466813,130.10923875073598,108.8521891598378,202.99055163381553,118.9745937269322,122.01131509706047,75.44825408842635,196.91710889355892,209.06399437407217,205.01503254723443,244.49241035890248,208.0517539173627,183.7579829563362,205.01503254723443,90.63186093906792,303.2023568480499,99.74202504945285,129.09699829402658,117.96235327022274,144.28060514466813,112.90115098667555,271.82290269005733,79.49721591526409,178.69678067278903,128.0847578373171,93.66858230919624,151.3662883416342,235.38224624851756,122.01131509706047,180.7212615862079,160.47645245201912,158.45197153860025,133.14596012086432,129.09699829402658,141.24388377453982,176.67229975937016,96.70530367932453,117.96235327022274,129.09699829402658,169.5866165624041,67.35033043475084,147.31732651479643,102.77874641958117,131.12147920744545,133.14596012086432,100.75426550616231,146.305086058087,136.18268149099262,204.00279209052496,224.24760122471372,169.5866165624041,131.12147920744545,239.4312080753553,123.02355555376992,188.81918523988338,94.68082276590565,144.28060514466813,116.9501128135133,139.21940286112095,221.21087985458544,129.09699829402658,183.7579829563362,184.77022341304567,115.93787235680387,114.92563190009442,150.35404788492474,123.02355555376992,108.8521891598378,153.39076925505307,213.11295620090988,189.83142569659285,130.10923875073598,201.9783111771061,189.83142569659285,133.14596012086432,165.53765473556632,119.9868341836416,158.45197153860025,156.42749062518138,180.7212615862079,200.96607072039666,210.0762348307816,145.29284560137756,157.4397310818908,202.99055163381553,144.28060514466813,259.67601720954406,215.1374371143288,99.74202504945285,180.7212615862079,128.0847578373171,250.56585309915914,146.305086058087,107.83994870312836,106.82770824641891,232.3455248783892,140.23164331783036,120.99907464035105,145.29284560137756,139.21940286112095,208.0517539173627,172.62333793253237,169.5866165624041,141.24388377453982,149.34180742821533,168.57437610569463,124.03579601047939,133.14596012086432,97.71754413603398,209.06399437407217,113.913391443385,84.55841819881127,99.74202504945285,194.89262798014005,143.2683646879587,120.99907464035105,198.9415898069778,72.41153271829802,157.4397310818908,171.61109747582296,145.29284560137756,250.56585309915914,129.09699829402658,146.305086058087,115.93787235680387,280.93306680044225,312.3125209584349,154.4030097117625,187.80694478317395,97.71754413603398,143.2683646879587,130.10923875073598,142.25612423124923,119.9868341836416,149.34180742821533,216.14967757103824,161.48869290872858,154.4030097117625,115.93787235680387,176.67229975937016,68.36257089146028,209.06399437407217,125.0480364671888,124.03579601047939,134.15820057757375,113.913391443385,166.54989519227576,129.09699829402658,153.39076925505307,217.16191802774762,86.58289911223015,124.03579601047939,108.8521891598378,169.5866165624041,153.39076925505307,123.02355555376992,148.32956697150587,166.54989519227576,173.63557838924183,194.89262798014005,109.86442961654723,120.99907464035105,243.48016990219304,202.99055163381553,267.77394086321954,76.46049454513576,239.4312080753553,104.80322733300005,141.24388377453982,126.06027692389824,207.0395134606533,232.3455248783892,151.3662883416342,158.45197153860025,160.47645245201912,227.28432259484202,219.18639894116654,129.09699829402658,100.75426550616231,117.96235327022274,167.5621356489852,225.25984168142318,114.92563190009442,162.500933365438,113.913391443385,119.9868341836416,157.4397310818908,235.38224624851756,120.99907464035105,98.72978459274344,123.02355555376992,204.00279209052496,95.69306322261511,153.39076925505307,130.10923875073598,82.5339372853924,170.5988570191135,137.19492194770206,137.19492194770206,188.81918523988338,83.54617774210185],\"yaxis\":\"y\",\"type\":\"scatter\"}],                        {\"template\":{\"data\":{\"histogram2dcontour\":[{\"type\":\"histogram2dcontour\",\"colorbar\":{\"outlinewidth\":0,\"ticks\":\"\"},\"colorscale\":[[0.0,\"#0d0887\"],[0.1111111111111111,\"#46039f\"],[0.2222222222222222,\"#7201a8\"],[0.3333333333333333,\"#9c179e\"],[0.4444444444444444,\"#bd3786\"],[0.5555555555555556,\"#d8576b\"],[0.6666666666666666,\"#ed7953\"],[0.7777777777777778,\"#fb9f3a\"],[0.8888888888888888,\"#fdca26\"],[1.0,\"#f0f921\"]]}],\"choropleth\":[{\"type\":\"choropleth\",\"colorbar\":{\"outlinewidth\":0,\"ticks\":\"\"}}],\"histogram2d\":[{\"type\":\"histogram2d\",\"colorbar\":{\"outlinewidth\":0,\"ticks\":\"\"},\"colorscale\":[[0.0,\"#0d0887\"],[0.1111111111111111,\"#46039f\"],[0.2222222222222222,\"#7201a8\"],[0.3333333333333333,\"#9c179e\"],[0.4444444444444444,\"#bd3786\"],[0.5555555555555556,\"#d8576b\"],[0.6666666666666666,\"#ed7953\"],[0.7777777777777778,\"#fb9f3a\"],[0.8888888888888888,\"#fdca26\"],[1.0,\"#f0f921\"]]}],\"heatmap\":[{\"type\":\"heatmap\",\"colorbar\":{\"outlinewidth\":0,\"ticks\":\"\"},\"colorscale\":[[0.0,\"#0d0887\"],[0.1111111111111111,\"#46039f\"],[0.2222222222222222,\"#7201a8\"],[0.3333333333333333,\"#9c179e\"],[0.4444444444444444,\"#bd3786\"],[0.5555555555555556,\"#d8576b\"],[0.6666666666666666,\"#ed7953\"],[0.7777777777777778,\"#fb9f3a\"],[0.8888888888888888,\"#fdca26\"],[1.0,\"#f0f921\"]]}],\"heatmapgl\":[{\"type\":\"heatmapgl\",\"colorbar\":{\"outlinewidth\":0,\"ticks\":\"\"},\"colorscale\":[[0.0,\"#0d0887\"],[0.1111111111111111,\"#46039f\"],[0.2222222222222222,\"#7201a8\"],[0.3333333333333333,\"#9c179e\"],[0.4444444444444444,\"#bd3786\"],[0.5555555555555556,\"#d8576b\"],[0.6666666666666666,\"#ed7953\"],[0.7777777777777778,\"#fb9f3a\"],[0.8888888888888888,\"#fdca26\"],[1.0,\"#f0f921\"]]}],\"contourcarpet\":[{\"type\":\"contourcarpet\",\"colorbar\":{\"outlinewidth\":0,\"ticks\":\"\"}}],\"contour\":[{\"type\":\"contour\",\"colorbar\":{\"outlinewidth\":0,\"ticks\":\"\"},\"colorscale\":[[0.0,\"#0d0887\"],[0.1111111111111111,\"#46039f\"],[0.2222222222222222,\"#7201a8\"],[0.3333333333333333,\"#9c179e\"],[0.4444444444444444,\"#bd3786\"],[0.5555555555555556,\"#d8576b\"],[0.6666666666666666,\"#ed7953\"],[0.7777777777777778,\"#fb9f3a\"],[0.8888888888888888,\"#fdca26\"],[1.0,\"#f0f921\"]]}],\"surface\":[{\"type\":\"surface\",\"colorbar\":{\"outlinewidth\":0,\"ticks\":\"\"},\"colorscale\":[[0.0,\"#0d0887\"],[0.1111111111111111,\"#46039f\"],[0.2222222222222222,\"#7201a8\"],[0.3333333333333333,\"#9c179e\"],[0.4444444444444444,\"#bd3786\"],[0.5555555555555556,\"#d8576b\"],[0.6666666666666666,\"#ed7953\"],[0.7777777777777778,\"#fb9f3a\"],[0.8888888888888888,\"#fdca26\"],[1.0,\"#f0f921\"]]}],\"mesh3d\":[{\"type\":\"mesh3d\",\"colorbar\":{\"outlinewidth\":0,\"ticks\":\"\"}}],\"scatter\":[{\"fillpattern\":{\"fillmode\":\"overlay\",\"size\":10,\"solidity\":0.2},\"type\":\"scatter\"}],\"parcoords\":[{\"type\":\"parcoords\",\"line\":{\"colorbar\":{\"outlinewidth\":0,\"ticks\":\"\"}}}],\"scatterpolargl\":[{\"type\":\"scatterpolargl\",\"marker\":{\"colorbar\":{\"outlinewidth\":0,\"ticks\":\"\"}}}],\"bar\":[{\"error_x\":{\"color\":\"#2a3f5f\"},\"error_y\":{\"color\":\"#2a3f5f\"},\"marker\":{\"line\":{\"color\":\"#E5ECF6\",\"width\":0.5},\"pattern\":{\"fillmode\":\"overlay\",\"size\":10,\"solidity\":0.2}},\"type\":\"bar\"}],\"scattergeo\":[{\"type\":\"scattergeo\",\"marker\":{\"colorbar\":{\"outlinewidth\":0,\"ticks\":\"\"}}}],\"scatterpolar\":[{\"type\":\"scatterpolar\",\"marker\":{\"colorbar\":{\"outlinewidth\":0,\"ticks\":\"\"}}}],\"histogram\":[{\"marker\":{\"pattern\":{\"fillmode\":\"overlay\",\"size\":10,\"solidity\":0.2}},\"type\":\"histogram\"}],\"scattergl\":[{\"type\":\"scattergl\",\"marker\":{\"colorbar\":{\"outlinewidth\":0,\"ticks\":\"\"}}}],\"scatter3d\":[{\"type\":\"scatter3d\",\"line\":{\"colorbar\":{\"outlinewidth\":0,\"ticks\":\"\"}},\"marker\":{\"colorbar\":{\"outlinewidth\":0,\"ticks\":\"\"}}}],\"scattermapbox\":[{\"type\":\"scattermapbox\",\"marker\":{\"colorbar\":{\"outlinewidth\":0,\"ticks\":\"\"}}}],\"scatterternary\":[{\"type\":\"scatterternary\",\"marker\":{\"colorbar\":{\"outlinewidth\":0,\"ticks\":\"\"}}}],\"scattercarpet\":[{\"type\":\"scattercarpet\",\"marker\":{\"colorbar\":{\"outlinewidth\":0,\"ticks\":\"\"}}}],\"carpet\":[{\"aaxis\":{\"endlinecolor\":\"#2a3f5f\",\"gridcolor\":\"white\",\"linecolor\":\"white\",\"minorgridcolor\":\"white\",\"startlinecolor\":\"#2a3f5f\"},\"baxis\":{\"endlinecolor\":\"#2a3f5f\",\"gridcolor\":\"white\",\"linecolor\":\"white\",\"minorgridcolor\":\"white\",\"startlinecolor\":\"#2a3f5f\"},\"type\":\"carpet\"}],\"table\":[{\"cells\":{\"fill\":{\"color\":\"#EBF0F8\"},\"line\":{\"color\":\"white\"}},\"header\":{\"fill\":{\"color\":\"#C8D4E3\"},\"line\":{\"color\":\"white\"}},\"type\":\"table\"}],\"barpolar\":[{\"marker\":{\"line\":{\"color\":\"#E5ECF6\",\"width\":0.5},\"pattern\":{\"fillmode\":\"overlay\",\"size\":10,\"solidity\":0.2}},\"type\":\"barpolar\"}],\"pie\":[{\"automargin\":true,\"type\":\"pie\"}]},\"layout\":{\"autotypenumbers\":\"strict\",\"colorway\":[\"#636efa\",\"#EF553B\",\"#00cc96\",\"#ab63fa\",\"#FFA15A\",\"#19d3f3\",\"#FF6692\",\"#B6E880\",\"#FF97FF\",\"#FECB52\"],\"font\":{\"color\":\"#2a3f5f\"},\"hovermode\":\"closest\",\"hoverlabel\":{\"align\":\"left\"},\"paper_bgcolor\":\"white\",\"plot_bgcolor\":\"#E5ECF6\",\"polar\":{\"bgcolor\":\"#E5ECF6\",\"angularaxis\":{\"gridcolor\":\"white\",\"linecolor\":\"white\",\"ticks\":\"\"},\"radialaxis\":{\"gridcolor\":\"white\",\"linecolor\":\"white\",\"ticks\":\"\"}},\"ternary\":{\"bgcolor\":\"#E5ECF6\",\"aaxis\":{\"gridcolor\":\"white\",\"linecolor\":\"white\",\"ticks\":\"\"},\"baxis\":{\"gridcolor\":\"white\",\"linecolor\":\"white\",\"ticks\":\"\"},\"caxis\":{\"gridcolor\":\"white\",\"linecolor\":\"white\",\"ticks\":\"\"}},\"coloraxis\":{\"colorbar\":{\"outlinewidth\":0,\"ticks\":\"\"}},\"colorscale\":{\"sequential\":[[0.0,\"#0d0887\"],[0.1111111111111111,\"#46039f\"],[0.2222222222222222,\"#7201a8\"],[0.3333333333333333,\"#9c179e\"],[0.4444444444444444,\"#bd3786\"],[0.5555555555555556,\"#d8576b\"],[0.6666666666666666,\"#ed7953\"],[0.7777777777777778,\"#fb9f3a\"],[0.8888888888888888,\"#fdca26\"],[1.0,\"#f0f921\"]],\"sequentialminus\":[[0.0,\"#0d0887\"],[0.1111111111111111,\"#46039f\"],[0.2222222222222222,\"#7201a8\"],[0.3333333333333333,\"#9c179e\"],[0.4444444444444444,\"#bd3786\"],[0.5555555555555556,\"#d8576b\"],[0.6666666666666666,\"#ed7953\"],[0.7777777777777778,\"#fb9f3a\"],[0.8888888888888888,\"#fdca26\"],[1.0,\"#f0f921\"]],\"diverging\":[[0,\"#8e0152\"],[0.1,\"#c51b7d\"],[0.2,\"#de77ae\"],[0.3,\"#f1b6da\"],[0.4,\"#fde0ef\"],[0.5,\"#f7f7f7\"],[0.6,\"#e6f5d0\"],[0.7,\"#b8e186\"],[0.8,\"#7fbc41\"],[0.9,\"#4d9221\"],[1,\"#276419\"]]},\"xaxis\":{\"gridcolor\":\"white\",\"linecolor\":\"white\",\"ticks\":\"\",\"title\":{\"standoff\":15},\"zerolinecolor\":\"white\",\"automargin\":true,\"zerolinewidth\":2},\"yaxis\":{\"gridcolor\":\"white\",\"linecolor\":\"white\",\"ticks\":\"\",\"title\":{\"standoff\":15},\"zerolinecolor\":\"white\",\"automargin\":true,\"zerolinewidth\":2},\"scene\":{\"xaxis\":{\"backgroundcolor\":\"#E5ECF6\",\"gridcolor\":\"white\",\"linecolor\":\"white\",\"showbackground\":true,\"ticks\":\"\",\"zerolinecolor\":\"white\",\"gridwidth\":2},\"yaxis\":{\"backgroundcolor\":\"#E5ECF6\",\"gridcolor\":\"white\",\"linecolor\":\"white\",\"showbackground\":true,\"ticks\":\"\",\"zerolinecolor\":\"white\",\"gridwidth\":2},\"zaxis\":{\"backgroundcolor\":\"#E5ECF6\",\"gridcolor\":\"white\",\"linecolor\":\"white\",\"showbackground\":true,\"ticks\":\"\",\"zerolinecolor\":\"white\",\"gridwidth\":2}},\"shapedefaults\":{\"line\":{\"color\":\"#2a3f5f\"}},\"annotationdefaults\":{\"arrowcolor\":\"#2a3f5f\",\"arrowhead\":0,\"arrowwidth\":1},\"geo\":{\"bgcolor\":\"white\",\"landcolor\":\"#E5ECF6\",\"subunitcolor\":\"white\",\"showland\":true,\"showlakes\":true,\"lakecolor\":\"white\"},\"title\":{\"x\":0.05},\"mapbox\":{\"style\":\"light\"}}},\"xaxis\":{\"anchor\":\"y\",\"domain\":[0.0,1.0],\"title\":{\"text\":\"BMI\"}},\"yaxis\":{\"anchor\":\"x\",\"domain\":[0.0,1.0],\"title\":{\"text\":\"target\"}},\"legend\":{\"tracegroupgap\":0},\"margin\":{\"t\":60}},                        {\"responsive\": true}                    ).then(function(){\n",
              "                            \n",
              "var gd = document.getElementById('07c7ab5c-3d8b-4f5e-b273-f316f9058b9c');\n",
              "var x = new MutationObserver(function (mutations, observer) {{\n",
              "        var display = window.getComputedStyle(gd).display;\n",
              "        if (!display || display === 'none') {{\n",
              "            console.log([gd, 'removed!']);\n",
              "            Plotly.purge(gd);\n",
              "            observer.disconnect();\n",
              "        }}\n",
              "}});\n",
              "\n",
              "// Listen for the removal of the full notebook cells\n",
              "var notebookContainer = gd.closest('#notebook-container');\n",
              "if (notebookContainer) {{\n",
              "    x.observe(notebookContainer, {childList: true});\n",
              "}}\n",
              "\n",
              "// Listen for the clearing of the current output cell\n",
              "var outputEl = gd.closest('.output');\n",
              "if (outputEl) {{\n",
              "    x.observe(outputEl, {childList: true});\n",
              "}}\n",
              "\n",
              "                        })                };                            </script>        </div>\n",
              "</body>\n",
              "</html>"
            ]
          },
          "metadata": {}
        }
      ]
    },
    {
      "cell_type": "markdown",
      "metadata": {
        "id": "_zsSa40s1xZS"
      },
      "source": [
        "**We've got a nice regression this time!**"
      ]
    }
  ]
}